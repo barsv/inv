{
 "cells": [
  {
   "cell_type": "code",
   "execution_count": null,
   "metadata": {},
   "outputs": [],
   "source": [
    "# в этом ноутбуке я считаю профиты для лонг трейдов со скользящим стоплоссом.\n",
    "# собираюсь использовать это как раметку данных.\n",
    "import pandas as pd\n",
    "import numpy as np\n",
    "import pandas_ta as ta\n",
    "import forecast\n",
    "\n",
    "trailing_stop_loss_percent = 0.1"
   ]
  },
  {
   "cell_type": "code",
   "execution_count": null,
   "metadata": {},
   "outputs": [],
   "source": [
    "df = forecast.get_df('BTCUSD', '', '1T')"
   ]
  },
  {
   "cell_type": "code",
   "execution_count": null,
   "metadata": {},
   "outputs": [],
   "source": [
    "def get_trailing_stop_loss_long_profits():\n",
    "    opens = df['open'].to_numpy()\n",
    "    highs = df['high'].to_numpy()\n",
    "    lows = df['low'].to_numpy()\n",
    "    closes = df['close'].to_numpy()\n",
    "\n",
    "    n = len(opens)\n",
    "    i = 0\n",
    "    profits = []\n",
    "    while i < n:\n",
    "        #print(i)\n",
    "        max = highs[i]\n",
    "        max_i = i\n",
    "        sl = max * (1 - 0.01 * trailing_stop_loss_percent)\n",
    "        # starting from the current position look forward for trailing stop loss closing.\n",
    "        j = i\n",
    "        while j < n:\n",
    "            # if there is a new max then save it, it's position and recalculate trailing stop loss.\n",
    "            if max < highs[j]:\n",
    "                max = highs[j]\n",
    "                max_i = j\n",
    "                sl = max * (1 - 0.01 * trailing_stop_loss_percent)\n",
    "            # if price went lower than current stop loss then assume that the position was closed at the stop loss price.\n",
    "            if lows[j] < sl or j == n - 1:\n",
    "                profits.append(sl - opens[i])\n",
    "                # all openings between the current opening and the max_i will be closed on the same stop loss position.\n",
    "                while i < max_i:\n",
    "                    i += 1\n",
    "                    profits.append(sl - opens[i])\n",
    "                break # break from while j loop.\n",
    "            j += 1\n",
    "        i += 1\n",
    "    return profits\n",
    "\n",
    "profits = get_trailing_stop_loss_long_profits()\n",
    "# print(len(df))\n",
    "# print(len(profits))"
   ]
  },
  {
   "cell_type": "code",
   "execution_count": null,
   "metadata": {},
   "outputs": [],
   "source": [
    "df['profits'] = profits\n",
    "\n",
    "import matplotlib.pyplot as plt\n",
    "import mplfinance as mpf\n",
    "\n",
    "customstyle = mpf.make_mpf_style(base_mpf_style='yahoo', facecolor='w')\n",
    "dpi = 96\n",
    "# магические числа 1.232 и 1.352 подобраны методом тыка, чтобы сохраненный png был ровно 1024x768.\n",
    "# магические числа 1.285 и 1.352 подобраны методом тыка, чтобы сохраненный png был ровно 1536x768.\n",
    "width_in_inches = (1024 * 1.232) / dpi\n",
    "height_in_inches = (768 * 1.352) / dpi\n",
    "\n",
    "df_slice = df[-1700:-1400]\n",
    "\n",
    "apdict = [\n",
    "    mpf.make_addplot(df_slice['open'] + df_slice['profits'], panel=0, color='black'),\n",
    "    mpf.make_addplot(df_slice['open'] * (1 - trailing_stop_loss_percent * 0.01), panel=0, color='blue'),\n",
    "    mpf.make_addplot(df_slice['profits'], panel=2, color='black'),\n",
    "    ]\n",
    "\n",
    "# отрисовка.\n",
    "fig, ax = mpf.plot(\n",
    "    df_slice,\n",
    "    type='candle',\n",
    "    volume=True, \n",
    "    style=customstyle,\n",
    "    figsize=(width_in_inches, height_in_inches),\n",
    "    returnfig=True, # это надо, чтобы mpf.plot вернул fix, ax.\n",
    "    # разворот подписей по оси X, т.к. в документации openai написано, что повернутый текст он плохо читает (наверное \n",
    "    # умышленно порезана модель, чтобы нельзя было ее использовать для распознавания капчи)\n",
    "    xrotation=0, \n",
    "    #return_width_config=wconfig,\n",
    "    update_width_config={'volume_width': 0.75, 'candle_width': 0.75, 'candle_linewidth': 1},\n",
    "    addplot=apdict\n",
    "    )\n"
   ]
  }
 ],
 "metadata": {
  "kernelspec": {
   "display_name": "venv",
   "language": "python",
   "name": "python3"
  },
  "language_info": {
   "codemirror_mode": {
    "name": "ipython",
    "version": 3
   },
   "file_extension": ".py",
   "mimetype": "text/x-python",
   "name": "python",
   "nbconvert_exporter": "python",
   "pygments_lexer": "ipython3",
   "version": "3.10.12"
  }
 },
 "nbformat": 4,
 "nbformat_minor": 2
}
