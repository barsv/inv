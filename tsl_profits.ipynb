{
 "cells": [
  {
   "cell_type": "code",
   "execution_count": 1,
   "metadata": {},
   "outputs": [],
   "source": [
    "# в этом ноутбуке я считаю профиты для лонг трейдов со скользящим стоплоссом.\n",
    "# собираюсь использовать это как раметку данных.\n",
    "import pandas as pd\n",
    "import numpy as np\n",
    "import pandas_ta as ta\n",
    "import forecast\n",
    "from quote_chart import create_chart_app\n",
    "from plotly.subplots import make_subplots\n",
    "import plotly.graph_objects as go\n",
    "from datetime import datetime\n",
    "from tsl import get_trailing_stop_loss_long_profits\n",
    "\n",
    "fee_percent = 0.07\n",
    "\n",
    "trailing_stop_loss_percent = 0.15"
   ]
  },
  {
   "cell_type": "code",
   "execution_count": 2,
   "metadata": {},
   "outputs": [],
   "source": [
    "data = forecast.get_df('BTCUSD', '', '1T')"
   ]
  },
  {
   "cell_type": "code",
   "execution_count": 3,
   "metadata": {},
   "outputs": [],
   "source": [
    "def get_volatility():\n",
    "    df = data\n",
    "    closes = df['close']\n",
    "    return np.abs(np.log(closes/closes.shift(1)))\n",
    "volatility = get_volatility()\n",
    "data['volatility'] = volatility\n",
    "data['volatility_ema'] = ta.ema(volatility, 20)\n",
    "data['volatility_ema1k'] = ta.ema(volatility, 10*1000)\n",
    "data['volatility_multiplier'] = (1+data['volatility_ema']/data['volatility_ema1k']) **1.5"
   ]
  },
  {
   "cell_type": "code",
   "execution_count": 4,
   "metadata": {},
   "outputs": [],
   "source": [
    "dc = ta.donchian(data['high'], data['low'], lower_length=20, upper_length=20)\n",
    "dclow, dcmid, dcup = dc[dc.columns[0]], dc[dc.columns[1]], dc[dc.columns[2]]\n",
    "data['dclow'] = dclow"
   ]
  },
  {
   "cell_type": "code",
   "execution_count": 8,
   "metadata": {},
   "outputs": [
    {
     "name": "stdout",
     "output_type": "stream",
     "text": [
      "0\n",
      "2\n",
      "3\n",
      "9\n",
      "10\n",
      "11\n",
      "12\n",
      "16\n",
      "17\n",
      "18\n",
      "19\n",
      "20\n",
      "29\n"
     ]
    },
    {
     "ename": "IndexError",
     "evalue": "list index out of range",
     "output_type": "error",
     "traceback": [
      "\u001b[0;31m---------------------------------------------------------------------------\u001b[0m",
      "\u001b[0;31mIndexError\u001b[0m                                Traceback (most recent call last)",
      "Cell \u001b[0;32mIn[8], line 1\u001b[0m\n\u001b[0;32m----> 1\u001b[0m (profits, stop_loss_prices, maximums) \u001b[38;5;241m=\u001b[39m \u001b[43mget_trailing_stop_loss_long_profits\u001b[49m\u001b[43m(\u001b[49m\u001b[43mdata\u001b[49m\u001b[43m)\u001b[49m\n\u001b[1;32m      2\u001b[0m data[\u001b[38;5;124m'\u001b[39m\u001b[38;5;124mprofit\u001b[39m\u001b[38;5;124m'\u001b[39m] \u001b[38;5;241m=\u001b[39m profits\n\u001b[1;32m      3\u001b[0m data[\u001b[38;5;124m'\u001b[39m\u001b[38;5;124mstop_loss_price\u001b[39m\u001b[38;5;124m'\u001b[39m] \u001b[38;5;241m=\u001b[39m stop_loss_prices\n",
      "File \u001b[0;32m~/src/inv/tsl.py:95\u001b[0m, in \u001b[0;36mget_trailing_stop_loss_long_profits\u001b[0;34m(df)\u001b[0m\n\u001b[1;32m     93\u001b[0m \u001b[38;5;28;01mwhile\u001b[39;00m x \u001b[38;5;241m<\u001b[39m\u001b[38;5;241m=\u001b[39m max_high_x:\n\u001b[1;32m     94\u001b[0m     profits\u001b[38;5;241m.\u001b[39mappend(sl_price \u001b[38;5;241m-\u001b[39m opens[x])\n\u001b[0;32m---> 95\u001b[0m     stop_loss_prices\u001b[38;5;241m.\u001b[39mappend(\u001b[43mlocal_stop_loss_prices\u001b[49m\u001b[43m[\u001b[49m\u001b[43mx\u001b[49m\u001b[43m \u001b[49m\u001b[38;5;241;43m-\u001b[39;49m\u001b[43m \u001b[49m\u001b[43mx0\u001b[49m\u001b[43m]\u001b[49m)\n\u001b[1;32m     96\u001b[0m     maximums\u001b[38;5;241m.\u001b[39mappend(local_maximums[x \u001b[38;5;241m-\u001b[39m x0])\n\u001b[1;32m     97\u001b[0m     x \u001b[38;5;241m+\u001b[39m\u001b[38;5;241m=\u001b[39m \u001b[38;5;241m1\u001b[39m\n",
      "\u001b[0;31mIndexError\u001b[0m: list index out of range"
     ]
    }
   ],
   "source": [
    "(profits, stop_loss_prices, maximums) = get_trailing_stop_loss_long_profits(data)\n",
    "data['profit'] = profits\n",
    "data['stop_loss_price'] = stop_loss_prices\n",
    "data['maximum'] = maximums"
   ]
  },
  {
   "cell_type": "code",
   "execution_count": null,
   "metadata": {},
   "outputs": [
    {
     "data": {
      "text/plain": [
       "568800"
      ]
     },
     "execution_count": 15,
     "metadata": {},
     "output_type": "execute_result"
    }
   ],
   "source": [
    "len(dclow)"
   ]
  },
  {
   "cell_type": "code",
   "execution_count": null,
   "metadata": {},
   "outputs": [
    {
     "data": {
      "text/html": [
       "\n",
       "        <iframe\n",
       "            width=\"100%\"\n",
       "            height=\"650\"\n",
       "            src=\"http://127.0.0.1:8050/\"\n",
       "            frameborder=\"0\"\n",
       "            allowfullscreen\n",
       "            \n",
       "        ></iframe>\n",
       "        "
      ],
      "text/plain": [
       "<IPython.lib.display.IFrame at 0x7b58ca3d70a0>"
      ]
     },
     "metadata": {},
     "output_type": "display_data"
    }
   ],
   "source": [
    "resampled_df = data.copy()\n",
    "\n",
    "# called when a period button is pressed under the plot.\n",
    "def on_period_change(button_id):\n",
    "    global resampled_df, selected_period\n",
    "    if button_id == '':\n",
    "        return\n",
    "    selected_period = button_id\n",
    "    resampled_df = data.resample(selected_period).agg({\n",
    "        'open': 'first',\n",
    "        'high': 'max',\n",
    "        'low': 'min',\n",
    "        'close': 'last',\n",
    "        'volume': 'sum',\n",
    "        'volatility_multiplier': 'last',\n",
    "        'profit': 'first',\n",
    "        'stop_loss_price': 'last',\n",
    "        'maximum': 'last',\n",
    "        'dclow': 'last',\n",
    "    })\n",
    "    resampled_df = resampled_df.dropna()\n",
    "\n",
    "def create_figure(x0, x1):\n",
    "    if x0 is not None:\n",
    "        print(x0)\n",
    "        df = resampled_df[x0:x1]\n",
    "    else:\n",
    "        df = resampled_df[-100:]#\n",
    "        # xx0 = datetime.strptime('2024-05-20 00:03:44.250000', '%Y-%m-%d %H:%M:%S.%f')\n",
    "        # xx1 = datetime.strptime('2024-05-21 02:03:44.250000', '%Y-%m-%d %H:%M:%S.%f')\n",
    "        # df = resampled_df[xx0:xx1]\n",
    "        \n",
    "    # define multiple panes. The top pane will be for the main price chart with candles. The second pane is for volumes.\n",
    "    fig = make_subplots(rows=2, cols=1, shared_xaxes=True, \n",
    "                vertical_spacing=0.01,\n",
    "                row_heights=[0.8, 0.2],\n",
    "                specs=[[{\"secondary_y\": True}], [{\"secondary_y\": True}]])\n",
    "    # plot the main chart with price candles.\n",
    "    fig.add_trace(go.Candlestick(x=df.index,\n",
    "                                 open=df['open'],\n",
    "                                 high=df['high'],\n",
    "                                 low=df['low'],\n",
    "                                 close=df['close'],\n",
    "                                 name='ohlc'), row=1, col=1)\n",
    "    fig.add_trace(go.Scatter(x=df.index, y=df['open'] + df['profit'], mode='lines', line=dict(color='black'), name='open+profit'), row=1, col=1)\n",
    "    # fig.add_trace(go.Scatter(x=df.index, y=df['open'] + df['profit'] - (df['maximum'] - df['close']), mode='lines', line=dict(color='orange'), name='discounted profit'), row=1, col=1)\n",
    "    # fig.add_trace(go.Scatter(x=df.index, y=df['open'] * (1 + 0.01*fee_percent*2), mode='lines', line=dict(color='blue'), name='fee'), row=1, col=1)\n",
    "    fig.add_trace(go.Scatter(x=df.index, y=df['stop_loss_price'], mode='lines', line=dict(color='red'), name='stop_loss_pirce'), row=1, col=1)\n",
    "    fig.add_trace(go.Scatter(x=df.index, y=df['maximum'], mode='lines', line=dict(color='green'), name='maximum'), row=1, col=1)\n",
    "    # fig.add_trace(go.Scatter(x=df.index, y=df['dclow'], mode='lines', line=dict(color='purple'), name='dclow'), row=1, col=1)\n",
    "    fig.add_trace(go.Bar(x=df.index, y=df['volume'], name='Volume'), row=2, col=1)\n",
    "    # fig.add_trace(go.Scatter(x=df.index, y=df['open'] + df['profit'] - (df['maximum'] - df['close']) - df['open'] * (1 + 0.01*fee_percent*2), mode='lines', line=dict(color='green'), name='dis prof wo fee'), row=1, col=1, secondary_y=True)\n",
    "    # set the default dragmode to pan, remove the range slider because i use zoom/pan instead of it.\n",
    "    fig.update_layout(\n",
    "        dragmode='pan',\n",
    "        xaxis_rangeslider_visible=False,\n",
    "        width=1200, # px\n",
    "        height=600,\n",
    "        margin=dict(l=50, r=0, t=0, b=0),\n",
    "        yaxis=dict(side='right'),\n",
    "        yaxis2=dict(side='left'),\n",
    "        yaxis3=dict(side='right'),\n",
    "        yaxis4=dict(side='left'),\n",
    "        yaxis5=dict(side='right'),\n",
    "        yaxis6=dict(side='left'),\n",
    "        )\n",
    "    fig.update_xaxes(\n",
    "        ticklabelposition=\"outside right\",  # keep labels on the right so that they don't affect margin-left.\n",
    "    )\n",
    "    return fig\n",
    "\n",
    "app = create_chart_app(create_figure, on_period_change, period_buttons=None, debug=False)\n",
    "app.run_server(debug=True)"
   ]
  },
  {
   "cell_type": "code",
   "execution_count": null,
   "metadata": {},
   "outputs": [],
   "source": []
  }
 ],
 "metadata": {
  "kernelspec": {
   "display_name": "venv",
   "language": "python",
   "name": "python3"
  },
  "language_info": {
   "codemirror_mode": {
    "name": "ipython",
    "version": 3
   },
   "file_extension": ".py",
   "mimetype": "text/x-python",
   "name": "python",
   "nbconvert_exporter": "python",
   "pygments_lexer": "ipython3",
   "version": "3.10.12"
  }
 },
 "nbformat": 4,
 "nbformat_minor": 2
}
