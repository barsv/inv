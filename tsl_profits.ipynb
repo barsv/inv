{
 "cells": [
  {
   "cell_type": "code",
   "execution_count": null,
   "metadata": {},
   "outputs": [],
   "source": [
    "# в этом ноутбуке я считаю профиты для лонг трейдов со скользящим стоплоссом.\n",
    "# собираюсь использовать это как раметку данных.\n",
    "import pandas as pd\n",
    "import numpy as np\n",
    "import pandas_ta as ta\n",
    "import forecast\n",
    "from quote_chart import create_chart_app\n",
    "from plotly.subplots import make_subplots\n",
    "import plotly.graph_objects as go\n",
    "from datetime import datetime\n",
    "from tsl import get_trailing_stop_loss_long_profits\n",
    "\n",
    "fee_percent = 0.07"
   ]
  },
  {
   "cell_type": "code",
   "execution_count": null,
   "metadata": {},
   "outputs": [],
   "source": [
    "data = forecast.get_df('BTCUSD', '', '1T')"
   ]
  },
  {
   "cell_type": "code",
   "execution_count": null,
   "metadata": {},
   "outputs": [],
   "source": [
    "def get_volatility():\n",
    "    df = data\n",
    "    closes = df['close']\n",
    "    return np.abs(np.log(closes/closes.shift(1)))\n",
    "volatility = get_volatility()\n",
    "data['volatility'] = volatility\n",
    "data['volatility_ema'] = ta.ema(volatility, 20)\n",
    "data['volatility_ema1k'] = ta.ema(volatility, 10*1000)\n",
    "data['volatility_multiplier'] = (1+data['volatility_ema']/data['volatility_ema1k']) **1.5"
   ]
  },
  {
   "cell_type": "code",
   "execution_count": null,
   "metadata": {},
   "outputs": [],
   "source": [
    "(profits, stop_loss_prices, maximums) = get_trailing_stop_loss_long_profits(data)"
   ]
  },
  {
   "cell_type": "code",
   "execution_count": null,
   "metadata": {},
   "outputs": [],
   "source": [
    "# fill None values with last not-None value\n",
    "profits_df = pd.DataFrame(profits)\n",
    "profits_df.ffill(inplace=True)\n",
    "data['profit'] = profits_df.to_numpy()\n",
    "sl_df = pd.DataFrame(stop_loss_prices)\n",
    "sl_df.ffill(inplace=True)\n",
    "data['stop_loss_price'] = sl_df.to_numpy()\n",
    "maximums_df = pd.DataFrame(maximums)\n",
    "maximums_df.ffill(inplace=True)\n",
    "data['maximum'] = maximums_df.to_numpy()"
   ]
  },
  {
   "cell_type": "code",
   "execution_count": null,
   "metadata": {},
   "outputs": [],
   "source": [
    "resampled_df = data.copy()\n",
    "\n",
    "# called when a period button is pressed under the plot.\n",
    "def on_period_change(button_id):\n",
    "    global resampled_df, selected_period\n",
    "    if button_id == '':\n",
    "        return\n",
    "    selected_period = button_id\n",
    "    resampled_df = data.resample(selected_period).agg({\n",
    "        'open': 'first',\n",
    "        'high': 'max',\n",
    "        'low': 'min',\n",
    "        'close': 'last',\n",
    "        'volume': 'sum',\n",
    "        'profit': 'first',\n",
    "        'stop_loss_price': 'last',\n",
    "        'maximum': 'max',\n",
    "    })\n",
    "    resampled_df = resampled_df.dropna()\n",
    "\n",
    "def create_figure(x0, x1):\n",
    "    if x0 is not None:\n",
    "        #print(x0)\n",
    "        df = resampled_df[x0:x1]\n",
    "    else:\n",
    "        # df = resampled_df[-100:]#\n",
    "        xx0 = datetime.strptime('2024-05-20 00:03:44.250000', '%Y-%m-%d %H:%M:%S.%f')\n",
    "        xx1 = datetime.strptime('2024-05-21 02:03:44.250000', '%Y-%m-%d %H:%M:%S.%f')\n",
    "        df = resampled_df[xx0:xx1]\n",
    "        \n",
    "    # define multiple panes. The top pane will be for the main price chart with candles. The second pane is for volumes.\n",
    "    fig = make_subplots(rows=2, cols=1, shared_xaxes=True, \n",
    "                vertical_spacing=0.01,\n",
    "                row_heights=[0.8, 0.2],\n",
    "                specs=[[{\"secondary_y\": True}], [{\"secondary_y\": True}]])\n",
    "    # plot the main chart with price candles.\n",
    "    fig.add_trace(go.Candlestick(x=df.index,\n",
    "                                 open=df['open'],\n",
    "                                 high=df['high'],\n",
    "                                 low=df['low'],\n",
    "                                 close=df['close'],\n",
    "                                 name='ohlc'), row=1, col=1)\n",
    "    fig.add_trace(go.Scatter(x=df.index, y=df['open'] + df['profit'], mode='lines', line=dict(color='black'),\n",
    "                             name='open+profit'), row=1, col=1)\n",
    "    # fig.add_trace(go.Scatter(x=df.index, y=df['open'] + df['profit'] - (df['maximum'] - df['close']), \n",
    "    #                          mode='lines', line=dict(color='orange'), name='discounted profit'), row=1, col=1)\n",
    "    fig.add_trace(go.Scatter(x=df.index, y=df['maximum'], mode='lines', line=dict(color='green'), name='maximum'),\n",
    "                  row=1, col=1)\n",
    "\n",
    "    # fig.add_trace(go.Scatter(x=df.index, y=df['open'] * (1 + 0.01*fee_percent*2), mode='lines', line=dict(color='blue'),\n",
    "    # name='fee'), row=1, col=1)\n",
    "    fig.add_trace(go.Scatter(x=df.index, y=df['stop_loss_price'], mode='lines', line=dict(color='red'),\n",
    "                             name='stop_loss_pirce'), row=1, col=1)\n",
    "    fig.add_trace(go.Bar(x=df.index, y=df['volume'], name='Volume'), row=2, col=1)\n",
    "    fig.add_trace(go.Scatter(x=df.index, \n",
    "                             y=df['open'] + df['profit'] - df['open'] * 0.01*fee_percent*2,\n",
    "                             mode='lines', line=dict(color='blue'), name='prof wo fee'), row=1, col=1)\n",
    "    # set the default dragmode to pan, remove the range slider because i use zoom/pan instead of it.\n",
    "    fig.update_layout(\n",
    "        dragmode='pan',\n",
    "        xaxis_rangeslider_visible=False,\n",
    "        width=1200, # px\n",
    "        height=600,\n",
    "        margin=dict(l=50, r=0, t=0, b=0),\n",
    "        yaxis=dict(side='right'),\n",
    "        yaxis2=dict(side='left'),\n",
    "        yaxis3=dict(side='right'),\n",
    "        yaxis4=dict(side='left'),\n",
    "        yaxis5=dict(side='right'),\n",
    "        yaxis6=dict(side='left'),\n",
    "        )\n",
    "    fig.update_xaxes(\n",
    "        ticklabelposition=\"outside right\",  # keep labels on the right so that they don't affect margin-left.\n",
    "    )\n",
    "    return fig\n",
    "\n",
    "app = create_chart_app(create_figure, on_period_change, period_buttons=None, debug=False)\n",
    "app.run_server(debug=True)"
   ]
  },
  {
   "cell_type": "code",
   "execution_count": null,
   "metadata": {},
   "outputs": [],
   "source": [
    "def get_total_profits(df):\n",
    "    n = len(profits)\n",
    "    woFee = (df['profit'] - df['open'] * 0.01*fee_percent*2).to_numpy()\n",
    "    total_profit = 0\n",
    "    for i in range(1, n):\n",
    "        if woFee[i - 1] < 0 and woFee[i] > 0:\n",
    "            total_profit += woFee[i]\n",
    "    return total_profit"
   ]
  },
  {
   "cell_type": "code",
   "execution_count": null,
   "metadata": {},
   "outputs": [],
   "source": [
    "stop_losses = []\n",
    "total_profits = []\n",
    "for sl in np.arange(0.01, 0.5, 0.01):\n",
    "    (profits, stop_loss_prices, maximums) = get_trailing_stop_loss_long_profits(data, sl*0.01)\n",
    "    data['profit'] = profits\n",
    "    total_profit = get_total_profits(data)\n",
    "    stop_losses.append(sl)\n",
    "    total_profits.append(total_profit)\n",
    "    print(f'sl={sl}, total_profit={total_profit}')"
   ]
  },
  {
   "cell_type": "code",
   "execution_count": null,
   "metadata": {},
   "outputs": [],
   "source": [
    "fig = make_subplots(rows=1, cols=1, shared_xaxes=True, \n",
    "            vertical_spacing=0.01,\n",
    "            row_heights=[1],\n",
    "            specs=[[{\"secondary_y\": True}]])\n",
    "fig.add_trace(go.Scatter(x=stop_losses, y=total_profits, mode='lines', line=dict(color='black'),\n",
    "                            name='total_profits'), row=1, col=1)"
   ]
  }
 ],
 "metadata": {
  "kernelspec": {
   "display_name": "venv",
   "language": "python",
   "name": "python3"
  },
  "language_info": {
   "codemirror_mode": {
    "name": "ipython",
    "version": 3
   },
   "file_extension": ".py",
   "mimetype": "text/x-python",
   "name": "python",
   "nbconvert_exporter": "python",
   "pygments_lexer": "ipython3",
   "version": "3.10.12"
  }
 },
 "nbformat": 4,
 "nbformat_minor": 2
}
