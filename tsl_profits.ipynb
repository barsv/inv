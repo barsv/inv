{
 "cells": [
  {
   "cell_type": "code",
   "execution_count": 1,
   "metadata": {},
   "outputs": [],
   "source": [
    "# в этом ноутбуке я считаю профиты для лонг трейдов со скользящим стоплоссом.\n",
    "# собираюсь использовать это как раметку данных.\n",
    "import pandas as pd\n",
    "import numpy as np\n",
    "import pandas_ta as ta\n",
    "import forecast\n",
    "from quote_chart import create_chart_app\n",
    "from plotly.subplots import make_subplots\n",
    "import plotly.graph_objects as go\n",
    "from datetime import datetime\n",
    "from tsl import get_trailing_stop_loss_long_profits\n",
    "\n",
    "fee_percent = 0.07\n",
    "\n",
    "trailing_stop_loss_percent = 0.15"
   ]
  },
  {
   "cell_type": "code",
   "execution_count": 2,
   "metadata": {},
   "outputs": [],
   "source": [
    "data = forecast.get_df('BTCUSD', '', '1T')"
   ]
  },
  {
   "cell_type": "code",
   "execution_count": 3,
   "metadata": {},
   "outputs": [],
   "source": [
    "def get_volatility():\n",
    "    df = data\n",
    "    closes = df['close']\n",
    "    return np.abs(np.log(closes/closes.shift(1)))\n",
    "volatility = get_volatility()\n",
    "data['volatility'] = volatility\n",
    "data['volatility_ema'] = ta.ema(volatility, 20)\n",
    "data['volatility_ema1k'] = ta.ema(volatility, 10*1000)\n",
    "data['volatility_multiplier'] = (1+data['volatility_ema']/data['volatility_ema1k']) **1.5"
   ]
  },
  {
   "cell_type": "code",
   "execution_count": 4,
   "metadata": {},
   "outputs": [],
   "source": [
    "(profits, stop_loss_prices, maximums) = get_trailing_stop_loss_long_profits(data)"
   ]
  },
  {
   "cell_type": "code",
   "execution_count": 5,
   "metadata": {},
   "outputs": [],
   "source": [
    "# fill None values with last not-None value\n",
    "profits_df = pd.DataFrame(profits)\n",
    "profits_df.ffill(inplace=True)\n",
    "data['profit'] = profits_df.to_numpy()\n",
    "sl_df = pd.DataFrame(stop_loss_prices)\n",
    "sl_df.ffill(inplace=True)\n",
    "data['stop_loss_price'] = sl_df.to_numpy()\n",
    "maximums_df = pd.DataFrame(maximums)\n",
    "maximums_df.ffill(inplace=True)\n",
    "data['maximum'] = maximums_df.to_numpy()"
   ]
  },
  {
   "cell_type": "code",
   "execution_count": 7,
   "metadata": {},
   "outputs": [
    {
     "data": {
      "text/html": [
       "\n",
       "        <iframe\n",
       "            width=\"100%\"\n",
       "            height=\"650\"\n",
       "            src=\"http://127.0.0.1:8050/\"\n",
       "            frameborder=\"0\"\n",
       "            allowfullscreen\n",
       "            \n",
       "        ></iframe>\n",
       "        "
      ],
      "text/plain": [
       "<IPython.lib.display.IFrame at 0x7a2a9d8f2da0>"
      ]
     },
     "metadata": {},
     "output_type": "display_data"
    },
    {
     "name": "stdout",
     "output_type": "stream",
     "text": [
      "2024-05-29 20:21:12.746000\n",
      "2024-05-29 20:21:12.746000\n",
      "2024-05-29 18:36:59.387000\n",
      "2024-05-29 16:25:41.741000\n",
      "2024-05-29 14:20:19.074000\n",
      "2024-05-29 11:40:18.031000\n",
      "2024-05-29 06:39:22.321000\n",
      "2024-05-29 06:39:22.321000\n",
      "2024-05-29 04:52:45.533000\n",
      "2024-05-29 00:45:37.738000\n",
      "2024-05-28 21:05:55.201000\n",
      "2024-05-28 05:35:14.827300\n",
      "2024-05-28 09:25:23.036000\n",
      "2024-05-28 13:42:00.238000\n",
      "2024-05-28 17:56:54.768000\n",
      "2024-05-28 19:21:55.465000\n",
      "2024-05-29 02:05:04.457000\n",
      "2024-05-28 17:49:15.505000\n",
      "2024-05-28 15:30:36.982000\n",
      "2024-05-28 10:49:18.208000\n",
      "2024-05-28 03:27:20.465000\n",
      "2024-05-27 21:12:02.395000\n",
      "2024-05-27 06:59:39.818100\n",
      "2024-05-26 23:23:28.964000\n",
      "2024-05-26 10:31:14.432300\n",
      "2024-05-25 22:11:58.599400\n",
      "2024-05-26 04:18:56.773000\n",
      "2024-05-27 11:16:53.032000\n",
      "2024-05-27 10:01:52.473000\n",
      "2024-05-27 08:55:11.285000\n",
      "2024-05-27 08:55:11.285000\n",
      "2024-05-27 08:55:11.285000\n",
      "2024-05-27 05:20:42.774900\n",
      "2024-05-27 04:30:30.770000\n",
      "2024-05-27 06:10:40.284000\n",
      "2024-05-27 07:13:23.855000\n",
      "2024-05-27 07:50:09.725000\n",
      "2024-05-27 08:38:41.905000\n",
      "2024-05-27 09:20:18.735000\n",
      "2024-05-27 10:06:42.890000\n",
      "2024-05-27 10:35:46.520000\n",
      "2024-05-27 09:58:07.656000\n",
      "2024-05-27 09:58:07.656000\n"
     ]
    }
   ],
   "source": [
    "resampled_df = data.copy()\n",
    "\n",
    "# called when a period button is pressed under the plot.\n",
    "def on_period_change(button_id):\n",
    "    global resampled_df, selected_period\n",
    "    if button_id == '':\n",
    "        return\n",
    "    selected_period = button_id\n",
    "    resampled_df = data.resample(selected_period).agg({\n",
    "        'open': 'first',\n",
    "        'high': 'max',\n",
    "        'low': 'min',\n",
    "        'close': 'last',\n",
    "        'volume': 'sum',\n",
    "        'profit': 'first',\n",
    "        'stop_loss_price': 'last',\n",
    "        'maximum': 'max',\n",
    "    })\n",
    "    resampled_df = resampled_df.dropna()\n",
    "\n",
    "def create_figure(x0, x1):\n",
    "    if x0 is not None:\n",
    "        print(x0)\n",
    "        df = resampled_df[x0:x1]\n",
    "    else:\n",
    "        df = resampled_df[-100:]#\n",
    "        # xx0 = datetime.strptime('2024-05-20 00:03:44.250000', '%Y-%m-%d %H:%M:%S.%f')\n",
    "        # xx1 = datetime.strptime('2024-05-21 02:03:44.250000', '%Y-%m-%d %H:%M:%S.%f')\n",
    "        # df = resampled_df[xx0:xx1]\n",
    "        \n",
    "    # define multiple panes. The top pane will be for the main price chart with candles. The second pane is for volumes.\n",
    "    fig = make_subplots(rows=2, cols=1, shared_xaxes=True, \n",
    "                vertical_spacing=0.01,\n",
    "                row_heights=[0.8, 0.2],\n",
    "                specs=[[{\"secondary_y\": True}], [{\"secondary_y\": True}]])\n",
    "    # plot the main chart with price candles.\n",
    "    fig.add_trace(go.Candlestick(x=df.index,\n",
    "                                 open=df['open'],\n",
    "                                 high=df['high'],\n",
    "                                 low=df['low'],\n",
    "                                 close=df['close'],\n",
    "                                 name='ohlc'), row=1, col=1)\n",
    "    fig.add_trace(go.Scatter(x=df.index, y=df['open'] + df['profit'], mode='lines', line=dict(color='black'), name='open+profit'), row=1, col=1)\n",
    "    # fig.add_trace(go.Scatter(x=df.index, y=df['open'] + df['profit'] - (df['high'] - df['close']), mode='lines', line=dict(color='orange'), name='discounted profit'), row=1, col=1)\n",
    "\n",
    "    fig.add_trace(go.Scatter(x=df.index, y=df['open'] + df['profit'] - (df['maximum'] - df['close']), mode='lines', line=dict(color='orange'), name='discounted profit'), row=1, col=1)\n",
    "    fig.add_trace(go.Scatter(x=df.index, y=df['maximum'], mode='lines', line=dict(color='green'), name='maximum'), row=1, col=1)\n",
    "\n",
    "    # fig.add_trace(go.Scatter(x=df.index, y=df['open'] * (1 + 0.01*fee_percent*2), mode='lines', line=dict(color='blue'), name='fee'), row=1, col=1)\n",
    "    fig.add_trace(go.Scatter(x=df.index, y=df['stop_loss_price'], mode='lines', line=dict(color='red'), name='stop_loss_pirce'), row=1, col=1)\n",
    "    # fig.add_trace(go.Scatter(x=df.index, y=df['dclow'], mode='lines', line=dict(color='purple'), name='dclow'), row=1, col=1)\n",
    "    fig.add_trace(go.Bar(x=df.index, y=df['volume'], name='Volume'), row=2, col=1)\n",
    "    # fig.add_trace(go.Scatter(x=df.index, y=df['open'] + df['profit'] - (df['maximum'] - df['close']) - df['open'] * (1 + 0.01*fee_percent*2), mode='lines', line=dict(color='green'), name='dis prof wo fee'), row=1, col=1, secondary_y=True)\n",
    "    # set the default dragmode to pan, remove the range slider because i use zoom/pan instead of it.\n",
    "    fig.update_layout(\n",
    "        dragmode='pan',\n",
    "        xaxis_rangeslider_visible=False,\n",
    "        width=1200, # px\n",
    "        height=600,\n",
    "        margin=dict(l=50, r=0, t=0, b=0),\n",
    "        yaxis=dict(side='right'),\n",
    "        yaxis2=dict(side='left'),\n",
    "        yaxis3=dict(side='right'),\n",
    "        yaxis4=dict(side='left'),\n",
    "        yaxis5=dict(side='right'),\n",
    "        yaxis6=dict(side='left'),\n",
    "        )\n",
    "    fig.update_xaxes(\n",
    "        ticklabelposition=\"outside right\",  # keep labels on the right so that they don't affect margin-left.\n",
    "    )\n",
    "    return fig\n",
    "\n",
    "app = create_chart_app(create_figure, on_period_change, period_buttons=None, debug=False)\n",
    "app.run_server(debug=True)"
   ]
  },
  {
   "cell_type": "code",
   "execution_count": null,
   "metadata": {},
   "outputs": [],
   "source": []
  }
 ],
 "metadata": {
  "kernelspec": {
   "display_name": "venv",
   "language": "python",
   "name": "python3"
  },
  "language_info": {
   "codemirror_mode": {
    "name": "ipython",
    "version": 3
   },
   "file_extension": ".py",
   "mimetype": "text/x-python",
   "name": "python",
   "nbconvert_exporter": "python",
   "pygments_lexer": "ipython3",
   "version": "3.10.12"
  }
 },
 "nbformat": 4,
 "nbformat_minor": 2
}
