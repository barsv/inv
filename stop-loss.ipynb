{
 "cells": [
  {
   "cell_type": "code",
   "execution_count": null,
   "metadata": {},
   "outputs": [],
   "source": [
    "#!pip install mpl_interactions\n",
    "#!pip install ipympl\n",
    "# NOTE: restart kernel after installing ipympl"
   ]
  },
  {
   "cell_type": "code",
   "execution_count": null,
   "metadata": {},
   "outputs": [],
   "source": [
    "#%matplotlib ipympl # похоже, что без разницы что использовать %matplotlib ipympl или %matplotlib widget\n",
    "%matplotlib widget"
   ]
  },
  {
   "cell_type": "code",
   "execution_count": null,
   "metadata": {},
   "outputs": [],
   "source": [
    "# в этом ноутбуке попробую посмотреть как скользящий стоп лосс повлияет на прибыльность сделок.\n",
    "# сначала проведу анализ для рандомных сделок.\n",
    "# потом повторю для трейдов по прогнозам."
   ]
  },
  {
   "cell_type": "code",
   "execution_count": null,
   "metadata": {},
   "outputs": [],
   "source": [
    "trade_period = 10 # время каждой сделки 10 минут\n",
    "sl = -0.02 * 0.01 # стоп-лосс 0.02%\n",
    "tp = 0.06 * 0.01 # тейк-профит в 3 раза больше СЛ"
   ]
  },
  {
   "cell_type": "code",
   "execution_count": null,
   "metadata": {},
   "outputs": [],
   "source": [
    "import matplotlib.pyplot as plt\n",
    "import numpy as np\n",
    "import random\n",
    "import forecast\n",
    "from mpl_interactions import panhandler, zoom_factory\n",
    "\n",
    "plt.rcParams['figure.figsize'] = [12, 5] # графики побольше"
   ]
  },
  {
   "cell_type": "code",
   "execution_count": null,
   "metadata": {},
   "outputs": [],
   "source": [
    "df = forecast.get_df('BTCUSD', '', '1T')\n",
    "o = df['open']\n",
    "# построю график, чтобы убедиться, что все загрузилось верно.\n",
    "fig, ax = plt.subplots()\n",
    "ax.plot(o, 'b-')"
   ]
  },
  {
   "cell_type": "code",
   "execution_count": null,
   "metadata": {},
   "outputs": [],
   "source": [
    "# сначала посчитаю профиты без стоп-лоссов и тейк-профитов.\n",
    "profits = {}\n",
    "L = len(o) - trade_period\n",
    "for i in range(L):\n",
    "  if i % ((int)(L/100)) == 0:\n",
    "    print('\\rProgress: ', round(i/L * 100), '%', end='')\n",
    "  profit = round(o[i] - o[i + trade_period])\n",
    "  profit = profit - (profit % 10)\n",
    "  if profit in profits:\n",
    "    profits[profit] += 1\n",
    "  else:\n",
    "    profits[profit] = 1\n",
    "print('\\ndone.')"
   ]
  },
  {
   "cell_type": "code",
   "execution_count": null,
   "metadata": {},
   "outputs": [],
   "source": [
    "# построю распределение\n",
    "X = []\n",
    "Y = []\n",
    "cnt = 0\n",
    "for p in profits:\n",
    "  cnt += profits[p]\n",
    "  X.append(p)\n",
    "X.sort()\n",
    "t = 0 # суммарный профит по всем сделкам.\n",
    "for p in X:\n",
    "  Y.append(profits[p] / ((float)(cnt)))\n",
    "  t += p * profits[p]\n",
    "fig, ax = plt.subplots()\n",
    "ax.bar(X, Y, width=8)\n",
    "xlim = 250\n",
    "ax.set_xlim([-xlim, xlim])\n",
    "\n",
    "# Добавляем интерактивность\n",
    "panhandler(fig)\n",
    "zoom_factory(ax)\n",
    "\n",
    "plt.show()\n",
    "\n",
    "# поделю суммарный профит по всем сделкам на количество сделок.\n",
    "print('profit per trade: ', t/len(o))"
   ]
  },
  {
   "cell_type": "code",
   "execution_count": null,
   "metadata": {},
   "outputs": [],
   "source": [
    "# теперь посчитаю то же самое, но со стоп-лоссами.\n",
    "# считать буду только для лонг сделок, т.к. в предыдущих экспериментах\n",
    "# выяснилось, что при достаточно большом промежутке исходных данных\n",
    "# распределения получаются симметричными с точностью до погрешности.\n",
    "def get_profits(stop_loss, take_profit, sliding_stop_loss):\n",
    "  assert stop_loss <= 0, 'stop_loss must be zero or negative!'\n",
    "  assert take_profit >= 0, 'take_profit must be zero or positive!'\n",
    "  assert sliding_stop_loss <= 0, 'sliding_stop_loss must be zero or negative!'\n",
    "  profits = {}\n",
    "  # -trade_period, чтобы не выйти за границы массива\n",
    "  L = len(o) - trade_period\n",
    "  #import ipdb; ipdb.set_trace()\n",
    "  for i in range(L):\n",
    "    if i % ((int)(L/100)) == 0:\n",
    "      print('\\rProgress: ', round(i/L * 100), '%', end='')\n",
    "    oi = o[i]\n",
    "    # буду запоминать максимум, чтобы от него\n",
    "    # считать размер скользящего стоп-лосса.\n",
    "    m = oi #\n",
    "    # перебираю моменты времени от открытия до закрытия.\n",
    "    for k in range(1, trade_period + 1):\n",
    "      ok = o[i + k]\n",
    "      m = ok if ok > m else m # вычисляю максимум\n",
    "      # для лонга профит будет равен закрытие минус открытие.\n",
    "      profit = round(ok - oi)\n",
    "      # округлим профит до 10\n",
    "      profit = profit - (profit % 10)\n",
    "      if stop_loss < 0 and profit < oi * stop_loss:\n",
    "        # считаю, что позиция закрыта ровно в момент достижения стоп-лоса.\n",
    "        # не забываю, что значение stop_loss отрицательное!\n",
    "        profit = round(oi * stop_loss)\n",
    "        # округлим профит до 10\n",
    "        profit = profit - (profit % 10)\n",
    "        break\n",
    "      if take_profit > 0 and profit > oi * take_profit:\n",
    "        profit = round(oi * take_profit)\n",
    "        # округлим профит до 10\n",
    "        profit = profit - (profit % 10)\n",
    "        break\n",
    "      if sliding_stop_loss < 0 and ok - m < oi * sliding_stop_loss:\n",
    "        # чтобы получить цену закрытия,\n",
    "        # от максимума вычтем скользящий стоп-лосс.\n",
    "        # не забываем, что sliding_stop_loss уже отрицателен.\n",
    "        profit = round((m + oi * sliding_stop_loss) - oi)\n",
    "        # округлим профит до 10\n",
    "        profit = profit - (profit % 10)\n",
    "        break\n",
    "    if profit in profits:\n",
    "      profits[profit] += 1\n",
    "    else:\n",
    "      profits[profit] = 1\n",
    "  print('\\nget_profits completed.')\n",
    "  return profits\n",
    "\n",
    "# построю распределение\n",
    "def plot(profits):\n",
    "  X2 = [] # неудачный нейминг, т.к. X уже занят в глобальном скоупе\n",
    "  Y2 = [] # но переделывать лень.\n",
    "  cnt2 = 0\n",
    "  for p in profits:\n",
    "    cnt2 += profits[p]\n",
    "    X2.append(p)\n",
    "  X2.sort()\n",
    "  t2 = 0\n",
    "  for p in X2:\n",
    "    Y2.append(profits[p] / cnt2)\n",
    "    t2 += p * profits[p]\n",
    "  fig, ax = plt.subplots()\n",
    "  ax.bar(X, Y, color='b', width=8)\n",
    "  ax.bar(X2, Y2, color='r', width=8)\n",
    "  ax.set_xlim([-xlim, xlim])\n",
    "  # поделю суммарный профит по всем сделкам на количество сделок.\n",
    "  print('profit per trade: ', t2/len(o), 'len(o) = ', len(o))\n",
    "  assert cnt == cnt2, \\\n",
    "    'количество сделок должно совпадать с количеством сделок без СЛ и ТП'\n",
    "\n",
    "print('ok')"
   ]
  },
  {
   "cell_type": "code",
   "execution_count": null,
   "metadata": {},
   "outputs": [],
   "source": [
    "# скользящие стоп-лоссы без тейк-профитов\n",
    "profits = get_profits(0, 0, -0.02 * 0.01)"
   ]
  },
  {
   "cell_type": "code",
   "execution_count": null,
   "metadata": {},
   "outputs": [],
   "source": [
    "# размер комиссии без скидок на OKX 0.07%\n",
    "0.07*0.01*70000"
   ]
  },
  {
   "cell_type": "code",
   "execution_count": null,
   "metadata": {},
   "outputs": [],
   "source": [
    "plot(profits)"
   ]
  },
  {
   "cell_type": "code",
   "execution_count": null,
   "metadata": {},
   "outputs": [],
   "source": [
    "def simulate(close_after, sliding_stop_loss, fees):\n",
    "  profits = []\n",
    "  total_profit = 0\n",
    "  i = 0\n",
    "  L = len(o) - close_after\n",
    "  for i in range(L):\n",
    "    if i % ((int)(L/100)) == 0:\n",
    "      print('\\rProgress: ', round(i/L * 100), '%', end='')\n",
    "    trade_profit = 0\n",
    "    oi = o[i]\n",
    "    m = oi #\n",
    "    for k in range(1, close_after + 1):\n",
    "      ok = o[i+k]\n",
    "      m = ok if ok > m else m # вычисляю максимум\n",
    "      # надо из цены закрытия вычесть цену открыия.\n",
    "      trade_profit = round(ok - oi)\n",
    "      if sliding_stop_loss < 0 and ok - m < oi * sliding_stop_loss:\n",
    "        # чтобы получить цену закрытия для скользящего стоп-лосса\n",
    "        # надо от максимума вычесть размер скользящего стоп-лосса.\n",
    "        # учитываем то, что уже sliding_stop_loss отрицательный!\n",
    "        trade_profit = round((m + oi * sliding_stop_loss) - oi)\n",
    "        break\n",
    "    total_profit += trade_profit - fees\n",
    "    profits.append(total_profit)\n",
    "  print('\\ndone')\n",
    "  return profits"
   ]
  },
  {
   "cell_type": "code",
   "execution_count": null,
   "metadata": {},
   "outputs": [],
   "source": [
    "# закрывать после 10 минут.\n",
    "# скользящий стоп-лосс на 0.01%.\n",
    "profits = simulate(10, -0.01 * 0.01, 49)"
   ]
  },
  {
   "cell_type": "code",
   "execution_count": null,
   "metadata": {},
   "outputs": [],
   "source": [
    "fig, ax = plt.subplots()\n",
    "ax.plot(profits, 'b-')\n",
    "#ax.set_xlim([25, 2555])\n",
    "fig, ax = plt.subplots()\n",
    "ax.plot(o, 'b-')"
   ]
  },
  {
   "cell_type": "code",
   "execution_count": null,
   "metadata": {},
   "outputs": [],
   "source": []
  }
 ],
 "metadata": {
  "kernelspec": {
   "display_name": "venv",
   "language": "python",
   "name": "python3"
  },
  "language_info": {
   "codemirror_mode": {
    "name": "ipython",
    "version": 3
   },
   "file_extension": ".py",
   "mimetype": "text/x-python",
   "name": "python",
   "nbconvert_exporter": "python",
   "pygments_lexer": "ipython3",
   "version": "3.10.12"
  }
 },
 "nbformat": 4,
 "nbformat_minor": 2
}
