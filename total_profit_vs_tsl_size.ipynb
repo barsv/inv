{
 "cells": [
  {
   "cell_type": "code",
   "execution_count": null,
   "metadata": {},
   "outputs": [],
   "source": [
    "# plot total profit (over a year, fee included) vs trailing stop loss size."
   ]
  },
  {
   "cell_type": "code",
   "execution_count": null,
   "metadata": {},
   "outputs": [],
   "source": [
    "import pandas as pd\n",
    "import numpy as np\n",
    "import forecast\n",
    "from tsl import get_trailing_stop_loss_long_profits\n",
    "from plotly.subplots import make_subplots\n",
    "import plotly.graph_objects as go\n",
    "\n",
    "fee_percent = 0.07"
   ]
  },
  {
   "cell_type": "code",
   "execution_count": null,
   "metadata": {},
   "outputs": [],
   "source": [
    "data = forecast.get_df('BTCUSD', '', '1T')"
   ]
  },
  {
   "cell_type": "code",
   "execution_count": null,
   "metadata": {},
   "outputs": [],
   "source": [
    "(profits, long_stop_loss_prices, maximums) = get_trailing_stop_loss_long_profits(data, 0.5 * 0.01)"
   ]
  },
  {
   "cell_type": "code",
   "execution_count": null,
   "metadata": {},
   "outputs": [],
   "source": [
    "def get_total_profits(df):\n",
    "    n = len(profits)\n",
    "    woFee = (df['profit'] - df['open'] * 0.01*fee_percent*2).to_numpy()\n",
    "    total_profit = 0\n",
    "    for i in range(1, n):\n",
    "        if woFee[i - 1] < 0 and woFee[i] > 0:\n",
    "            total_profit += woFee[i]\n",
    "    return total_profit"
   ]
  },
  {
   "cell_type": "code",
   "execution_count": null,
   "metadata": {},
   "outputs": [],
   "source": [
    "stop_losses = []\n",
    "total_profits = []\n",
    "for sl in np.arange(0.05 * 0.01, 0.3 * 0.01, 0.02 * 0.01):\n",
    "    (profits, stop_loss_prices, maximums) = get_trailing_stop_loss_long_profits(data, sl)\n",
    "    profits = pd.DataFrame(profits)\n",
    "    profits.ffill(inplace=True)\n",
    "    data['profit'] = profits.to_numpy()\n",
    "    total_profit = get_total_profits(data)\n",
    "    stop_losses.append(sl)\n",
    "    total_profits.append(total_profit)\n",
    "    print(f'sl={sl}, total_profit={total_profit}')"
   ]
  },
  {
   "cell_type": "code",
   "execution_count": null,
   "metadata": {},
   "outputs": [],
   "source": [
    "fig = make_subplots(rows=1, cols=1, shared_xaxes=True, \n",
    "            vertical_spacing=0.01,\n",
    "            row_heights=[1],\n",
    "            specs=[[{\"secondary_y\": True}]])\n",
    "fig.add_trace(go.Scatter(x=stop_losses, y=total_profits, mode='lines', line=dict(color='black'),\n",
    "                            name='total_profits'), row=1, col=1)"
   ]
  },
  {
   "cell_type": "code",
   "execution_count": null,
   "metadata": {},
   "outputs": [],
   "source": [
    "(0.01 * 0.07 * 2, 0.01 * 0.05 * 2)"
   ]
  },
  {
   "cell_type": "code",
   "execution_count": null,
   "metadata": {},
   "outputs": [],
   "source": [
    "\"\"\" i don't know if it's a coincidence or not but the optimal trailing stop loss size happens to be close to trading \n",
    "fees. for example, on bybit trading fee starts at 0.1%. and the optimal trailing stop loss is 0.11%.\n",
    "\"\"\""
   ]
  }
 ],
 "metadata": {
  "kernelspec": {
   "display_name": "venv",
   "language": "python",
   "name": "python3"
  },
  "language_info": {
   "codemirror_mode": {
    "name": "ipython",
    "version": 3
   },
   "file_extension": ".py",
   "mimetype": "text/x-python",
   "name": "python",
   "nbconvert_exporter": "python",
   "pygments_lexer": "ipython3",
   "version": "3.10.12"
  }
 },
 "nbformat": 4,
 "nbformat_minor": 2
}
