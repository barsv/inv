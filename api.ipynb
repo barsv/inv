{
 "cells": [
  {
   "cell_type": "code",
   "execution_count": 103,
   "metadata": {},
   "outputs": [],
   "source": [
    "# этот скрипт делает запрос к openai api."
   ]
  },
  {
   "cell_type": "code",
   "execution_count": 104,
   "metadata": {},
   "outputs": [],
   "source": [
    "#%pip install numpy\n",
    "#%pip install pandas\n",
    "#%pip install python-dotenv"
   ]
  },
  {
   "cell_type": "code",
   "execution_count": 105,
   "metadata": {},
   "outputs": [],
   "source": [
    "import base64\n",
    "import requests\n",
    "from dotenv import load_dotenv\n",
    "import os\n",
    "import json\n",
    "\n",
    "# Загрузка переменных из файла .env\n",
    "load_dotenv()\n",
    "\n",
    "# Получение значения переменной OPENAI_API_KEY\n",
    "api_key = os.getenv('OPENAI_API_KEY')\n",
    "\n",
    "headers = {\n",
    "  \"Content-Type\": \"application/json\",\n",
    "  \"Authorization\": f\"Bearer {api_key}\"\n",
    "}\n",
    "\n",
    "# Function to encode the image\n",
    "def encode_image(image_path):\n",
    "  with open(image_path, \"rb\") as image_file:\n",
    "    return base64.b64encode(image_file.read()).decode('utf-8')"
   ]
  },
  {
   "cell_type": "code",
   "execution_count": 106,
   "metadata": {},
   "outputs": [],
   "source": [
    "# Path to your image\n",
    "image_path = \"img/1T.png\"\n",
    "\n",
    "# Getting the base64 string\n",
    "base64_image = encode_image(image_path)"
   ]
  },
  {
   "cell_type": "code",
   "execution_count": 107,
   "metadata": {},
   "outputs": [
    {
     "data": {
      "text/plain": [
       "{'id': 'chatcmpl-9VRu50v1EHfXorAAIsV5EXgfcNNix',\n",
       " 'object': 'chat.completion',\n",
       " 'created': 1717282457,\n",
       " 'model': 'gpt-4o-2024-05-13',\n",
       " 'choices': [{'index': 0,\n",
       "   'message': {'role': 'assistant',\n",
       "    'content': \"To provide an analysis of this minute candlestick chart, we'll consider the following indicators: Bollinger Bands, Average True Range (ATR), Relative Strength Index (RSI), and Moving Average Convergence Divergence (MACD).\\n\\n### Observations:\\n1. **Candlestick Movement & Bollinger Bands:**\\n   The price is currently moving near the lower Bollinger Band, indicating a possible oversold condition. The bands are relatively wide, which suggests increased volatility.\\n\\n2. **Average True Range (ATR):**\\n   The ATR, shown in red, is moderately high, indicating substantial recent volatility.\\n\\n3. **Volume and RSI:**\\n   The volume has shown a significant increase around 07:28, which was followed by a price drop. The RSI is around 30, close to the oversold threshold, suggesting that the current price might be undervalued, with a potential for a rebound.\\n\\n4. **MACD:**\\n   The MACD histogram is in negative territory, and the MACD line is below the signal line, indicating bearish momentum, but the gap seems to be narrowing.\\n\\n### Forecasting the Next 5 Minutes:\\nGiven these observations, let's predict the range of the closing price for the next 5 minutes and the probabilities of price movement.\\n\\n### Predictions:\\n1. **Price Range Estimation:**\\n   - **Upside Potential:** Based on Bollinger Bands, the upper bound can be estimated near the middle Bollinger Band, which is approximately 67850 to 67900.\\n   - **Downside Potential:** The lower bound could revisit the lower Bollinger Band at around 67500.\\n\\n2. **Probabilities:**\\n   - **Price Increase Probability (P↑):** Considering the RSI is near the oversold region, and the MACD is showing signs of potential convergence, the likelihood of a short-term reversal and modest rally is around 60%.\\n   - **Price Decrease Probability (P↓):** Despite the oversold signs, the overall trend observed on the MACD and the position relative to the lower Bollinger Band still signal a bearish sentiment. Hence, the probability of continued slight downward movement or stabilization is around 40%.\\n\\n### Predicted Closing Price Range:\\n- Range: 67500 to 67900\\n- Probability of Increase: 60%\\n- Probability of Decrease: 40%\\n\\nPlease note that these predictions are based on historical technical patterns and don't account for unforeseen market events or news. Always consider multiple indicators and sources before making trading decisions.\"},\n",
       "   'logprobs': None,\n",
       "   'finish_reason': 'stop'}],\n",
       " 'usage': {'prompt_tokens': 951,\n",
       "  'completion_tokens': 506,\n",
       "  'total_tokens': 1457},\n",
       " 'system_fingerprint': 'fp_aa87380ac5'}"
      ]
     },
     "execution_count": 107,
     "metadata": {},
     "output_type": "execute_result"
    }
   ],
   "source": [
    "payload = {\n",
    "  \"model\": \"gpt-4o\",\n",
    "  \"messages\": [\n",
    "    {\n",
    "      \"role\": \"system\", \n",
    "      \"content\": \"You are a professional quantitative analyst specializing in financial market analysis and price\" \n",
    "              + \" forecasting. You always spend a few sentences explaining background context, assumptions, and\" \n",
    "              + \" step-by-step thinking BEFORE you try to answer a question to ensure accuracy. You conduct a\"\n",
    "              + \" thorough analysis of the overall market situation before providing forecasts.\"\n",
    "    },\n",
    "    {\n",
    "      \"role\": \"user\", \n",
    "      \"content\": [\n",
    "        {\n",
    "          \"type\": \"text\", \n",
    "          \"text\": \"Could you please analyze the attached minute candlestick chart and provide forecasts for the next\"\n",
    "                + \" 5 minutes. The main chart includes Bollinger Bands (period=20, color=black) and ATR\"\n",
    "                + \" (period=10, color=red). The volume chart also includes RSI (period=14, color=black).\"\n",
    "                + \" Below the volume chart is a panel with MACD (fast=12, slow=26, signal=9). Please MAKE SURE TO\"\n",
    "                + \" INCLUDE the predicted CLOSING PRICE RANGE after the next 5 minutes as well as the PROBABILITIES of\"\n",
    "                + \" price increase and decrease.\"\n",
    "        },\n",
    "        {\n",
    "          \"type\": \"image_url\",\n",
    "          \"image_url\": {\n",
    "            \"url\": f\"data:image/jpeg;base64,{base64_image}\"\n",
    "          },\n",
    "        }\n",
    "      ],\n",
    "    }\n",
    "  ],\n",
    "  \"max_tokens\": 1000\n",
    "}\n",
    "\n",
    "# делаем первый запрос к API, в котором просим провести анализ графика.\n",
    "response = requests.post(\"https://api.openai.com/v1/chat/completions\", headers=headers, json=payload)\n",
    "j = response.json()\n",
    "j"
   ]
  },
  {
   "cell_type": "code",
   "execution_count": 108,
   "metadata": {},
   "outputs": [
    {
     "data": {
      "application/javascript": "\n    var currentCell = Jupyter.notebook.get_selected_index();\n    var nextCell = Jupyter.notebook.get_cell(currentCell + 1);\n    if (nextCell && nextCell.cell_type === 'markdown') {\n        Jupyter.notebook.delete_cell(currentCell + 1);\n    }\n    ",
      "text/plain": [
       "<IPython.core.display.Javascript object>"
      ]
     },
     "metadata": {},
     "output_type": "display_data"
    },
    {
     "data": {
      "text/markdown": [
       "To provide an analysis of this minute candlestick chart, we'll consider the following indicators: Bollinger Bands, Average True Range (ATR), Relative Strength Index (RSI), and Moving Average Convergence Divergence (MACD).\n",
       "\n",
       "### Observations:\n",
       "1. **Candlestick Movement & Bollinger Bands:**\n",
       "   The price is currently moving near the lower Bollinger Band, indicating a possible oversold condition. The bands are relatively wide, which suggests increased volatility.\n",
       "\n",
       "2. **Average True Range (ATR):**\n",
       "   The ATR, shown in red, is moderately high, indicating substantial recent volatility.\n",
       "\n",
       "3. **Volume and RSI:**\n",
       "   The volume has shown a significant increase around 07:28, which was followed by a price drop. The RSI is around 30, close to the oversold threshold, suggesting that the current price might be undervalued, with a potential for a rebound.\n",
       "\n",
       "4. **MACD:**\n",
       "   The MACD histogram is in negative territory, and the MACD line is below the signal line, indicating bearish momentum, but the gap seems to be narrowing.\n",
       "\n",
       "### Forecasting the Next 5 Minutes:\n",
       "Given these observations, let's predict the range of the closing price for the next 5 minutes and the probabilities of price movement.\n",
       "\n",
       "### Predictions:\n",
       "1. **Price Range Estimation:**\n",
       "   - **Upside Potential:** Based on Bollinger Bands, the upper bound can be estimated near the middle Bollinger Band, which is approximately 67850 to 67900.\n",
       "   - **Downside Potential:** The lower bound could revisit the lower Bollinger Band at around 67500.\n",
       "\n",
       "2. **Probabilities:**\n",
       "   - **Price Increase Probability (P↑):** Considering the RSI is near the oversold region, and the MACD is showing signs of potential convergence, the likelihood of a short-term reversal and modest rally is around 60%.\n",
       "   - **Price Decrease Probability (P↓):** Despite the oversold signs, the overall trend observed on the MACD and the position relative to the lower Bollinger Band still signal a bearish sentiment. Hence, the probability of continued slight downward movement or stabilization is around 40%.\n",
       "\n",
       "### Predicted Closing Price Range:\n",
       "- Range: 67500 to 67900\n",
       "- Probability of Increase: 60%\n",
       "- Probability of Decrease: 40%\n",
       "\n",
       "Please note that these predictions are based on historical technical patterns and don't account for unforeseen market events or news. Always consider multiple indicators and sources before making trading decisions."
      ],
      "text/plain": [
       "<IPython.core.display.Markdown object>"
      ]
     },
     "metadata": {},
     "output_type": "display_data"
    }
   ],
   "source": [
    "# эта ячейка берет ответ из предыдущей ячейки и вставляет его в маркдаун ячейку ниже, чтобы было удобно читать.\n",
    "\n",
    "# Запустите следующий код в Jupyter Notebook, чтобы создать функцию, которая будет добавлять новую ячейку с содержимым:\n",
    "from IPython.display import display, Markdown, Javascript\n",
    "\n",
    "def create_markdown_cell(content):\n",
    "    display(Markdown(content))\n",
    "\n",
    "# Создайте функцию, которая удаляет следующую ячейку, если она имеет тип Markdown:\n",
    "def delete_next_markdown_cell():\n",
    "    display(Javascript(\"\"\"\n",
    "    var currentCell = Jupyter.notebook.get_selected_index();\n",
    "    var nextCell = Jupyter.notebook.get_cell(currentCell + 1);\n",
    "    if (nextCell && nextCell.cell_type === 'markdown') {\n",
    "        Jupyter.notebook.delete_cell(currentCell + 1);\n",
    "    }\n",
    "    \"\"\"))\n",
    "\n",
    "# Извлечение значения поля content\n",
    "content = j['choices'][0]['message']['content']\n",
    "\n",
    "# Удаление следующей Markdown ячейки, если она существует\n",
    "delete_next_markdown_cell()\n",
    "\n",
    "# Создание новой markdown ячейки с содержимым\n",
    "create_markdown_cell(content)"
   ]
  },
  {
   "cell_type": "code",
   "execution_count": 109,
   "metadata": {},
   "outputs": [
    {
     "data": {
      "text/plain": [
       "\"To provide an analysis of this minute candlestick chart, we'll consider the following indicators: Bollinger Bands, Average True Range (ATR), Relative Strength Index (RSI), and Moving Average Convergence Divergence (MACD).\\n\\n### Observations:\\n1. **Candlestick Movement & Bollinger Bands:**\\n   The price is currently moving near the lower Bollinger Band, indicating a possible oversold condition. The bands are relatively wide, which suggests increased volatility.\\n\\n2. **Average True Range (ATR):**\\n   The ATR, shown in red, is moderately high, indicating substantial recent volatility.\\n\\n3. **Volume and RSI:**\\n   The volume has shown a significant increase around 07:28, which was followed by a price drop. The RSI is around 30, close to the oversold threshold, suggesting that the current price might be undervalued, with a potential for a rebound.\\n\\n4. **MACD:**\\n   The MACD histogram is in negative territory, and the MACD line is below the signal line, indicating bearish momentum, but the gap seems to be narrowing.\\n\\n### Forecasting the Next 5 Minutes:\\nGiven these observations, let's predict the range of the closing price for the next 5 minutes and the probabilities of price movement.\\n\\n### Predictions:\\n1. **Price Range Estimation:**\\n   - **Upside Potential:** Based on Bollinger Bands, the upper bound can be estimated near the middle Bollinger Band, which is approximately 67850 to 67900.\\n   - **Downside Potential:** The lower bound could revisit the lower Bollinger Band at around 67500.\\n\\n2. **Probabilities:**\\n   - **Price Increase Probability (P↑):** Considering the RSI is near the oversold region, and the MACD is showing signs of potential convergence, the likelihood of a short-term reversal and modest rally is around 60%.\\n   - **Price Decrease Probability (P↓):** Despite the oversold signs, the overall trend observed on the MACD and the position relative to the lower Bollinger Band still signal a bearish sentiment. Hence, the probability of continued slight downward movement or stabilization is around 40%.\\n\\n### Predicted Closing Price Range:\\n- Range: 67500 to 67900\\n- Probability of Increase: 60%\\n- Probability of Decrease: 40%\\n\\nPlease note that these predictions are based on historical technical patterns and don't account for unforeseen market events or news. Always consider multiple indicators and sources before making trading decisions.\""
      ]
     },
     "execution_count": 109,
     "metadata": {},
     "output_type": "execute_result"
    }
   ],
   "source": [
    "content"
   ]
  },
  {
   "cell_type": "code",
   "execution_count": 110,
   "metadata": {},
   "outputs": [
    {
     "data": {
      "text/plain": [
       "{'id': 'chatcmpl-9VRuFlvqCdkgHLXp0SGAK6HKZuFlM',\n",
       " 'object': 'chat.completion',\n",
       " 'created': 1717282467,\n",
       " 'model': 'gpt-3.5-turbo-0125',\n",
       " 'choices': [{'index': 0,\n",
       "   'message': {'role': 'assistant',\n",
       "    'content': '{\\n  \"h\": 67900,\\n  \"l\": 67500,\\n  \"p_up\": 60,\\n  \"p_down\": 40,\\n  \"error\": \"\"\\n}'},\n",
       "   'logprobs': None,\n",
       "   'finish_reason': 'stop'}],\n",
       " 'usage': {'prompt_tokens': 879, 'completion_tokens': 39, 'total_tokens': 918},\n",
       " 'system_fingerprint': None}"
      ]
     },
     "execution_count": 110,
     "metadata": {},
     "output_type": "execute_result"
    }
   ],
   "source": [
    "# в этой ячейке делаем второй запрос к API, в котором просим предыдущий ответ оформить в виде json.\n",
    "\n",
    "payload = {\n",
    "  \"model\": \"gpt-3.5-turbo\",# берем модель 3.5 турбо, т.к. она в 10 раз дешевле gpt-4o и с задачей справляется.\n",
    "  \"response_format\": { \"type\": \"json_object\" },\n",
    "  \"messages\": [\n",
    "    {\n",
    "      \"role\": \"system\", \n",
    "      \"content\": \"\"\"You are an LLM assistant specialized in converting financial analysis text into structured JSON format.\n",
    " Your task is to extract key numerical values and probabilities from the provided analysis and format\n",
    " them into a JSON object with the following fields: 'h' for the predicted highest price, 'l' for the\n",
    " predicted lowest price, 'p_up' for the probability of price increase, 'p_down' for the probability\n",
    " of price decrease, and 'error' for any potential issues or discrepancies noted during extraction.\n",
    " Ensure the JSON output accurately reflects the information in the analysis, adheres to the following\n",
    " JSON Schema:\n",
    "\n",
    "```\n",
    "{\n",
    "  \"$schema\": \"http://json-schema.org/draft-07/schema#\",\n",
    "  \"type\": \"object\",\n",
    "  \"properties\": {\n",
    "    \"h\": {\n",
    "      \"type\": \"number\",\n",
    "      \"description\": \"Predicted highest price\"\n",
    "    },\n",
    "    \"l\": {\n",
    "      \"type\": \"number\",\n",
    "      \"description\": \"Predicted lowest price\"\n",
    "    },\n",
    "    \"p_up\": {\n",
    "      \"type\": \"number\",\n",
    "      \"description\": \"Probability of price increase\",\n",
    "      \"minimum\": 0,\n",
    "      \"maximum\": 100\n",
    "    },\n",
    "    \"p_down\": {\n",
    "      \"type\": \"number\",\n",
    "      \"description\": \"Probability of price decrease\",\n",
    "      \"minimum\": 0,\n",
    "      \"maximum\": 100\n",
    "    },\n",
    "    \"error\": {\n",
    "      \"type\": \"string\",\n",
    "      \"description\": \"Error message if any issue is found\"\n",
    "    }\n",
    "  },\n",
    "  \"additionalProperties\": false\n",
    "}\n",
    "```\n",
    "\n",
    "Respond only in JSON format without any additional text, as your response will be processed automatically by a program.\"\"\"\n",
    "    },\n",
    "    {\n",
    "      \"role\": \"user\", \n",
    "      \"content\": [\n",
    "        {\n",
    "          \"type\": \"text\", \n",
    "          \"text\": content\n",
    "        }\n",
    "      ],\n",
    "    }\n",
    "  ],\n",
    "  \"max_tokens\": 1000\n",
    "}\n",
    "\n",
    "response = requests.post(\"https://api.openai.com/v1/chat/completions\", headers=headers, json=payload)\n",
    "j = response.json()\n",
    "j"
   ]
  },
  {
   "cell_type": "code",
   "execution_count": 111,
   "metadata": {},
   "outputs": [
    {
     "data": {
      "text/plain": [
       "(67900, 67500, 60, 40, '')"
      ]
     },
     "execution_count": 111,
     "metadata": {},
     "output_type": "execute_result"
    }
   ],
   "source": [
    "json_string = j['choices'][0]['message']['content']\n",
    "\n",
    "# Преобразование строки JSON в объект Python (словарь)\n",
    "data = json.loads(json_string)\n",
    "\n",
    "# Чтение значения 'h'\n",
    "data[\"h\"], data['l'], data['p_up'], data['p_down'], data['error']"
   ]
  }
 ],
 "metadata": {
  "kernelspec": {
   "display_name": "venv",
   "language": "python",
   "name": "python3"
  },
  "language_info": {
   "codemirror_mode": {
    "name": "ipython",
    "version": 3
   },
   "file_extension": ".py",
   "mimetype": "text/x-python",
   "name": "python",
   "nbconvert_exporter": "python",
   "pygments_lexer": "ipython3",
   "version": "3.10.12"
  }
 },
 "nbformat": 4,
 "nbformat_minor": 2
}
