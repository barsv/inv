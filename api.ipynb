{
 "cells": [
  {
   "cell_type": "code",
   "execution_count": 112,
   "metadata": {},
   "outputs": [],
   "source": [
    "# этот скрипт делает запрос к openai api."
   ]
  },
  {
   "cell_type": "code",
   "execution_count": 113,
   "metadata": {},
   "outputs": [],
   "source": [
    "#%pip install numpy\n",
    "#%pip install pandas\n",
    "#%pip install python-dotenv"
   ]
  },
  {
   "cell_type": "code",
   "execution_count": 114,
   "metadata": {},
   "outputs": [],
   "source": [
    "import base64\n",
    "import requests\n",
    "from dotenv import load_dotenv\n",
    "import os\n",
    "import json\n",
    "\n",
    "# Загрузка переменных из файла .env\n",
    "load_dotenv()\n",
    "\n",
    "# Получение значения переменной OPENAI_API_KEY\n",
    "api_key = os.getenv('OPENAI_API_KEY')\n",
    "\n",
    "headers = {\n",
    "  \"Content-Type\": \"application/json\",\n",
    "  \"Authorization\": f\"Bearer {api_key}\"\n",
    "}\n",
    "\n",
    "# Function to encode the image\n",
    "def encode_image(image_path):\n",
    "  with open(image_path, \"rb\") as image_file:\n",
    "    return base64.b64encode(image_file.read()).decode('utf-8')"
   ]
  },
  {
   "cell_type": "code",
   "execution_count": 115,
   "metadata": {},
   "outputs": [],
   "source": [
    "# Path to your image\n",
    "image_path = \"img/1T.png\"\n",
    "\n",
    "# Getting the base64 string\n",
    "base64_image = encode_image(image_path)"
   ]
  },
  {
   "cell_type": "code",
   "execution_count": 116,
   "metadata": {},
   "outputs": [
    {
     "data": {
      "text/plain": [
       "{'id': 'chatcmpl-9VSVxzTRA5dyf6g81sx1i2N3KRgXR',\n",
       " 'object': 'chat.completion',\n",
       " 'created': 1717284805,\n",
       " 'model': 'gpt-4o-2024-05-13',\n",
       " 'choices': [{'index': 0,\n",
       "   'message': {'role': 'assistant',\n",
       "    'content': '### Analysis of the Minute Candlestick Chart\\n\\n#### Background and Indicators\\n1. **Bollinger Bands (Black, Period=20)**: These provide a measure of volatility, indicating potential overbought and oversold conditions.\\n2. **VWAP (Blue)**: The Volume Weighted Average Price helps understand the true average price a stock has traded at throughout the day, considering volume.\\n3. **ATR (Red, Period=10)**: The Average True Range measures market volatility.\\n4. **RSI (Black, Period=14)**: The Relative Strength Index indicates potential market reversals when the market is overbought or oversold.\\n5. **MACD (Fast=12, Slow=26, Signal=9)**: The Moving Average Convergence Divergence shows changes in the strength, direction, momentum, and duration of a trend.\\n\\n#### Current Chart Observations\\n- **Candlestick Movement**: A recent downtrend is observed, with prices currently near the lower Bollinger Band, indicating a potential oversold condition.\\n- **VWAP**: The price is trading below the VWAP line, signifying a bearish market trend.\\n- **ATR**: The ATR is relatively high, indicating increased volatility.\\n- **Volumes**: The volume shows a spike corresponding to the recent downtrend, which suggests strong selling pressure.\\n- **RSI**: The RSI is below 30, indicating that the asset may be oversold.\\n- **MACD**: The MACD line is below the signal line, which suggests a bearish signal, although the histogram shows signs of narrowing, indicating potential weakening of the downtrend.\\n\\n### Forecast for Next 5 Minutes\\n- **Price Movements**: Given that the price is near the lower Bollinger Band and the RSI indicates oversold conditions, there is a probability of a short-term reversal or stabilization.\\n- **Volumes**: Given the high volume, it may be indicative of the last phases of the selling pressure before a potential reversal.\\n- **ATR**: High ATR suggests we should prepare for continued volatility, though not necessarily in a single direction.\\n- **MACD**: Bearish, but potentially indicating a slowing down in bearish momentum.\\n\\n#### Estimated Closing Price Range and Probabilities\\n- **Predicted Closing Price Range**: Given the high volatility, we can estimate the closing price to be within approximately 67600 to 67850.\\n- **Probabilities**:\\n  - **Probability of Increase**: 60% - An increase is possible due to the oversold RSI and proximity to the lower Bollinger Band, indicating a potential short-term reversal.\\n  - **Probability of Decrease**: 40% - There is still a risk of further decline, given the prevailing bearish trend in the MACD, but this is less likely due to the possible exhaustion of selling pressure.\\n\\n### Conclusion\\nWhile the recent trend has been downward, current indicators suggest the possibility of short-term stabilization or a minor reversal. The market is currently highly volatile, so caution should be exercised. Always ensure risk management strategies are in place when trading in volatile conditions.'},\n",
       "   'logprobs': None,\n",
       "   'finish_reason': 'stop'}],\n",
       " 'usage': {'prompt_tokens': 957,\n",
       "  'completion_tokens': 629,\n",
       "  'total_tokens': 1586},\n",
       " 'system_fingerprint': 'fp_aa87380ac5'}"
      ]
     },
     "execution_count": 116,
     "metadata": {},
     "output_type": "execute_result"
    }
   ],
   "source": [
    "payload = {\n",
    "  \"model\": \"gpt-4o\",\n",
    "  \"messages\": [\n",
    "    {\n",
    "      \"role\": \"system\", \n",
    "      \"content\": \"You are a professional quantitative analyst specializing in financial market analysis and price\" \n",
    "              + \" forecasting. You always spend a few sentences explaining background context, assumptions, and\" \n",
    "              + \" step-by-step thinking BEFORE you try to answer a question to ensure accuracy. You conduct a\"\n",
    "              + \" thorough analysis of the overall market situation before providing forecasts.\"\n",
    "    },\n",
    "    {\n",
    "      \"role\": \"user\", \n",
    "      \"content\": [\n",
    "        {\n",
    "          \"type\": \"text\", \n",
    "          \"text\": \"Could you please analyze the attached minute candlestick chart and provide forecasts for the next\"\n",
    "                + \" 5 minutes. The main chart includes Bollinger Bands (period=20, color=black), VWAP (color=blue), ATR\"\n",
    "                + \" (period=10, color=red). The volume chart also includes RSI (period=14, color=black).\"\n",
    "                + \" Below the volume chart is a panel with MACD (fast=12, slow=26, signal=9). Please MAKE SURE TO\"\n",
    "                + \" INCLUDE the predicted CLOSING PRICE RANGE after the next 5 minutes as well as the PROBABILITIES of\"\n",
    "                + \" price increase and decrease.\"\n",
    "        },\n",
    "        {\n",
    "          \"type\": \"image_url\",\n",
    "          \"image_url\": {\n",
    "            \"url\": f\"data:image/jpeg;base64,{base64_image}\"\n",
    "          },\n",
    "        }\n",
    "      ],\n",
    "    }\n",
    "  ],\n",
    "  \"max_tokens\": 1000\n",
    "}\n",
    "\n",
    "# делаем первый запрос к API, в котором просим провести анализ графика.\n",
    "response = requests.post(\"https://api.openai.com/v1/chat/completions\", headers=headers, json=payload)\n",
    "j = response.json()\n",
    "j"
   ]
  },
  {
   "cell_type": "code",
   "execution_count": 117,
   "metadata": {},
   "outputs": [
    {
     "data": {
      "application/javascript": "\n    var currentCell = Jupyter.notebook.get_selected_index();\n    var nextCell = Jupyter.notebook.get_cell(currentCell + 1);\n    if (nextCell && nextCell.cell_type === 'markdown') {\n        Jupyter.notebook.delete_cell(currentCell + 1);\n    }\n    ",
      "text/plain": [
       "<IPython.core.display.Javascript object>"
      ]
     },
     "metadata": {},
     "output_type": "display_data"
    },
    {
     "data": {
      "text/markdown": [
       "### Analysis of the Minute Candlestick Chart\n",
       "\n",
       "#### Background and Indicators\n",
       "1. **Bollinger Bands (Black, Period=20)**: These provide a measure of volatility, indicating potential overbought and oversold conditions.\n",
       "2. **VWAP (Blue)**: The Volume Weighted Average Price helps understand the true average price a stock has traded at throughout the day, considering volume.\n",
       "3. **ATR (Red, Period=10)**: The Average True Range measures market volatility.\n",
       "4. **RSI (Black, Period=14)**: The Relative Strength Index indicates potential market reversals when the market is overbought or oversold.\n",
       "5. **MACD (Fast=12, Slow=26, Signal=9)**: The Moving Average Convergence Divergence shows changes in the strength, direction, momentum, and duration of a trend.\n",
       "\n",
       "#### Current Chart Observations\n",
       "- **Candlestick Movement**: A recent downtrend is observed, with prices currently near the lower Bollinger Band, indicating a potential oversold condition.\n",
       "- **VWAP**: The price is trading below the VWAP line, signifying a bearish market trend.\n",
       "- **ATR**: The ATR is relatively high, indicating increased volatility.\n",
       "- **Volumes**: The volume shows a spike corresponding to the recent downtrend, which suggests strong selling pressure.\n",
       "- **RSI**: The RSI is below 30, indicating that the asset may be oversold.\n",
       "- **MACD**: The MACD line is below the signal line, which suggests a bearish signal, although the histogram shows signs of narrowing, indicating potential weakening of the downtrend.\n",
       "\n",
       "### Forecast for Next 5 Minutes\n",
       "- **Price Movements**: Given that the price is near the lower Bollinger Band and the RSI indicates oversold conditions, there is a probability of a short-term reversal or stabilization.\n",
       "- **Volumes**: Given the high volume, it may be indicative of the last phases of the selling pressure before a potential reversal.\n",
       "- **ATR**: High ATR suggests we should prepare for continued volatility, though not necessarily in a single direction.\n",
       "- **MACD**: Bearish, but potentially indicating a slowing down in bearish momentum.\n",
       "\n",
       "#### Estimated Closing Price Range and Probabilities\n",
       "- **Predicted Closing Price Range**: Given the high volatility, we can estimate the closing price to be within approximately 67600 to 67850.\n",
       "- **Probabilities**:\n",
       "  - **Probability of Increase**: 60% - An increase is possible due to the oversold RSI and proximity to the lower Bollinger Band, indicating a potential short-term reversal.\n",
       "  - **Probability of Decrease**: 40% - There is still a risk of further decline, given the prevailing bearish trend in the MACD, but this is less likely due to the possible exhaustion of selling pressure.\n",
       "\n",
       "### Conclusion\n",
       "While the recent trend has been downward, current indicators suggest the possibility of short-term stabilization or a minor reversal. The market is currently highly volatile, so caution should be exercised. Always ensure risk management strategies are in place when trading in volatile conditions."
      ],
      "text/plain": [
       "<IPython.core.display.Markdown object>"
      ]
     },
     "metadata": {},
     "output_type": "display_data"
    }
   ],
   "source": [
    "# эта ячейка берет ответ из предыдущей ячейки и вставляет его в маркдаун ячейку ниже, чтобы было удобно читать.\n",
    "\n",
    "# Запустите следующий код в Jupyter Notebook, чтобы создать функцию, которая будет добавлять новую ячейку с содержимым:\n",
    "from IPython.display import display, Markdown, Javascript\n",
    "\n",
    "def create_markdown_cell(content):\n",
    "    display(Markdown(content))\n",
    "\n",
    "# Создайте функцию, которая удаляет следующую ячейку, если она имеет тип Markdown:\n",
    "def delete_next_markdown_cell():\n",
    "    display(Javascript(\"\"\"\n",
    "    var currentCell = Jupyter.notebook.get_selected_index();\n",
    "    var nextCell = Jupyter.notebook.get_cell(currentCell + 1);\n",
    "    if (nextCell && nextCell.cell_type === 'markdown') {\n",
    "        Jupyter.notebook.delete_cell(currentCell + 1);\n",
    "    }\n",
    "    \"\"\"))\n",
    "\n",
    "# Извлечение значения поля content\n",
    "content = j['choices'][0]['message']['content']\n",
    "\n",
    "# Удаление следующей Markdown ячейки, если она существует\n",
    "delete_next_markdown_cell()\n",
    "\n",
    "# Создание новой markdown ячейки с содержимым\n",
    "create_markdown_cell(content)"
   ]
  },
  {
   "cell_type": "code",
   "execution_count": 118,
   "metadata": {},
   "outputs": [
    {
     "data": {
      "text/plain": [
       "'### Analysis of the Minute Candlestick Chart\\n\\n#### Background and Indicators\\n1. **Bollinger Bands (Black, Period=20)**: These provide a measure of volatility, indicating potential overbought and oversold conditions.\\n2. **VWAP (Blue)**: The Volume Weighted Average Price helps understand the true average price a stock has traded at throughout the day, considering volume.\\n3. **ATR (Red, Period=10)**: The Average True Range measures market volatility.\\n4. **RSI (Black, Period=14)**: The Relative Strength Index indicates potential market reversals when the market is overbought or oversold.\\n5. **MACD (Fast=12, Slow=26, Signal=9)**: The Moving Average Convergence Divergence shows changes in the strength, direction, momentum, and duration of a trend.\\n\\n#### Current Chart Observations\\n- **Candlestick Movement**: A recent downtrend is observed, with prices currently near the lower Bollinger Band, indicating a potential oversold condition.\\n- **VWAP**: The price is trading below the VWAP line, signifying a bearish market trend.\\n- **ATR**: The ATR is relatively high, indicating increased volatility.\\n- **Volumes**: The volume shows a spike corresponding to the recent downtrend, which suggests strong selling pressure.\\n- **RSI**: The RSI is below 30, indicating that the asset may be oversold.\\n- **MACD**: The MACD line is below the signal line, which suggests a bearish signal, although the histogram shows signs of narrowing, indicating potential weakening of the downtrend.\\n\\n### Forecast for Next 5 Minutes\\n- **Price Movements**: Given that the price is near the lower Bollinger Band and the RSI indicates oversold conditions, there is a probability of a short-term reversal or stabilization.\\n- **Volumes**: Given the high volume, it may be indicative of the last phases of the selling pressure before a potential reversal.\\n- **ATR**: High ATR suggests we should prepare for continued volatility, though not necessarily in a single direction.\\n- **MACD**: Bearish, but potentially indicating a slowing down in bearish momentum.\\n\\n#### Estimated Closing Price Range and Probabilities\\n- **Predicted Closing Price Range**: Given the high volatility, we can estimate the closing price to be within approximately 67600 to 67850.\\n- **Probabilities**:\\n  - **Probability of Increase**: 60% - An increase is possible due to the oversold RSI and proximity to the lower Bollinger Band, indicating a potential short-term reversal.\\n  - **Probability of Decrease**: 40% - There is still a risk of further decline, given the prevailing bearish trend in the MACD, but this is less likely due to the possible exhaustion of selling pressure.\\n\\n### Conclusion\\nWhile the recent trend has been downward, current indicators suggest the possibility of short-term stabilization or a minor reversal. The market is currently highly volatile, so caution should be exercised. Always ensure risk management strategies are in place when trading in volatile conditions.'"
      ]
     },
     "execution_count": 118,
     "metadata": {},
     "output_type": "execute_result"
    }
   ],
   "source": [
    "content"
   ]
  },
  {
   "cell_type": "code",
   "execution_count": 119,
   "metadata": {},
   "outputs": [
    {
     "data": {
      "text/plain": [
       "{'id': 'chatcmpl-9VSW5rH5kCbO3Kzr8NwZxyXnih0gU',\n",
       " 'object': 'chat.completion',\n",
       " 'created': 1717284813,\n",
       " 'model': 'gpt-3.5-turbo-0125',\n",
       " 'choices': [{'index': 0,\n",
       "   'message': {'role': 'assistant',\n",
       "    'content': '{\\n    \"h\": 67850,\\n    \"l\": 67600,\\n    \"p_up\": 60,\\n    \"p_down\": 40,\\n    \"error\": \"\"\\n}'},\n",
       "   'logprobs': None,\n",
       "   'finish_reason': 'stop'}],\n",
       " 'usage': {'prompt_tokens': 987,\n",
       "  'completion_tokens': 39,\n",
       "  'total_tokens': 1026},\n",
       " 'system_fingerprint': None}"
      ]
     },
     "execution_count": 119,
     "metadata": {},
     "output_type": "execute_result"
    }
   ],
   "source": [
    "# в этой ячейке делаем второй запрос к API, в котором просим предыдущий ответ оформить в виде json.\n",
    "\n",
    "payload = {\n",
    "  \"model\": \"gpt-3.5-turbo\",# берем модель 3.5 турбо, т.к. она в 10 раз дешевле gpt-4o и с задачей справляется.\n",
    "  \"response_format\": { \"type\": \"json_object\" },\n",
    "  \"messages\": [\n",
    "    {\n",
    "      \"role\": \"system\", \n",
    "      \"content\": \"\"\"You are an LLM assistant specialized in converting financial analysis text into structured JSON format.\n",
    " Your task is to extract key numerical values and probabilities from the provided analysis and format\n",
    " them into a JSON object with the following fields: 'h' for the predicted highest price, 'l' for the\n",
    " predicted lowest price, 'p_up' for the probability of price increase, 'p_down' for the probability\n",
    " of price decrease, and 'error' for any potential issues or discrepancies noted during extraction.\n",
    " Ensure the JSON output accurately reflects the information in the analysis, adheres to the following\n",
    " JSON Schema:\n",
    "\n",
    "```\n",
    "{\n",
    "  \"$schema\": \"http://json-schema.org/draft-07/schema#\",\n",
    "  \"type\": \"object\",\n",
    "  \"properties\": {\n",
    "    \"h\": {\n",
    "      \"type\": \"number\",\n",
    "      \"description\": \"Predicted highest price\"\n",
    "    },\n",
    "    \"l\": {\n",
    "      \"type\": \"number\",\n",
    "      \"description\": \"Predicted lowest price\"\n",
    "    },\n",
    "    \"p_up\": {\n",
    "      \"type\": \"number\",\n",
    "      \"description\": \"Probability of price increase\",\n",
    "      \"minimum\": 0,\n",
    "      \"maximum\": 100\n",
    "    },\n",
    "    \"p_down\": {\n",
    "      \"type\": \"number\",\n",
    "      \"description\": \"Probability of price decrease\",\n",
    "      \"minimum\": 0,\n",
    "      \"maximum\": 100\n",
    "    },\n",
    "    \"error\": {\n",
    "      \"type\": \"string\",\n",
    "      \"description\": \"Error message if any issue is found\"\n",
    "    }\n",
    "  },\n",
    "  \"additionalProperties\": false\n",
    "}\n",
    "```\n",
    "\n",
    "Respond only in JSON format without any additional text, as your response will be processed automatically by a program.\"\"\"\n",
    "    },\n",
    "    {\n",
    "      \"role\": \"user\", \n",
    "      \"content\": [\n",
    "        {\n",
    "          \"type\": \"text\", \n",
    "          \"text\": content\n",
    "        }\n",
    "      ],\n",
    "    }\n",
    "  ],\n",
    "  \"max_tokens\": 1000\n",
    "}\n",
    "\n",
    "response = requests.post(\"https://api.openai.com/v1/chat/completions\", headers=headers, json=payload)\n",
    "j = response.json()\n",
    "j"
   ]
  },
  {
   "cell_type": "code",
   "execution_count": 120,
   "metadata": {},
   "outputs": [
    {
     "data": {
      "text/plain": [
       "(67850, 67600, 60, 40, '')"
      ]
     },
     "execution_count": 120,
     "metadata": {},
     "output_type": "execute_result"
    }
   ],
   "source": [
    "json_string = j['choices'][0]['message']['content']\n",
    "\n",
    "# Преобразование строки JSON в объект Python (словарь)\n",
    "data = json.loads(json_string)\n",
    "\n",
    "# Чтение значения 'h'\n",
    "data[\"h\"], data['l'], data['p_up'], data['p_down'], data['error']"
   ]
  }
 ],
 "metadata": {
  "kernelspec": {
   "display_name": "venv",
   "language": "python",
   "name": "python3"
  },
  "language_info": {
   "codemirror_mode": {
    "name": "ipython",
    "version": 3
   },
   "file_extension": ".py",
   "mimetype": "text/x-python",
   "name": "python",
   "nbconvert_exporter": "python",
   "pygments_lexer": "ipython3",
   "version": "3.10.12"
  }
 },
 "nbformat": 4,
 "nbformat_minor": 2
}
