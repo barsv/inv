{
 "cells": [
  {
   "cell_type": "code",
   "execution_count": null,
   "metadata": {},
   "outputs": [],
   "source": [
    "# этот скрипт делает запрос к openai api."
   ]
  },
  {
   "cell_type": "code",
   "execution_count": 8,
   "metadata": {},
   "outputs": [],
   "source": [
    "#%pip install numpy\n",
    "#%pip install pandas\n",
    "#%pip install python-dotenv"
   ]
  },
  {
   "cell_type": "code",
   "execution_count": 12,
   "metadata": {},
   "outputs": [],
   "source": [
    "import base64\n",
    "import requests\n",
    "from dotenv import load_dotenv\n",
    "import os\n",
    "\n",
    "# Загрузка переменных из файла .env\n",
    "load_dotenv()\n",
    "\n",
    "# Получение значения переменной OPENAI_API_KEY\n",
    "api_key = os.getenv('OPENAI_API_KEY')\n",
    "\n",
    "headers = {\n",
    "  \"Content-Type\": \"application/json\",\n",
    "  \"Authorization\": f\"Bearer {api_key}\"\n",
    "}\n",
    "\n",
    "# Function to encode the image\n",
    "def encode_image(image_path):\n",
    "  with open(image_path, \"rb\") as image_file:\n",
    "    return base64.b64encode(image_file.read()).decode('utf-8')"
   ]
  },
  {
   "cell_type": "code",
   "execution_count": 11,
   "metadata": {},
   "outputs": [],
   "source": [
    "# Path to your image\n",
    "image_path = \"img/1T.png\"\n",
    "\n",
    "# Getting the base64 string\n",
    "base64_image = encode_image(image_path)"
   ]
  },
  {
   "cell_type": "code",
   "execution_count": 19,
   "metadata": {},
   "outputs": [
    {
     "data": {
      "text/plain": [
       "{'id': 'chatcmpl-9VMY8bEWdOngtxUMS0GS2Bl9EA3mA',\n",
       " 'object': 'chat.completion',\n",
       " 'created': 1717261876,\n",
       " 'model': 'gpt-4o-2024-05-13',\n",
       " 'choices': [{'index': 0,\n",
       "   'message': {'role': 'assistant',\n",
       "    'content': '### Market Context\\n\\n1. **Bollinger Bands**:\\n   - The price is primarily trading at or below the lower Bollinger Band, indicating a strong downward trend.\\n   - The distance between the bands is relatively wide, indicating increased volatility.\\n\\n2. **Average True Range (ATR)**:\\n   - ATR is increasing, signaling rising volatility and potential for larger price movements.\\n\\n3. **Relative Strength Index (RSI)**:\\n   - RSI is below the 30 level, indicating that the market is currently oversold. This could suggest a potential for a short-term bounce or reversal.\\n\\n4. **Moving Average Convergence Divergence (MACD)**:\\n   - The MACD line is substantially below the signal line and is also in negative territory, indicating strong bearish momentum.\\n\\n### Short-term Price Forecast\\n\\nGiven the current indicators, the market exhibits strong bearish signals. However, the oversold condition per RSI creates a slight counterpoint suggesting a possibility of a minor pullback or temporary reversal. \\n\\n### Predictions & Probabilities\\n\\n- **Expected Closing Price for Next 10 Minutes**: The next few candlesticks are likely to maintain or slightly recover from their current downward trajectory:\\n  - **Predicted Closing Price**: Around 67580 to 67650.\\n\\n- **Price Increase Probability**:\\n  - Due to the RSI being oversold, there is roughly a 30% chance of a minor upward correction.\\n\\n- **Price Decrease Probability**:\\n  - Given the overall strong bearish sentiment indicated by the Bollinger Bands, ATR, and MACD, a continued decline in price has about a 70% probability.\\n\\n### Summary\\n\\nExpect the bearish trend to dominate in the immediate term with the possibility of minor recoveries. If volume and RSI begin to show signs of divergence, this could indicate a potential reversal. Monitor for any significant change in volume and RSI movement out of the oversold zone closely as they might signal a shift.'},\n",
       "   'logprobs': None,\n",
       "   'finish_reason': 'stop'}],\n",
       " 'usage': {'prompt_tokens': 941,\n",
       "  'completion_tokens': 392,\n",
       "  'total_tokens': 1333},\n",
       " 'system_fingerprint': 'fp_aa87380ac5'}"
      ]
     },
     "execution_count": 19,
     "metadata": {},
     "output_type": "execute_result"
    }
   ],
   "source": [
    "payload = {\n",
    "  \"model\": \"gpt-4o\",\n",
    "  \"messages\": [\n",
    "    {\n",
    "      \"role\": \"system\", \n",
    "      \"content\": \"You are a professional quantitative analyst specializing in financial market analysis and price\" \n",
    "              + \" forecasting. You always spend a few sentences explaining background context, assumptions, and\" \n",
    "              + \" step-by-step thinking BEFORE you try to answer a question to ensure accuracy. You conduct a\"\n",
    "              + \" thorough analysis of the overall market situation before providing forecasts.\"\n",
    "    },\n",
    "    {\n",
    "      \"role\": \"user\", \n",
    "      \"content\": [\n",
    "        {\n",
    "          \"type\": \"text\", \n",
    "          \"text\": \"Could you please analyze the attached minute candlestick chart and provide forecasts for the next\"\n",
    "                + \" 10 minutes. The main chart includes Bollinger Bands (period=20, color=black) and ATR\"\n",
    "                + \" (period=10, color=red). The volume chart also includes RSI (period=14, color=black).\"\n",
    "                + \" Below the volume chart is a panel with MACD (fast=12, slow=26, signal=9). Please include the\"\n",
    "                + \" predicted closing price for the next 10 minutes as well as the probabilities of\"\n",
    "                + \" price increase and decrease.\"\n",
    "        },\n",
    "        {\n",
    "          \"type\": \"image_url\",\n",
    "          \"image_url\": {\n",
    "            \"url\": f\"data:image/jpeg;base64,{base64_image}\"\n",
    "          },\n",
    "        }\n",
    "      ],\n",
    "    }\n",
    "  ],\n",
    "  \"max_tokens\": 1000\n",
    "}\n",
    "\n",
    "response = requests.post(\"https://api.openai.com/v1/chat/completions\", headers=headers, json=payload)\n",
    "j = response.json()\n",
    "j"
   ]
  },
  {
   "cell_type": "code",
   "execution_count": 28,
   "metadata": {},
   "outputs": [
    {
     "data": {
      "application/javascript": "\n    var currentCell = Jupyter.notebook.get_selected_index();\n    var nextCell = Jupyter.notebook.get_cell(currentCell + 1);\n    if (nextCell && nextCell.cell_type === 'markdown') {\n        Jupyter.notebook.delete_cell(currentCell + 1);\n    }\n    ",
      "text/plain": [
       "<IPython.core.display.Javascript object>"
      ]
     },
     "metadata": {},
     "output_type": "display_data"
    },
    {
     "data": {
      "text/markdown": [
       "### Market Context\n",
       "\n",
       "1. **Bollinger Bands**:\n",
       "   - The price is primarily trading at or below the lower Bollinger Band, indicating a strong downward trend.\n",
       "   - The distance between the bands is relatively wide, indicating increased volatility.\n",
       "\n",
       "2. **Average True Range (ATR)**:\n",
       "   - ATR is increasing, signaling rising volatility and potential for larger price movements.\n",
       "\n",
       "3. **Relative Strength Index (RSI)**:\n",
       "   - RSI is below the 30 level, indicating that the market is currently oversold. This could suggest a potential for a short-term bounce or reversal.\n",
       "\n",
       "4. **Moving Average Convergence Divergence (MACD)**:\n",
       "   - The MACD line is substantially below the signal line and is also in negative territory, indicating strong bearish momentum.\n",
       "\n",
       "### Short-term Price Forecast\n",
       "\n",
       "Given the current indicators, the market exhibits strong bearish signals. However, the oversold condition per RSI creates a slight counterpoint suggesting a possibility of a minor pullback or temporary reversal. \n",
       "\n",
       "### Predictions & Probabilities\n",
       "\n",
       "- **Expected Closing Price for Next 10 Minutes**: The next few candlesticks are likely to maintain or slightly recover from their current downward trajectory:\n",
       "  - **Predicted Closing Price**: Around 67580 to 67650.\n",
       "\n",
       "- **Price Increase Probability**:\n",
       "  - Due to the RSI being oversold, there is roughly a 30% chance of a minor upward correction.\n",
       "\n",
       "- **Price Decrease Probability**:\n",
       "  - Given the overall strong bearish sentiment indicated by the Bollinger Bands, ATR, and MACD, a continued decline in price has about a 70% probability.\n",
       "\n",
       "### Summary\n",
       "\n",
       "Expect the bearish trend to dominate in the immediate term with the possibility of minor recoveries. If volume and RSI begin to show signs of divergence, this could indicate a potential reversal. Monitor for any significant change in volume and RSI movement out of the oversold zone closely as they might signal a shift."
      ],
      "text/plain": [
       "<IPython.core.display.Markdown object>"
      ]
     },
     "metadata": {},
     "output_type": "display_data"
    }
   ],
   "source": [
    "# Запустите следующий код в Jupyter Notebook, чтобы создать функцию, которая будет добавлять новую ячейку с содержимым:\n",
    "from IPython.display import display, Markdown, Javascript\n",
    "\n",
    "def create_markdown_cell(content):\n",
    "    display(Markdown(content))\n",
    "\n",
    "# Создайте функцию, которая удаляет следующую ячейку, если она имеет тип Markdown:\n",
    "def delete_next_markdown_cell():\n",
    "    display(Javascript(\"\"\"\n",
    "    var currentCell = Jupyter.notebook.get_selected_index();\n",
    "    var nextCell = Jupyter.notebook.get_cell(currentCell + 1);\n",
    "    if (nextCell && nextCell.cell_type === 'markdown') {\n",
    "        Jupyter.notebook.delete_cell(currentCell + 1);\n",
    "    }\n",
    "    \"\"\"))\n",
    "\n",
    "# Извлечение значения поля content\n",
    "content = j['choices'][0]['message']['content']\n",
    "\n",
    "# Удаление следующей Markdown ячейки, если она существует\n",
    "delete_next_markdown_cell()\n",
    "\n",
    "# Создание новой markdown ячейки с содержимым\n",
    "create_markdown_cell(content)"
   ]
  },
  {
   "cell_type": "code",
   "execution_count": null,
   "metadata": {},
   "outputs": [],
   "source": []
  }
 ],
 "metadata": {
  "kernelspec": {
   "display_name": "venv",
   "language": "python",
   "name": "python3"
  },
  "language_info": {
   "codemirror_mode": {
    "name": "ipython",
    "version": 3
   },
   "file_extension": ".py",
   "mimetype": "text/x-python",
   "name": "python",
   "nbconvert_exporter": "python",
   "pygments_lexer": "ipython3",
   "version": "3.10.12"
  }
 },
 "nbformat": 4,
 "nbformat_minor": 2
}
