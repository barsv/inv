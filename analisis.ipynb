{
 "cells": [
  {
   "cell_type": "code",
   "execution_count": 70,
   "metadata": {},
   "outputs": [],
   "source": [
    "import pandas as pd\n",
    "import numpy as np\n",
    "import forecast"
   ]
  },
  {
   "cell_type": "code",
   "execution_count": 71,
   "metadata": {},
   "outputs": [],
   "source": [
    "# Загрузим данные\n",
    "predictions = pd.read_csv('forecasts/BTCUSD.csv')\n",
    "candles_df = forecast.get_df('BTCUSD', '2024-01-02 00:00', '1T')\n",
    "predictions['last_candle_time'] = pd.to_datetime(predictions['last_candle_time'])\n",
    "\n",
    "# Функция для расчета фактических движений цены вверх\n",
    "def calculate_actual_movements(predictions, candles_df):\n",
    "    actual_movements = []\n",
    "    \n",
    "    for idx, row in predictions.iterrows():\n",
    "        last_candle_time = row['last_candle_time']\n",
    "        p_up = row['p_up']\n",
    "        \n",
    "        # Найдем цену закрытия в момент прогноза\n",
    "        close_price = candles_df.loc[last_candle_time]['close']\n",
    "        \n",
    "        # Найдем цену открытия через пять минут\n",
    "        future_time = last_candle_time + pd.Timedelta(minutes=5)\n",
    "        open_price = candles_df.loc[future_time]['open']\n",
    "        \n",
    "        # Сравним цены\n",
    "        if open_price > close_price:\n",
    "            actual_movements.append(1)\n",
    "        else:\n",
    "            actual_movements.append(0)\n",
    "    \n",
    "    return actual_movements\n",
    "\n",
    "# Рассчитаем фактические движения\n",
    "predictions['actual_up'] = calculate_actual_movements(predictions, candles_df)"
   ]
  },
  {
   "cell_type": "code",
   "execution_count": 72,
   "metadata": {},
   "outputs": [
    {
     "name": "stdout",
     "output_type": "stream",
     "text": [
      "Forecasted p_up: 45%, Actual p_up: 63.33%, Sample size: 30\n",
      "Forecasted p_up: 60%, Actual p_up: 45.10%, Sample size: 153\n",
      "Forecasted p_up: 65%, Actual p_up: 62.50%, Sample size: 32\n",
      "Forecasted p_up: 50%, Actual p_up: 64.29%, Sample size: 14\n",
      "Forecasted p_up: 35%, Actual p_up: 71.43%, Sample size: 14\n",
      "Forecasted p_up: 30%, Actual p_up: 50.00%, Sample size: 36\n",
      "Forecasted p_up: 55%, Actual p_up: 43.28%, Sample size: 67\n",
      "Forecasted p_up: 40%, Actual p_up: 47.06%, Sample size: 51\n",
      "Forecasted p_up: 70%, Actual p_up: 56.41%, Sample size: 39\n",
      "Forecasted p_up: 25%, Actual p_up: 50.00%, Sample size: 2\n",
      "Forecasted p_up: 20%, Actual p_up: 25.00%, Sample size: 4\n"
     ]
    }
   ],
   "source": [
    "# Получаем уникальные значения вероятности p_up\n",
    "unique_p_up_values = predictions['p_up'].unique()\n",
    "\n",
    "# Словарь для хранения результатов\n",
    "p_up_to_actual_probability = {}\n",
    "\n",
    "# Рассчитываем фактическую вероятность для каждого уникального значения p_up\n",
    "for p_up in unique_p_up_values:\n",
    "    # Фильтруем строки с текущим значением p_up\n",
    "    filtered_predictions = predictions[predictions['p_up'] == p_up]\n",
    "    \n",
    "    # Рассчитываем фактическую вероятность роста для текущего значения p_up\n",
    "    actual_probability = sum(filtered_predictions['actual_up']) / len(filtered_predictions['actual_up'])\n",
    "    sample_size = len(filtered_predictions['actual_up'])\n",
    "    p_up_to_actual_probability[p_up] = (actual_probability, sample_size)\n",
    "\n",
    "# Выводим результаты\n",
    "for forecasted_p_up, (actual_p_up, sample_size) in p_up_to_actual_probability.items():\n",
    "    print(f'Forecasted p_up: {forecasted_p_up}%, Actual p_up: {actual_p_up * 100:.2f}%, Sample size: {sample_size}')\n"
   ]
  }
 ],
 "metadata": {
  "kernelspec": {
   "display_name": "venv",
   "language": "python",
   "name": "python3"
  },
  "language_info": {
   "codemirror_mode": {
    "name": "ipython",
    "version": 3
   },
   "file_extension": ".py",
   "mimetype": "text/x-python",
   "name": "python",
   "nbconvert_exporter": "python",
   "pygments_lexer": "ipython3",
   "version": "3.10.12"
  }
 },
 "nbformat": 4,
 "nbformat_minor": 2
}
