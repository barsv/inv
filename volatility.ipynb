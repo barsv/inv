{
 "cells": [
  {
   "cell_type": "code",
   "execution_count": null,
   "metadata": {},
   "outputs": [],
   "source": [
    "# idea was to try to adjust trailing stop loss size based on volatility. so that when volatility is high the stop\n",
    "# loss size is bigger. but the analysis showed that the results are worse than without volatility multiplier. or i just\n",
    "# haven't figured out yet how to cook it right."
   ]
  },
  {
   "cell_type": "code",
   "execution_count": null,
   "metadata": {},
   "outputs": [],
   "source": [
    "# volatility is not used.\n",
    "def get_volatility():\n",
    "    df = data\n",
    "    closes = df['close']\n",
    "    return np.abs(np.log(closes/closes.shift(1)))\n",
    "volatility = get_volatility()\n",
    "data['volatility'] = volatility\n",
    "data['volatility_ema'] = ta.ema(volatility, 20)\n",
    "data['volatility_ema1k'] = ta.ema(volatility, 10*1000)\n",
    "data['volatility_multiplier'] = (1+data['volatility_ema']/data['volatility_ema1k']) **1.5"
   ]
  }
 ],
 "metadata": {
  "language_info": {
   "name": "python"
  }
 },
 "nbformat": 4,
 "nbformat_minor": 2
}
