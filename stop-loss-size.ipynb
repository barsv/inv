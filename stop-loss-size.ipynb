{
 "cells": [
  {
   "cell_type": "code",
   "execution_count": null,
   "metadata": {},
   "outputs": [],
   "source": [
    "# в этом ноутбуке строю зависимость прибыльности сделки от размера скользящего стоп-лосса при рандомных трейдах.\n",
    "# код написал клод с моими минорными правками. \n",
    "# моя гипотеза была в том, что для адекватных размеров стоп-лосса (меньше 1%) чем меньше стоп-лосс тем лучше. \n",
    "# я этот вывод сделал на основе наблюдений, нескольких тестов и разглядывая как меняются распределения прибылей \n",
    "# (see stop-loss.ipynb). гипотеза клода была, что зависимость будет в виде перевернутой параболы. \n",
    "# результат получился, что моя гипотеза более верна, чем гипотеза клода, но на самом деле размер средней прибыли при\n",
    "# рандомных трейдах меняется несущественно от размера стоп-лосса. \n",
    "# отличие этого эксперимента от того, что сделано в stop-loss.ipynb в том, что здесь код написал клод и он больше \n",
    "# похож на рандомные трейды в том плане, что симулируется рандомность. в то время как в stop-loss.ipynb я сделал \n",
    "# предположение, что вероятность открытия трейда в любой момент одинаковая. что не совсем так при торговле со \n",
    "# скользящим стоплоссом. например, если позиция открылась и цена не меняется, то позиция не закрывается. а если цена \n",
    "# поменялась в неудачную сторону, то позиция закрывается и появляется шанс заново открыть позицию. т.е. вероятность \n",
    "# открытия позиции при движении цен выше чем без движения. я предполагаю, что это не существенно влияет на результат и \n",
    "# выводы, однако, решил провести эксперимент, раз уж клод написал код. \n",
    "# кстати, симуляция, которую делает клод в своем коде тоже не обязательно верно отражает распределение вероятности \n",
    "# открытия позиции при автоматизированной торговле с экспертным советником."
   ]
  },
  {
   "cell_type": "code",
   "execution_count": null,
   "metadata": {},
   "outputs": [],
   "source": [
    "import pandas as pd\n",
    "import numpy as np\n",
    "import forecast\n",
    "import matplotlib.pyplot as plt\n",
    "\n",
    "df = forecast.get_df('BTCUSD', '2024-01-02 00:00', '1T')"
   ]
  },
  {
   "cell_type": "code",
   "execution_count": null,
   "metadata": {},
   "outputs": [],
   "source": [
    "def backtest_trailing_stop(df, stop_loss_percent):\n",
    "    position = 0\n",
    "    entry_price = 0\n",
    "    stop_loss = 0\n",
    "    pnl = []\n",
    "    \n",
    "    for i in range(1, len(df)):\n",
    "        # if i % 100000 == 0:\n",
    "        #     print(f'progress: {100*i/len(df)}')\n",
    "        if position == 0:\n",
    "            # Случайный вход в позицию\n",
    "            if np.random.random() < 0.5:  # 50% шанс входа в каждый период\n",
    "                position = 1 if np.random.random() < 0.5 else -1\n",
    "                entry_price = df['close'].iloc[i]\n",
    "                stop_loss = entry_price * (1 - position * stop_loss_percent)\n",
    "        else:\n",
    "            # Проверка на срабатывание стоп-лосса\n",
    "            if (position == 1 and df['low'].iloc[i] <= stop_loss) or \\\n",
    "               (position == -1 and df['high'].iloc[i] >= stop_loss):\n",
    "                pnl.append((stop_loss - entry_price) * position)\n",
    "                position = 0\n",
    "            else:\n",
    "                # Обновление трейлинг стоп-лосса\n",
    "                if position == 1:\n",
    "                    stop_loss = max(stop_loss, df['close'].iloc[i] * (1 - stop_loss_percent))\n",
    "                else:\n",
    "                    stop_loss = min(stop_loss, df['close'].iloc[i] * (1 + stop_loss_percent))\n",
    "    \n",
    "    # Закрытие позиции в конце периода, если она открыта\n",
    "    if position != 0:\n",
    "        pnl.append((df['close'].iloc[-1] - entry_price) * position)\n",
    "    \n",
    "    result = np.mean(pnl) if pnl else 0\n",
    "    print(f'stop_loss_percent: {stop_loss_percent}, result {result}, mean over {len(pnl)}')\n",
    "    return result\n",
    "\n",
    "# Тестирование различных размеров стоп-лосса\n",
    "stop_loss_range = np.logspace(-4, -2, 20)  # от 0.01% до 10%\n",
    "results = []\n",
    "\n",
    "for stop_loss in stop_loss_range:\n",
    "    avg_pnl = backtest_trailing_stop(df, stop_loss)\n",
    "    results.append((stop_loss, avg_pnl))\n",
    "\n",
    "# Построение графика\n",
    "stop_losses, avg_pnls = zip(*results)\n",
    "plt.figure(figsize=(10, 6))\n",
    "plt.semilogx(stop_losses, avg_pnls, marker='o')\n",
    "plt.xlabel('Размер скользящего стоп-лосса (%)')\n",
    "plt.ylabel('Средняя доходность')\n",
    "plt.title('Зависимость средней доходности от размера скользящего стоп-лосса')\n",
    "plt.grid(True)\n",
    "plt.show()\n",
    "\n",
    "# Вывод оптимального размера стоп-лосса\n",
    "optimal_stop_loss = stop_losses[np.argmax(avg_pnls)]\n",
    "print(f\"Оптимальный размер стоп-лосса: {optimal_stop_loss:.4%}\")\n",
    "print(f\"Максимальная средняя доходность: {max(avg_pnls):.4f}\")"
   ]
  },
  {
   "cell_type": "code",
   "execution_count": null,
   "metadata": {},
   "outputs": [],
   "source": [
    "# результат тут такой, что с ростом размера стоплосса в диапозоне от 0.01% до 0.5% идет плавное снижение средней \n",
    "# прибыльности сделки. после 0.5% прибыльность начинает скакать. я интерпретирую это как недостаточное количество \n",
    "# данных для эксперимента. типа случайности дают слишком большой шум и не усредняются."
   ]
  }
 ],
 "metadata": {
  "kernelspec": {
   "display_name": "venv",
   "language": "python",
   "name": "python3"
  },
  "language_info": {
   "codemirror_mode": {
    "name": "ipython",
    "version": 3
   },
   "file_extension": ".py",
   "mimetype": "text/x-python",
   "name": "python",
   "nbconvert_exporter": "python",
   "pygments_lexer": "ipython3",
   "version": "3.10.12"
  }
 },
 "nbformat": 4,
 "nbformat_minor": 2
}
