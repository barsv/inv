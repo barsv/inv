{
 "cells": [
  {
   "cell_type": "code",
   "execution_count": null,
   "metadata": {},
   "outputs": [],
   "source": [
    "import numpy as np\n",
    "import pandas as pd\n",
    "from datetime import datetime, timedelta\n",
    "import forecast  # Импортируем файл с функцией прогноза"
   ]
  },
  {
   "cell_type": "code",
   "execution_count": null,
   "metadata": {},
   "outputs": [],
   "source": [
    "df = forecast.get_df('BTCUSD', '2024-01-02 00:00', '1T')"
   ]
  },
  {
   "cell_type": "code",
   "execution_count": null,
   "metadata": {},
   "outputs": [],
   "source": [
    "start_date = '2024-01-03 04:00'\n",
    "end_date = '2024-01-05'"
   ]
  },
  {
   "cell_type": "code",
   "execution_count": null,
   "metadata": {},
   "outputs": [],
   "source": [
    "def run_backtest(df, start_date, end_date, max_forecasts=10):\n",
    "    # Фильтруем данные по заданным датам\n",
    "    df = df[start_date:end_date]\n",
    "    \n",
    "    # Начальные параметры\n",
    "    min_bars_for_forecast = 300\n",
    "    forecast_high = 0\n",
    "    forecast_low = 0\n",
    "    forecast_count = 0\n",
    "\n",
    "    for i, current_time in enumerate(df.index):\n",
    "        # Пропускаем первые 300 баров\n",
    "        if i < min_bars_for_forecast:\n",
    "            continue\n",
    "        \n",
    "        # Проверяем, достигнуто ли максимальное количество прогнозов\n",
    "        if forecast_count >= max_forecasts:\n",
    "            print(f'Maximum number of forecasts ({max_forecasts}) reached.')\n",
    "            break\n",
    "\n",
    "        # # если мы еще не получали предсказания или цена вышла за диапозон предыдущего предсказания.\n",
    "        # if forecast_high == 0 \\\n",
    "        #     or df.loc[current_time, 'high'] > forecast_high \\\n",
    "        #     or df.loc[current_time, 'low'] < forecast_low:\n",
    "        #     # Вызываем функцию прогноза\n",
    "        #     forecast_data = forecast.get_forecast('BTCUSD', current_time.strftime('%Y-%m-%d %H:%M'))\n",
    "\n",
    "        #     # Увеличиваем счетчик прогнозов\n",
    "        #     forecast_count += 1\n",
    "\n",
    "        #     # Получаем прогнозируемые значения\n",
    "        #     forecast_high = forecast_data['h']\n",
    "        #     forecast_low = forecast_data['l']\n",
    "\n",
    "        # Вызываем функцию прогноза\n",
    "        forecast_data = forecast.get_forecast('BTCUSD', current_time.strftime('%Y-%m-%d %H:%M'))\n",
    "\n",
    "        # Увеличиваем счетчик прогнозов\n",
    "        forecast_count += 1\n",
    "\n",
    "    print('Backtest completed.')"
   ]
  },
  {
   "cell_type": "code",
   "execution_count": null,
   "metadata": {},
   "outputs": [],
   "source": [
    "# Запускаем бэктест\n",
    "#run_backtest(df, start_date, end_date, 400)"
   ]
  }
 ],
 "metadata": {
  "kernelspec": {
   "display_name": "venv",
   "language": "python",
   "name": "python3"
  },
  "language_info": {
   "codemirror_mode": {
    "name": "ipython",
    "version": 3
   },
   "file_extension": ".py",
   "mimetype": "text/x-python",
   "name": "python",
   "nbconvert_exporter": "python",
   "pygments_lexer": "ipython3",
   "version": "3.10.12"
  }
 },
 "nbformat": 4,
 "nbformat_minor": 2
}
