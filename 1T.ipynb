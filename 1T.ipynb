{
 "cells": [
  {
   "cell_type": "code",
   "execution_count": null,
   "metadata": {},
   "outputs": [],
   "source": [
    "# этот скрипт делает график минутных свечей с индикаторами."
   ]
  },
  {
   "cell_type": "code",
   "execution_count": null,
   "metadata": {},
   "outputs": [],
   "source": [
    "#%pip install numpy\n",
    "#%pip install pandas\n",
    "#%pip install mplfinance\n",
    "#%pip install matplotlib\n",
    "#%pip install ta\n",
    "#%pip install pandas_ta"
   ]
  },
  {
   "cell_type": "code",
   "execution_count": null,
   "metadata": {},
   "outputs": [],
   "source": [
    "import numpy as np\n",
    "import pandas as pd\n",
    "import mplfinance as mpf\n",
    "import matplotlib.pyplot as plt\n",
    "#import ta # https://github.com/bukosabino/ta\n",
    "import pandas_ta as ta"
   ]
  },
  {
   "cell_type": "code",
   "execution_count": null,
   "metadata": {},
   "outputs": [],
   "source": [
    "# параметры:\n",
    "symbol = 'BTCUSD'\n",
    "charts_at = '2024-01-03 13:00' # время окончания графика\n",
    "points = 150 # количество свечей на графике"
   ]
  },
  {
   "cell_type": "code",
   "execution_count": null,
   "metadata": {},
   "outputs": [],
   "source": [
    "# DPI в matplotlib = 96 пикселов на дюйм. а размер графика задается в дюймах. поэтому делаю пересчет.\n",
    "dpi = 96\n",
    "# магические числа 1.232 и 1.352 подобраны методом тыка, чтобы сохраненный png был ровно 1024x768.\n",
    "# магические числа 1.285 и 1.352 подобраны методом тыка, чтобы сохраненный png был ровно 1536x768.\n",
    "width_in_inches = (1024 * 1.232) / dpi\n",
    "height_in_inches = (768 * 1.352) / dpi"
   ]
  },
  {
   "cell_type": "code",
   "execution_count": null,
   "metadata": {},
   "outputs": [],
   "source": [
    "def get_df(date_time, period, length = 1000):\n",
    "    \"\"\"\n",
    "    Загрузить датафрейм с диска и взять с него слайс.\n",
    "    \n",
    "    Параметры:\n",
    "    date_time : string\n",
    "        Например, 2024-05-29 08:10. Время не обязательно должно попадать в точку графика (будет взята ближайшая точка).\n",
    "    period : string\n",
    "        Допустимые значения: '5S' - 5 секунд, '1T' - 1 minute, '5T' - 5 minutes, '1H' - 1 hour, 'D' - 1 day.\n",
    "    length : number\n",
    "        Сколько точек надо в датафрейме.\n",
    "    \"\"\"\n",
    "    if period == '5S': # пятисекундные свечи\n",
    "        # '2024-05-29 08:10' -> '2024-05-29'\n",
    "        date = date_time[:10]\n",
    "        filename = f'npz/{symbol}/{symbol}{date}.npz'\n",
    "    else:\n",
    "        filename = f'npz/{symbol}_{period}.npz'\n",
    "\n",
    "    # зачитывание в формате numpy\n",
    "    data = np.load(filename, allow_pickle=True)['data']\n",
    "    # преобразование в формат pandas\n",
    "    df = pd.DataFrame(data, columns=['timestamp', 'open', 'high', 'low', 'close', 'volume'])\n",
    "\n",
    "    # Преобразование 'timestamp' в datetime и установка его как индекс DataFrame\n",
    "    df['timestamp'] = pd.to_datetime(df['timestamp'])\n",
    "    df.set_index('timestamp', inplace=True)\n",
    "\n",
    "    # Преобразование всех столбцов с ценами и объемом в числовой формат\n",
    "    for column in ['open', 'high', 'low', 'close', 'volume']:\n",
    "        df[column] = pd.to_numeric(df[column], errors='coerce')\n",
    "\n",
    "    # поиск интересной точки.\n",
    "    date_to_find = date_to_find = pd.Timestamp(date_time)\n",
    "    index_position = df.index.get_indexer([date_to_find], method='nearest')[0]\n",
    "    # беру часть точек, чтобы не напрягать либу технического анализа большим количеством точек.\n",
    "    df = df[index_position-length:index_position]\n",
    "    return df"
   ]
  },
  {
   "cell_type": "code",
   "execution_count": null,
   "metadata": {},
   "outputs": [],
   "source": [
    "df = get_df(charts_at, '1T')"
   ]
  },
  {
   "cell_type": "code",
   "execution_count": null,
   "metadata": {},
   "outputs": [],
   "source": [
    "# стиль графика для mpl. пытаюсь сделать что-то похожее на светлую тему tradingview.\n",
    "customstyle = mpf.make_mpf_style(base_mpf_style='yahoo', facecolor='w')"
   ]
  },
  {
   "cell_type": "code",
   "execution_count": null,
   "metadata": {},
   "outputs": [],
   "source": [
    "#help(ta.vwap)"
   ]
  },
  {
   "cell_type": "code",
   "execution_count": null,
   "metadata": {},
   "outputs": [],
   "source": [
    "atr = ta.atr(df[-points-10:]['high'],df[-points-10:]['low'],df[-points-10:]['close'], 10)\n",
    "vwap = ta.vwap(df[-points:]['high'],df[-points:]['low'],df[-points:]['close'],df[-points:]['volume'])\n",
    "macd = ta.macd(df[-points-200:]['close'], fast=12, slow=26, signal=9, min_periods=None, append=True)\n",
    "rsi = ta.rsi(df[-points-14:]['close'], 14)\n",
    "\n",
    "# Bollinger Bands\n",
    "bb = ta.bbands(df[-points-20:]['close'], length=20, std=2, mamode='ema')\n",
    "bblow, bbmid, bbup = bb[bb.columns[0]], bb[bb.columns[1]], bb[bb.columns[2]]\n",
    "\n",
    "# добавление графиков к mpf https://github.com/matplotlib/mplfinance/blob/master/examples/addplot.ipynb\n",
    "apdict = [\n",
    "    mpf.make_addplot(bbup[-points:], color='black'),\n",
    "    mpf.make_addplot(bbmid[-points:], color='black'),\n",
    "    mpf.make_addplot(bblow[-points:], color='black'),\n",
    "    mpf.make_addplot(atr[-points:], panel=0, color='red'),\n",
    "    mpf.make_addplot(vwap[-points:], color='blue'),\n",
    "    mpf.make_addplot(macd[macd.columns[0]][-points:], panel=2, secondary_y=False),\n",
    "    mpf.make_addplot(macd[macd.columns[2]][-points:], panel=2, linestyle='dotted', ylabel='MACD'),\n",
    "    mpf.make_addplot(macd[macd.columns[1]][-points:], panel=2, secondary_y=False, type='bar'),\n",
    "    mpf.make_addplot(rsi[-points:], panel=1, secondary_y=True, color='black'),\n",
    "    ]\n",
    "\n",
    "# отрисовка.\n",
    "fig, ax = mpf.plot(\n",
    "    df[-points:],\n",
    "    type='candle',\n",
    "    volume=True, \n",
    "    style=customstyle,\n",
    "    figsize=(width_in_inches, height_in_inches),\n",
    "    returnfig=True, # это надо, чтобы mpf.plot вернул fix, ax.\n",
    "    # разворот подписей по оси X, т.к. в документации openai написано, что повернутый текст он плохо читает (наверное \n",
    "    # умышленно порезана модель, чтобы нельзя было ее использовать для распознавания капчи)\n",
    "    xrotation=0, \n",
    "    #return_width_config=wconfig,\n",
    "    update_width_config={'volume_width': 0.75, 'candle_width': 0.75, 'candle_linewidth': 1},\n",
    "    addplot=apdict\n",
    "    )\n",
    "\n",
    "ax[0].margins(x=0) # убрать отступы слева и справа на графике.\n",
    "# Сохранение графика с учетом изменений отступов\n",
    "fig.savefig('img/1T.png', bbox_inches='tight', dpi=dpi)\n",
    "#fig.imsave(fname='my_image.png', arr=im, cmap='gray_r', format='png')"
   ]
  },
  {
   "cell_type": "code",
   "execution_count": null,
   "metadata": {},
   "outputs": [],
   "source": []
  }
 ],
 "metadata": {
  "kernelspec": {
   "display_name": "venv",
   "language": "python",
   "name": "python3"
  },
  "language_info": {
   "codemirror_mode": {
    "name": "ipython",
    "version": 3
   },
   "file_extension": ".py",
   "mimetype": "text/x-python",
   "name": "python",
   "nbconvert_exporter": "python",
   "pygments_lexer": "ipython3",
   "version": "3.10.12"
  }
 },
 "nbformat": 4,
 "nbformat_minor": 2
}
