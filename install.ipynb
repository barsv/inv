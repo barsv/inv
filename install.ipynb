{
 "cells": [
  {
   "cell_type": "markdown",
   "metadata": {},
   "source": [
    "можно отключить в ноутбуках метаданные, в которых счетчики запуска, чтобы при коммитах диф не был забит этими мусорными\n",
    "изменениями. для этого надо создать конфиг файл и внести в него правку.\n",
    "у меня конфиг создался в /home/stan/.jupyter/jupyter_notebook_config.py\n",
    "создал его этими командами:"
   ]
  },
  {
   "cell_type": "code",
   "execution_count": null,
   "metadata": {},
   "outputs": [],
   "source": [
    "\n",
    "# %pip install jupyter\n",
    "#!jupyter notebook --generate-config"
   ]
  },
  {
   "cell_type": "markdown",
   "metadata": {},
   "source": [
    "в сгенеренный конгиг добавить:\n",
    "```\n",
    "# Use ClearMetadataPreprocessor to remove cell metadata such as execution counts\n",
    "c.NotebookApp.contents_manager_class = \"nbconvert.preprocessors.ClearMetadataPreprocessor\"\n",
    "```"
   ]
  },
  {
   "cell_type": "code",
   "execution_count": null,
   "metadata": {},
   "outputs": [],
   "source": [
    "%pip install nbstripout\n",
    "%nbstripout --install"
   ]
  },
  {
   "cell_type": "code",
   "execution_count": null,
   "metadata": {},
   "outputs": [],
   "source": [
    "%nbstripout **/*.ipynb"
   ]
  }
 ],
 "metadata": {
  "kernelspec": {
   "display_name": "venv",
   "language": "python",
   "name": "python3"
  },
  "language_info": {
   "codemirror_mode": {
    "name": "ipython",
    "version": 3
   },
   "file_extension": ".py",
   "mimetype": "text/x-python",
   "name": "python",
   "nbconvert_exporter": "python",
   "pygments_lexer": "ipython3",
   "version": "3.10.12"
  }
 },
 "nbformat": 4,
 "nbformat_minor": 2
}
