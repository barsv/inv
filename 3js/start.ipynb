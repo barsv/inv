{
 "cells": [
  {
   "cell_type": "code",
   "execution_count": 1,
   "metadata": {},
   "outputs": [],
   "source": [
    "import numpy as np\n",
    "import pandas as pd\n",
    "\n",
    "filename = '../npz/BTCUSD_1T.npz'\n",
    "data = np.load(filename, allow_pickle=True)['data']\n",
    "# преобразование в формат pandas\n",
    "df = pd.DataFrame(data, columns=['timestamp', 'open', 'high', 'low', 'close', 'volume'])\n",
    "\n",
    "# Преобразование 'timestamp' в datetime и установка его как индекс DataFrame\n",
    "df['timestamp'] = pd.to_datetime(df['timestamp'])\n",
    "df.set_index('timestamp', inplace=True)\n",
    "\n",
    "# Преобразование всех столбцов с ценами и объемом в числовой формат\n",
    "for column in ['open', 'high', 'low', 'close', 'volume']:\n",
    "    df[column] = pd.to_numeric(df[column], errors='coerce')"
   ]
  },
  {
   "cell_type": "code",
   "execution_count": 2,
   "metadata": {},
   "outputs": [
    {
     "name": "stdout",
     "output_type": "stream",
     "text": [
      " * Serving Flask app '__main__'\n",
      " * Debug mode: on\n"
     ]
    },
    {
     "name": "stderr",
     "output_type": "stream",
     "text": [
      "\u001b[31m\u001b[1mWARNING: This is a development server. Do not use it in a production deployment. Use a production WSGI server instead.\u001b[0m\n",
      " * Running on http://127.0.0.1:8050\n",
      "\u001b[33mPress CTRL+C to quit\u001b[0m\n",
      "127.0.0.1 - - [19/Aug/2024 08:50:11] \"GET / HTTP/1.1\" 200 -\n",
      "127.0.0.1 - - [19/Aug/2024 08:50:11] \"\u001b[36mGET /static/main.js HTTP/1.1\u001b[0m\" 304 -\n",
      "127.0.0.1 - - [19/Aug/2024 08:50:11] \"GET /ohlc-data HTTP/1.1\" 200 -\n",
      "127.0.0.1 - - [19/Aug/2024 08:59:39] \"GET / HTTP/1.1\" 200 -\n",
      "127.0.0.1 - - [19/Aug/2024 08:59:39] \"GET /static/main.js HTTP/1.1\" 200 -\n",
      "127.0.0.1 - - [19/Aug/2024 08:59:50] \"GET / HTTP/1.1\" 200 -\n",
      "127.0.0.1 - - [19/Aug/2024 08:59:50] \"GET /static/main.js HTTP/1.1\" 200 -\n",
      "127.0.0.1 - - [19/Aug/2024 08:59:56] \"GET / HTTP/1.1\" 200 -\n",
      "127.0.0.1 - - [19/Aug/2024 08:59:56] \"GET /static/main.js HTTP/1.1\" 200 -\n",
      "127.0.0.1 - - [19/Aug/2024 09:01:10] \"GET / HTTP/1.1\" 200 -\n",
      "127.0.0.1 - - [19/Aug/2024 09:01:10] \"GET /static/main.js HTTP/1.1\" 200 -\n",
      "127.0.0.1 - - [19/Aug/2024 09:01:14] \"GET / HTTP/1.1\" 200 -\n",
      "127.0.0.1 - - [19/Aug/2024 09:01:14] \"GET /static/main.js HTTP/1.1\" 200 -\n",
      "127.0.0.1 - - [19/Aug/2024 09:03:40] \"GET / HTTP/1.1\" 200 -\n",
      "127.0.0.1 - - [19/Aug/2024 09:03:40] \"GET /static/main.js HTTP/1.1\" 200 -\n",
      "127.0.0.1 - - [19/Aug/2024 09:05:11] \"GET / HTTP/1.1\" 200 -\n",
      "127.0.0.1 - - [19/Aug/2024 09:05:11] \"GET /static/main.js HTTP/1.1\" 200 -\n",
      "127.0.0.1 - - [19/Aug/2024 09:06:08] \"GET / HTTP/1.1\" 200 -\n",
      "127.0.0.1 - - [19/Aug/2024 09:06:08] \"GET /static/main.js HTTP/1.1\" 200 -\n",
      "127.0.0.1 - - [19/Aug/2024 09:08:15] \"GET / HTTP/1.1\" 200 -\n",
      "127.0.0.1 - - [19/Aug/2024 09:08:15] \"GET /static/main.js HTTP/1.1\" 200 -\n",
      "127.0.0.1 - - [19/Aug/2024 09:08:32] \"GET / HTTP/1.1\" 200 -\n",
      "127.0.0.1 - - [19/Aug/2024 09:08:32] \"GET /static/main.js HTTP/1.1\" 200 -\n",
      "127.0.0.1 - - [19/Aug/2024 09:09:01] \"GET / HTTP/1.1\" 200 -\n",
      "127.0.0.1 - - [19/Aug/2024 09:09:01] \"GET /static/main.js HTTP/1.1\" 200 -\n",
      "127.0.0.1 - - [19/Aug/2024 09:09:01] \"GET /ohlc-data HTTP/1.1\" 200 -\n",
      "127.0.0.1 - - [19/Aug/2024 09:14:59] \"GET / HTTP/1.1\" 200 -\n",
      "127.0.0.1 - - [19/Aug/2024 09:14:59] \"GET /static/main.js HTTP/1.1\" 200 -\n",
      "127.0.0.1 - - [19/Aug/2024 09:15:00] \"GET /ohlc-data HTTP/1.1\" 200 -\n",
      "127.0.0.1 - - [19/Aug/2024 09:15:37] \"GET / HTTP/1.1\" 200 -\n",
      "127.0.0.1 - - [19/Aug/2024 09:15:37] \"GET /static/main.js HTTP/1.1\" 200 -\n",
      "127.0.0.1 - - [19/Aug/2024 09:15:37] \"GET /ohlc-data HTTP/1.1\" 200 -\n",
      "127.0.0.1 - - [19/Aug/2024 09:16:19] \"GET / HTTP/1.1\" 200 -\n",
      "127.0.0.1 - - [19/Aug/2024 09:16:19] \"GET /static/main.js HTTP/1.1\" 200 -\n",
      "127.0.0.1 - - [19/Aug/2024 09:16:19] \"GET /ohlc-data HTTP/1.1\" 200 -\n",
      "127.0.0.1 - - [19/Aug/2024 09:18:52] \"GET / HTTP/1.1\" 200 -\n",
      "127.0.0.1 - - [19/Aug/2024 09:18:52] \"GET /static/main.js HTTP/1.1\" 200 -\n",
      "127.0.0.1 - - [19/Aug/2024 09:18:53] \"GET /ohlc-data HTTP/1.1\" 200 -\n",
      "127.0.0.1 - - [19/Aug/2024 09:20:14] \"GET / HTTP/1.1\" 200 -\n",
      "127.0.0.1 - - [19/Aug/2024 09:20:14] \"GET /static/main.js HTTP/1.1\" 200 -\n",
      "127.0.0.1 - - [19/Aug/2024 09:20:14] \"GET /ohlc-data HTTP/1.1\" 200 -\n",
      "127.0.0.1 - - [19/Aug/2024 09:25:06] \"GET / HTTP/1.1\" 200 -\n",
      "127.0.0.1 - - [19/Aug/2024 09:25:06] \"GET /static/main.js HTTP/1.1\" 200 -\n",
      "127.0.0.1 - - [19/Aug/2024 09:25:06] \"GET /ohlc-data HTTP/1.1\" 200 -\n",
      "127.0.0.1 - - [19/Aug/2024 09:28:25] \"GET / HTTP/1.1\" 200 -\n",
      "127.0.0.1 - - [19/Aug/2024 09:28:25] \"GET /static/main.js HTTP/1.1\" 200 -\n",
      "127.0.0.1 - - [19/Aug/2024 09:28:25] \"GET /ohlc-data HTTP/1.1\" 200 -\n",
      "127.0.0.1 - - [19/Aug/2024 09:30:00] \"GET / HTTP/1.1\" 200 -\n",
      "127.0.0.1 - - [19/Aug/2024 09:30:00] \"GET /static/main.js HTTP/1.1\" 200 -\n",
      "127.0.0.1 - - [19/Aug/2024 09:30:00] \"GET /ohlc-data HTTP/1.1\" 200 -\n",
      "127.0.0.1 - - [19/Aug/2024 22:32:19] \"GET / HTTP/1.1\" 200 -\n",
      "127.0.0.1 - - [19/Aug/2024 22:32:19] \"GET /static/main.js HTTP/1.1\" 200 -\n",
      "127.0.0.1 - - [19/Aug/2024 22:32:21] \"GET / HTTP/1.1\" 200 -\n",
      "127.0.0.1 - - [19/Aug/2024 22:32:21] \"GET /static/main.js HTTP/1.1\" 200 -\n",
      "127.0.0.1 - - [19/Aug/2024 22:32:57] \"GET / HTTP/1.1\" 200 -\n",
      "127.0.0.1 - - [19/Aug/2024 22:32:57] \"GET /static/main.js HTTP/1.1\" 200 -\n",
      "127.0.0.1 - - [19/Aug/2024 22:33:40] \"GET / HTTP/1.1\" 200 -\n",
      "127.0.0.1 - - [19/Aug/2024 22:33:40] \"GET /static/main.js HTTP/1.1\" 200 -\n",
      "127.0.0.1 - - [19/Aug/2024 22:33:41] \"GET /ohlc-data HTTP/1.1\" 200 -\n",
      "127.0.0.1 - - [19/Aug/2024 22:34:59] \"GET / HTTP/1.1\" 200 -\n",
      "127.0.0.1 - - [19/Aug/2024 22:34:59] \"GET /static/main.js HTTP/1.1\" 200 -\n",
      "127.0.0.1 - - [19/Aug/2024 22:35:12] \"GET / HTTP/1.1\" 200 -\n",
      "127.0.0.1 - - [19/Aug/2024 22:35:12] \"GET /static/main.js HTTP/1.1\" 200 -\n",
      "127.0.0.1 - - [19/Aug/2024 22:35:12] \"GET /ohlc-data HTTP/1.1\" 200 -\n",
      "127.0.0.1 - - [19/Aug/2024 22:38:12] \"GET / HTTP/1.1\" 200 -\n",
      "127.0.0.1 - - [19/Aug/2024 22:38:12] \"GET /static/main.js HTTP/1.1\" 200 -\n",
      "127.0.0.1 - - [19/Aug/2024 22:38:12] \"GET /ohlc-data HTTP/1.1\" 200 -\n",
      "127.0.0.1 - - [19/Aug/2024 23:06:29] \"GET / HTTP/1.1\" 200 -\n",
      "127.0.0.1 - - [19/Aug/2024 23:06:29] \"GET /static/main.js HTTP/1.1\" 200 -\n",
      "127.0.0.1 - - [19/Aug/2024 23:06:30] \"GET /ohlc-data HTTP/1.1\" 200 -\n",
      "127.0.0.1 - - [19/Aug/2024 23:07:34] \"GET / HTTP/1.1\" 200 -\n",
      "127.0.0.1 - - [19/Aug/2024 23:07:34] \"GET /static/main.js HTTP/1.1\" 200 -\n",
      "127.0.0.1 - - [19/Aug/2024 23:07:35] \"GET /ohlc-data HTTP/1.1\" 200 -\n",
      "127.0.0.1 - - [19/Aug/2024 23:08:28] \"GET / HTTP/1.1\" 200 -\n",
      "127.0.0.1 - - [19/Aug/2024 23:08:28] \"GET /static/main.js HTTP/1.1\" 200 -\n",
      "127.0.0.1 - - [19/Aug/2024 23:08:28] \"GET /ohlc-data HTTP/1.1\" 200 -\n",
      "127.0.0.1 - - [19/Aug/2024 23:09:14] \"GET / HTTP/1.1\" 200 -\n",
      "127.0.0.1 - - [19/Aug/2024 23:09:14] \"GET /static/main.js HTTP/1.1\" 200 -\n",
      "127.0.0.1 - - [19/Aug/2024 23:09:14] \"GET /ohlc-data HTTP/1.1\" 200 -\n"
     ]
    }
   ],
   "source": [
    "from flask import Flask, render_template, jsonify, request\n",
    "import threading\n",
    "import os\n",
    "import numpy as np\n",
    "\n",
    "# Получаем абсолютный путь к текущей директории, в которой находится Jupyter Notebook\n",
    "notebook_dir = os.path.dirname(os.path.abspath('__file__'))\n",
    "static_folder = os.path.join(notebook_dir, 'static')\n",
    "template_folder = os.path.join(notebook_dir, 'templates')\n",
    "\n",
    "app = Flask(__name__, static_folder=static_folder, template_folder=template_folder)\n",
    "\n",
    "@app.route('/')\n",
    "def index():\n",
    "    return render_template('index.html')\n",
    "\n",
    "@app.route('/ohlc-data', methods=['GET'])\n",
    "def get_ohlc_data():\n",
    "    len = 40\n",
    "    return jsonify({ 'close': df['close'][:len].to_list(), 'vol': df['volume'][:len].to_list() })\n",
    "\n",
    "@app.route('/server_info')\n",
    "def server_info():\n",
    "    server_software = request.environ.get('SERVER_SOFTWARE', '')\n",
    "    return f\"Server Software: {server_software}\"\n",
    "\n",
    "# Функция для запуска Flask в потоке\n",
    "def run_flask():\n",
    "    app.run(port=8050, debug=True, use_reloader=False)\n",
    "\n",
    "# Запуск Flask в отдельном потоке\n",
    "flask_thread = threading.Thread(target=run_flask)\n",
    "flask_thread.start()"
   ]
  },
  {
   "cell_type": "code",
   "execution_count": 3,
   "metadata": {},
   "outputs": [
    {
     "data": {
      "text/html": [
       "\n",
       "        <iframe\n",
       "            width=\"660\"\n",
       "            height=\"500\"\n",
       "            src=\"http://localhost:8050\"\n",
       "            frameborder=\"0\"\n",
       "            allowfullscreen\n",
       "            \n",
       "        ></iframe>\n",
       "        "
      ],
      "text/plain": [
       "<IPython.lib.display.IFrame at 0x7ee6181f7670>"
      ]
     },
     "execution_count": 3,
     "metadata": {},
     "output_type": "execute_result"
    }
   ],
   "source": [
    "from IPython.display import IFrame\n",
    "\n",
    "# Встраиваем страницу Flask в Jupyter Notebook\n",
    "IFrame(src=\"http://localhost:8050\", width=660, height=500)\n"
   ]
  }
 ],
 "metadata": {
  "kernelspec": {
   "display_name": "venv",
   "language": "python",
   "name": "python3"
  },
  "language_info": {
   "codemirror_mode": {
    "name": "ipython",
    "version": 3
   },
   "file_extension": ".py",
   "mimetype": "text/x-python",
   "name": "python",
   "nbconvert_exporter": "python",
   "pygments_lexer": "ipython3",
   "version": "3.10.12"
  }
 },
 "nbformat": 4,
 "nbformat_minor": 2
}
