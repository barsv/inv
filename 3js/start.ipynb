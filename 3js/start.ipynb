{
 "cells": [
  {
   "cell_type": "code",
   "execution_count": 1,
   "metadata": {},
   "outputs": [],
   "source": [
    "import numpy as np\n",
    "import pandas as pd\n",
    "\n",
    "filename = '../npz/BTCUSD_1H.npz'\n",
    "data = np.load(filename, allow_pickle=True)['data']\n",
    "# преобразование в формат pandas\n",
    "df = pd.DataFrame(data, columns=['timestamp', 'open', 'high', 'low', 'close', 'volume'])\n",
    "\n",
    "# Преобразование 'timestamp' в datetime и установка его как индекс DataFrame\n",
    "df['timestamp'] = pd.to_datetime(df['timestamp'])\n",
    "df.set_index('timestamp', inplace=True)\n",
    "\n",
    "# Преобразование всех столбцов с ценами и объемом в числовой формат\n",
    "for column in ['open', 'high', 'low', 'close', 'volume']:\n",
    "    df[column] = pd.to_numeric(df[column], errors='coerce')"
   ]
  },
  {
   "cell_type": "code",
   "execution_count": 2,
   "metadata": {},
   "outputs": [
    {
     "name": "stderr",
     "output_type": "stream",
     "text": [
      "\u001b[31m\u001b[1mWARNING: This is a development server. Do not use it in a production deployment. Use a production WSGI server instead.\u001b[0m\n",
      " * Running on http://127.0.0.1:8050\n",
      "\u001b[33mPress CTRL+C to quit\u001b[0m\n",
      "127.0.0.1 - - [05/Jan/2025 23:03:02] \"GET / HTTP/1.1\" 200 -\n",
      "127.0.0.1 - - [05/Jan/2025 23:03:02] \"GET /static/main.js HTTP/1.1\" 200 -\n",
      "127.0.0.1 - - [05/Jan/2025 23:03:02] \"GET /ohlc-data HTTP/1.1\" 200 -\n",
      "127.0.0.1 - - [05/Jan/2025 23:03:07] \"GET / HTTP/1.1\" 200 -\n",
      "127.0.0.1 - - [05/Jan/2025 23:03:07] \"GET /static/main.js HTTP/1.1\" 200 -\n",
      "127.0.0.1 - - [05/Jan/2025 23:03:07] \"\u001b[33mGET /favicon.ico HTTP/1.1\u001b[0m\" 404 -\n",
      "127.0.0.1 - - [05/Jan/2025 23:03:07] \"GET /ohlc-data HTTP/1.1\" 200 -\n"
     ]
    }
   ],
   "source": [
    "from flask import Flask, render_template, jsonify, request\n",
    "import threading\n",
    "import os\n",
    "import numpy as np\n",
    "\n",
    "# Получаем абсолютный путь к текущей директории, в которой находится Jupyter Notebook\n",
    "notebook_dir = os.path.dirname(os.path.abspath('__file__'))\n",
    "static_folder = os.path.join(notebook_dir, 'static')\n",
    "template_folder = os.path.join(notebook_dir, 'templates')\n",
    "\n",
    "app = Flask(__name__, static_folder=static_folder, template_folder=template_folder)\n",
    "\n",
    "@app.route('/')\n",
    "def index():\n",
    "    return render_template('index.html')\n",
    "\n",
    "@app.route('/ohlc-data', methods=['GET'])\n",
    "def get_ohlc_data():\n",
    "    len = 1440\n",
    "    # dfsl = df[:len]\n",
    "    dfsl = df\n",
    "    return jsonify({ 'close': dfsl['close'].to_list(), 'vol': df['volume'].to_list() })\n",
    "\n",
    "@app.route('/server_info')\n",
    "def server_info():\n",
    "    server_software = request.environ.get('SERVER_SOFTWARE', '')\n",
    "    return f\"Server Software: {server_software}\"\n",
    "\n",
    "# Функция для запуска Flask в потоке\n",
    "def run_flask():\n",
    "    app.run(port=8050, debug=True, use_reloader=False)\n",
    "\n",
    "# Запуск Flask в отдельном потоке\n",
    "flask_thread = threading.Thread(target=run_flask)\n",
    "flask_thread.start()"
   ]
  },
  {
   "cell_type": "code",
   "execution_count": 3,
   "metadata": {},
   "outputs": [
    {
     "name": "stdout",
     "output_type": "stream",
     "text": [
      " * Serving Flask app '__main__'\n",
      " * Debug mode: on\n"
     ]
    },
    {
     "data": {
      "text/html": [
       "\n",
       "        <iframe\n",
       "            width=\"660\"\n",
       "            height=\"500\"\n",
       "            src=\"http://localhost:8050\"\n",
       "            frameborder=\"0\"\n",
       "            allowfullscreen\n",
       "            \n",
       "        ></iframe>\n",
       "        "
      ],
      "text/plain": [
       "<IPython.lib.display.IFrame at 0x744ad553ceb0>"
      ]
     },
     "execution_count": 3,
     "metadata": {},
     "output_type": "execute_result"
    }
   ],
   "source": [
    "from IPython.display import IFrame\n",
    "\n",
    "# Встраиваем страницу Flask в Jupyter Notebook\n",
    "IFrame(src=\"http://localhost:8050\", width=660, height=500)\n"
   ]
  }
 ],
 "metadata": {
  "kernelspec": {
   "display_name": "venv",
   "language": "python",
   "name": "python3"
  },
  "language_info": {
   "codemirror_mode": {
    "name": "ipython",
    "version": 3
   },
   "file_extension": ".py",
   "mimetype": "text/x-python",
   "name": "python",
   "nbconvert_exporter": "python",
   "pygments_lexer": "ipython3",
   "version": "3.10.12"
  }
 },
 "nbformat": 4,
 "nbformat_minor": 2
}
