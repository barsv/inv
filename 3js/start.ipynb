{
 "cells": [
  {
   "cell_type": "code",
   "execution_count": 1,
   "metadata": {},
   "outputs": [],
   "source": [
    "import numpy as np\n",
    "import pandas as pd\n",
    "\n",
    "filename = '../npz/BTCUSD_1H.npz'\n",
    "data = np.load(filename, allow_pickle=True)['data']\n",
    "# преобразование в формат pandas\n",
    "df = pd.DataFrame(data, columns=['timestamp', 'open', 'high', 'low', 'close', 'volume'])\n",
    "\n",
    "# Преобразование 'timestamp' в datetime и установка его как индекс DataFrame\n",
    "df['timestamp'] = pd.to_datetime(df['timestamp'])\n",
    "df.set_index('timestamp', inplace=True)\n",
    "\n",
    "# Преобразование всех столбцов с ценами и объемом в числовой формат\n",
    "for column in ['open', 'high', 'low', 'close', 'volume']:\n",
    "    df[column] = pd.to_numeric(df[column], errors='coerce')"
   ]
  },
  {
   "cell_type": "code",
   "execution_count": null,
   "metadata": {},
   "outputs": [
    {
     "name": "stdout",
     "output_type": "stream",
     "text": [
      " * Serving Flask app '__main__'\n",
      " * Debug mode: on\n"
     ]
    },
    {
     "name": "stderr",
     "output_type": "stream",
     "text": [
      "\u001b[31m\u001b[1mWARNING: This is a development server. Do not use it in a production deployment. Use a production WSGI server instead.\u001b[0m\n",
      " * Running on http://127.0.0.1:8050\n",
      "\u001b[33mPress CTRL+C to quit\u001b[0m\n",
      "127.0.0.1 - - [20/Aug/2024 00:35:03] \"GET / HTTP/1.1\" 200 -\n",
      "127.0.0.1 - - [20/Aug/2024 00:35:03] \"GET /static/main.js HTTP/1.1\" 200 -\n",
      "127.0.0.1 - - [20/Aug/2024 00:35:03] \"GET /ohlc-data HTTP/1.1\" 200 -\n",
      "127.0.0.1 - - [20/Aug/2024 00:40:31] \"GET / HTTP/1.1\" 200 -\n",
      "127.0.0.1 - - [20/Aug/2024 00:40:31] \"GET /static/main.js HTTP/1.1\" 200 -\n",
      "127.0.0.1 - - [20/Aug/2024 00:40:31] \"GET /ohlc-data HTTP/1.1\" 200 -\n",
      "127.0.0.1 - - [20/Aug/2024 00:41:07] \"GET / HTTP/1.1\" 200 -\n",
      "127.0.0.1 - - [20/Aug/2024 00:41:08] \"GET /static/main.js HTTP/1.1\" 200 -\n",
      "127.0.0.1 - - [20/Aug/2024 00:41:08] \"GET /ohlc-data HTTP/1.1\" 200 -\n",
      "127.0.0.1 - - [20/Aug/2024 00:41:51] \"GET / HTTP/1.1\" 200 -\n",
      "127.0.0.1 - - [20/Aug/2024 00:41:51] \"GET /static/main.js HTTP/1.1\" 200 -\n",
      "127.0.0.1 - - [20/Aug/2024 00:41:51] \"GET /ohlc-data HTTP/1.1\" 200 -\n",
      "127.0.0.1 - - [20/Aug/2024 00:42:57] \"GET / HTTP/1.1\" 200 -\n",
      "127.0.0.1 - - [20/Aug/2024 00:42:58] \"GET /static/main.js HTTP/1.1\" 200 -\n",
      "127.0.0.1 - - [20/Aug/2024 00:42:58] \"GET /ohlc-data HTTP/1.1\" 200 -\n",
      "127.0.0.1 - - [20/Aug/2024 00:43:20] \"GET / HTTP/1.1\" 200 -\n",
      "127.0.0.1 - - [20/Aug/2024 00:43:20] \"GET /static/main.js HTTP/1.1\" 200 -\n",
      "127.0.0.1 - - [20/Aug/2024 00:43:20] \"GET /ohlc-data HTTP/1.1\" 200 -\n",
      "127.0.0.1 - - [20/Aug/2024 00:44:55] \"GET / HTTP/1.1\" 200 -\n",
      "127.0.0.1 - - [20/Aug/2024 00:44:55] \"GET /static/main.js HTTP/1.1\" 200 -\n",
      "127.0.0.1 - - [20/Aug/2024 00:44:55] \"GET /ohlc-data HTTP/1.1\" 200 -\n",
      "127.0.0.1 - - [20/Aug/2024 00:45:59] \"GET / HTTP/1.1\" 200 -\n",
      "127.0.0.1 - - [20/Aug/2024 00:45:59] \"GET /static/main.js HTTP/1.1\" 200 -\n",
      "127.0.0.1 - - [20/Aug/2024 00:45:59] \"GET /ohlc-data HTTP/1.1\" 200 -\n",
      "127.0.0.1 - - [20/Aug/2024 00:46:36] \"GET / HTTP/1.1\" 200 -\n",
      "127.0.0.1 - - [20/Aug/2024 00:46:36] \"GET /static/main.js HTTP/1.1\" 200 -\n",
      "127.0.0.1 - - [20/Aug/2024 00:46:37] \"GET /ohlc-data HTTP/1.1\" 200 -\n",
      "127.0.0.1 - - [20/Aug/2024 00:47:01] \"GET / HTTP/1.1\" 200 -\n",
      "127.0.0.1 - - [20/Aug/2024 00:47:01] \"GET /static/main.js HTTP/1.1\" 200 -\n",
      "127.0.0.1 - - [20/Aug/2024 00:47:01] \"GET /ohlc-data HTTP/1.1\" 200 -\n",
      "127.0.0.1 - - [20/Aug/2024 00:47:58] \"GET / HTTP/1.1\" 200 -\n",
      "127.0.0.1 - - [20/Aug/2024 00:47:58] \"GET /static/main.js HTTP/1.1\" 200 -\n",
      "127.0.0.1 - - [20/Aug/2024 00:47:58] \"GET /ohlc-data HTTP/1.1\" 200 -\n",
      "127.0.0.1 - - [20/Aug/2024 00:48:23] \"GET / HTTP/1.1\" 200 -\n",
      "127.0.0.1 - - [20/Aug/2024 00:48:23] \"GET /static/main.js HTTP/1.1\" 200 -\n",
      "127.0.0.1 - - [20/Aug/2024 00:48:24] \"GET /ohlc-data HTTP/1.1\" 200 -\n",
      "127.0.0.1 - - [20/Aug/2024 00:53:05] \"GET / HTTP/1.1\" 200 -\n",
      "127.0.0.1 - - [20/Aug/2024 00:53:05] \"GET /static/main.js HTTP/1.1\" 200 -\n",
      "127.0.0.1 - - [20/Aug/2024 00:53:06] \"GET /ohlc-data HTTP/1.1\" 200 -\n",
      "127.0.0.1 - - [20/Aug/2024 00:54:19] \"GET / HTTP/1.1\" 200 -\n",
      "127.0.0.1 - - [20/Aug/2024 00:54:19] \"GET /static/main.js HTTP/1.1\" 200 -\n",
      "127.0.0.1 - - [20/Aug/2024 00:54:20] \"GET /ohlc-data HTTP/1.1\" 200 -\n",
      "127.0.0.1 - - [20/Aug/2024 00:57:25] \"GET / HTTP/1.1\" 200 -\n",
      "127.0.0.1 - - [20/Aug/2024 00:57:25] \"GET /static/main.js HTTP/1.1\" 200 -\n",
      "127.0.0.1 - - [20/Aug/2024 00:57:26] \"GET /ohlc-data HTTP/1.1\" 200 -\n"
     ]
    }
   ],
   "source": [
    "from flask import Flask, render_template, jsonify, request\n",
    "import threading\n",
    "import os\n",
    "import numpy as np\n",
    "\n",
    "# Получаем абсолютный путь к текущей директории, в которой находится Jupyter Notebook\n",
    "notebook_dir = os.path.dirname(os.path.abspath('__file__'))\n",
    "static_folder = os.path.join(notebook_dir, 'static')\n",
    "template_folder = os.path.join(notebook_dir, 'templates')\n",
    "\n",
    "app = Flask(__name__, static_folder=static_folder, template_folder=template_folder)\n",
    "\n",
    "@app.route('/')\n",
    "def index():\n",
    "    return render_template('index.html')\n",
    "\n",
    "@app.route('/ohlc-data', methods=['GET'])\n",
    "def get_ohlc_data():\n",
    "    len = 1440\n",
    "    return jsonify({ 'close': df['close'][:len].to_list(), 'vol': df['volume'][:len].to_list() })\n",
    "\n",
    "@app.route('/server_info')\n",
    "def server_info():\n",
    "    server_software = request.environ.get('SERVER_SOFTWARE', '')\n",
    "    return f\"Server Software: {server_software}\"\n",
    "\n",
    "# Функция для запуска Flask в потоке\n",
    "def run_flask():\n",
    "    app.run(port=8050, debug=True, use_reloader=False)\n",
    "\n",
    "# Запуск Flask в отдельном потоке\n",
    "flask_thread = threading.Thread(target=run_flask)\n",
    "flask_thread.start()"
   ]
  },
  {
   "cell_type": "code",
   "execution_count": 3,
   "metadata": {},
   "outputs": [
    {
     "data": {
      "text/html": [
       "\n",
       "        <iframe\n",
       "            width=\"660\"\n",
       "            height=\"500\"\n",
       "            src=\"http://localhost:8050\"\n",
       "            frameborder=\"0\"\n",
       "            allowfullscreen\n",
       "            \n",
       "        ></iframe>\n",
       "        "
      ],
      "text/plain": [
       "<IPython.lib.display.IFrame at 0x7ee6181f7670>"
      ]
     },
     "execution_count": 3,
     "metadata": {},
     "output_type": "execute_result"
    }
   ],
   "source": [
    "from IPython.display import IFrame\n",
    "\n",
    "# Встраиваем страницу Flask в Jupyter Notebook\n",
    "IFrame(src=\"http://localhost:8050\", width=660, height=500)\n"
   ]
  }
 ],
 "metadata": {
  "kernelspec": {
   "display_name": "venv",
   "language": "python",
   "name": "python3"
  },
  "language_info": {
   "codemirror_mode": {
    "name": "ipython",
    "version": 3
   },
   "file_extension": ".py",
   "mimetype": "text/x-python",
   "name": "python",
   "nbconvert_exporter": "python",
   "pygments_lexer": "ipython3",
   "version": "3.10.12"
  }
 },
 "nbformat": 4,
 "nbformat_minor": 2
}
