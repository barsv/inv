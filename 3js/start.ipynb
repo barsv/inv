{
 "cells": [
  {
   "cell_type": "code",
   "execution_count": null,
   "metadata": {},
   "outputs": [],
   "source": [
    "import numpy as np\n",
    "import pandas as pd\n",
    "\n",
    "filename = '../npz/BTCUSD_1H.npz'\n",
    "data = np.load(filename, allow_pickle=True)['data']\n",
    "# преобразование в формат pandas\n",
    "df = pd.DataFrame(data, columns=['timestamp', 'open', 'high', 'low', 'close', 'volume'])\n",
    "\n",
    "# Преобразование 'timestamp' в datetime и установка его как индекс DataFrame\n",
    "df['timestamp'] = pd.to_datetime(df['timestamp'])\n",
    "df.set_index('timestamp', inplace=True)\n",
    "\n",
    "# Преобразование всех столбцов с ценами и объемом в числовой формат\n",
    "for column in ['open', 'high', 'low', 'close', 'volume']:\n",
    "    df[column] = pd.to_numeric(df[column], errors='coerce')"
   ]
  },
  {
   "cell_type": "code",
   "execution_count": null,
   "metadata": {},
   "outputs": [],
   "source": [
    "from flask import Flask, render_template, jsonify, request\n",
    "import threading\n",
    "import os\n",
    "import numpy as np\n",
    "\n",
    "# Получаем абсолютный путь к текущей директории, в которой находится Jupyter Notebook\n",
    "notebook_dir = os.path.dirname(os.path.abspath('__file__'))\n",
    "static_folder = os.path.join(notebook_dir, 'static')\n",
    "template_folder = os.path.join(notebook_dir, 'templates')\n",
    "\n",
    "app = Flask(__name__, static_folder=static_folder, template_folder=template_folder)\n",
    "\n",
    "@app.route('/')\n",
    "def index():\n",
    "    return render_template('index.html')\n",
    "\n",
    "@app.route('/2d.html')\n",
    "def two_d():\n",
    "    return render_template('2d.html')\n",
    "\n",
    "@app.route('/ohlc-data', methods=['GET'])\n",
    "def get_ohlc_data():\n",
    "    len = 1440\n",
    "    # dfsl = df[:len]\n",
    "    dfsl = df\n",
    "    return jsonify({ 'close': dfsl['close'].to_list(), 'vol': df['volume'].to_list() })\n",
    "\n",
    "@app.route('/server_info')\n",
    "def server_info():\n",
    "    server_software = request.environ.get('SERVER_SOFTWARE', '')\n",
    "    return f\"Server Software: {server_software}\"\n",
    "\n",
    "# Функция для запуска Flask в потоке\n",
    "def run_flask():\n",
    "    app.run(port=8050, debug=True, use_reloader=False)\n",
    "\n",
    "# Запуск Flask в отдельном потоке\n",
    "flask_thread = threading.Thread(target=run_flask)\n",
    "flask_thread.start()"
   ]
  },
  {
   "cell_type": "code",
   "execution_count": null,
   "metadata": {},
   "outputs": [],
   "source": [
    "from IPython.display import IFrame\n",
    "\n",
    "# Встраиваем страницу Flask в Jupyter Notebook\n",
    "IFrame(src=\"http://localhost:8050\", width=660, height=500)\n"
   ]
  }
 ],
 "metadata": {
  "kernelspec": {
   "display_name": "venv",
   "language": "python",
   "name": "python3"
  },
  "language_info": {
   "codemirror_mode": {
    "name": "ipython",
    "version": 3
   },
   "file_extension": ".py",
   "mimetype": "text/x-python",
   "name": "python",
   "nbconvert_exporter": "python",
   "pygments_lexer": "ipython3",
   "version": "3.10.12"
  }
 },
 "nbformat": 4,
 "nbformat_minor": 2
}
