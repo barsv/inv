{
 "cells": [
  {
   "cell_type": "markdown",
   "id": "0",
   "metadata": {},
   "source": [
    "расчет var, cvar для удержания позиции по spy в течение 10 минут.\n",
    "var(value at risk) говорит \"в x% доход будет выше этого значения\".\n",
    "cvar(conditional value at risk) говорит \"когда будет неудача (т.е. случится неудача, которая появляется с вероятностью (1-x)%), то средний убыток вот это значение\"."
   ]
  },
  {
   "cell_type": "code",
   "execution_count": null,
   "id": "1",
   "metadata": {},
   "outputs": [],
   "source": [
    "\n",
    "# Импорт необходимых библиотек\n",
    "import numpy as np\n",
    "import pandas as pd\n",
    "import matplotlib.pyplot as plt\n",
    "\n",
    "# Загружаем NPZ файл с минутными данными SPXUSD\n",
    "file_path = \"../npz/SPXUSD_M1_2017.npz\"\n",
    "data = np.load(file_path, allow_pickle=True)\n",
    "spy_data = data['data']\n",
    "\n",
    "# Преобразуем в DataFrame\n",
    "columns = [\"timestamp\", \"close\"]\n",
    "df_spy = pd.DataFrame(spy_data, columns=columns)\n",
    "\n",
    "# Преобразуем timestamp в datetime\n",
    "df_spy[\"timestamp\"] = pd.to_datetime(df_spy[\"timestamp\"])\n",
    "\n",
    "# Проверяем тип данных в столбце \"close\"\n",
    "df_spy[\"close\"] = pd.to_numeric(df_spy[\"close\"], errors=\"coerce\")\n",
    "\n",
    "# Считаем лог-доходности (минутные) заново\n",
    "df_spy[\"log_return\"] = np.log(df_spy[\"close\"] / df_spy[\"close\"].shift(10))\n",
    "\n",
    "# Убираем NaN, возникшие при сдвиге\n",
    "df_spy = df_spy.dropna()\n",
    "\n",
    "# Рассчитываем метрики\n",
    "expected_return_spy = df_spy[\"log_return\"].mean()\n",
    "std_dev_spy = df_spy[\"log_return\"].std()\n",
    "\n",
    "# 95%-VaR (по историческому методу)\n",
    "var_95_spy = df_spy[\"log_return\"].quantile(0.05)\n",
    "\n",
    "# 95%-CVaR (средний убыток в худших 5% случаев)\n",
    "cvar_95_spy = df_spy[\"log_return\"][df_spy[\"log_return\"] <= var_95_spy].mean()\n",
    "\n",
    "# Визуализируем распределение доходностей\n",
    "plt.figure(figsize=(12, 6))\n",
    "plt.hist(df_spy[\"log_return\"], bins=50, alpha=0.7, color='blue', edgecolor='black', label='SPXUSD Log Returns')\n",
    "plt.yscale(\"log\")\n",
    "plt.axvline(expected_return_spy, color='black', linestyle='dashed', linewidth=2, label=f'Mean: {expected_return_spy:.6f}')\n",
    "plt.axvline(var_95_spy, color='red', linestyle='dashed', linewidth=2, label=f'95%-VaR: {var_95_spy:.6f}')\n",
    "plt.axvline(cvar_95_spy, color='orange', linestyle='dashed', linewidth=2, label=f'95%-CVaR: {cvar_95_spy:.6f}')\n",
    "plt.title(\"Histogram of SPXUSD Minute Log Returns\")\n",
    "plt.xlabel(\"Log Return\")\n",
    "plt.ylabel(\"Frequency\")\n",
    "plt.legend()\n",
    "plt.grid()\n",
    "\n",
    "\n",
    "plt.show()\n",
    "\n",
    "# Вывод результатов\n",
    "expected_return_spy, var_95_spy, cvar_95_spy\n"
   ]
  },
  {
   "cell_type": "code",
   "execution_count": null,
   "id": "2",
   "metadata": {},
   "outputs": [],
   "source": []
  }
 ],
 "metadata": {
  "kernelspec": {
   "display_name": "venv",
   "language": "python",
   "name": "python3"
  },
  "language_info": {
   "codemirror_mode": {
    "name": "ipython",
    "version": 3
   },
   "file_extension": ".py",
   "mimetype": "text/x-python",
   "name": "python",
   "nbconvert_exporter": "python",
   "pygments_lexer": "ipython3",
   "version": "3.10.12"
  }
 },
 "nbformat": 4,
 "nbformat_minor": 5
}
