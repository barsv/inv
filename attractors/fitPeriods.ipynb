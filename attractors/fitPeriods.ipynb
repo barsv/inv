{
 "cells": [
  {
   "cell_type": "code",
   "execution_count": null,
   "metadata": {
    "vscode": {
     "languageId": "plaintext"
    }
   },
   "outputs": [],
   "source": [
    "import numpy as np\n",
    "import pandas as pd\n",
    "import matplotlib.pyplot as plt\n",
    "import ipywidgets as widgets\n",
    "from ipywidgets import interact\n",
    "from scipy.signal import savgol_filter\n",
    "\n",
    "# Load data\n",
    "filename = '../npz/BTCUSD_1T.npz'\n",
    "data = np.load(filename, allow_pickle=True)['data']\n",
    "loaded_df = pd.DataFrame(data, columns=['timestamp', 'open', 'high', 'low', 'close', 'volume'])\n",
    "\n",
    "# Convert 'timestamp' to datetime and set it as the index\n",
    "loaded_df['timestamp'] = pd.to_datetime(loaded_df['timestamp'])\n",
    "loaded_df.set_index('timestamp', inplace=True)\n",
    "\n",
    "# Convert all price and volume columns to numeric format\n",
    "for column in ['open', 'high', 'low', 'close', 'volume']:\n",
    "    loaded_df[column] = pd.to_numeric(loaded_df[column], errors='coerce')"
   ]
  }
 ],
 "metadata": {
  "language_info": {
   "name": "python"
  }
 },
 "nbformat": 4,
 "nbformat_minor": 2
}
