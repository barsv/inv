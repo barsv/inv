{
 "cells": [
  {
   "cell_type": "code",
   "execution_count": null,
   "metadata": {},
   "outputs": [],
   "source": [
    "#!pip install pillow"
   ]
  },
  {
   "cell_type": "code",
   "execution_count": null,
   "metadata": {},
   "outputs": [],
   "source": [
    "import numpy as np\n",
    "import pandas as pd\n",
    "\n",
    "filename = f'../npz/BTCUSD_1T.npz'\n",
    "data = np.load(filename, allow_pickle=True)['data']\n",
    "# преобразование в формат pandas\n",
    "loaded_df = pd.DataFrame(data, columns=['timestamp', 'open', 'high', 'low', 'close', 'volume'])"
   ]
  },
  {
   "cell_type": "code",
   "execution_count": null,
   "metadata": {},
   "outputs": [],
   "source": [
    "# Преобразование 'timestamp' в datetime и установка его как индекс DataFrame\n",
    "loaded_df['timestamp'] = pd.to_datetime(loaded_df['timestamp'])\n",
    "loaded_df.set_index('timestamp', inplace=True)\n",
    "\n",
    "# Преобразование всех столбцов с ценами и объемом в числовой формат\n",
    "for column in ['open', 'high', 'low', 'close', 'volume']:\n",
    "    loaded_df[column] = pd.to_numeric(loaded_df[column], errors='coerce')"
   ]
  },
  {
   "cell_type": "code",
   "execution_count": null,
   "metadata": {},
   "outputs": [],
   "source": [
    "from PIL import Image\n",
    "\n",
    "def generate_image_from_matrix(matrix):\n",
    "    \"\"\"\n",
    "    Функция для создания и отображения изображения из двумерной матрицы целых чисел.\n",
    "    Значение элемента матрицы определяет яркость пикселя.\n",
    "    \n",
    "    :param matrix: двумерный массив numpy с целыми числами от 0 до 255\n",
    "    \"\"\"\n",
    "    # Проверим, что матрица содержит только значения от 0 до 255\n",
    "    if not (np.issubdtype(matrix.dtype, np.integer) and matrix.min() >= 0 and matrix.max() <= 255):\n",
    "        raise ValueError(\"Матрица должна содержать целые числа в диапазоне от 0 до 255.\")\n",
    "    \n",
    "    # Создаем изображение\n",
    "    image = Image.fromarray(matrix.astype('uint8'), mode='L')\n",
    "    \n",
    "    # Отображаем изображение в результатах Jupyter Notebook\n",
    "    display(image)"
   ]
  },
  {
   "cell_type": "code",
   "execution_count": null,
   "metadata": {},
   "outputs": [],
   "source": [
    "# select last 10000 rows\n",
    "df = loaded_df.tail(50000)\n",
    "# df = loaded_df\n",
    "df.shape"
   ]
  },
  {
   "cell_type": "code",
   "execution_count": null,
   "metadata": {},
   "outputs": [],
   "source": [
    "# calculate the moving average for close prices\n",
    "ma1 = df['close'].rolling(window=30).mean()\n",
    "ma2 = df['close'].rolling(window=60).mean()\n",
    "ma3 = df['close'].rolling(window=120).mean()\n",
    "ma4 = df['close'].rolling(window=240).mean()"
   ]
  },
  {
   "cell_type": "code",
   "execution_count": null,
   "metadata": {},
   "outputs": [],
   "source": [
    "ma2_shifted = ma2.shift(-15)\n",
    "ma3_shifted = ma3.shift(-30)\n",
    "ma4_shifted = ma4.shift(-60)"
   ]
  },
  {
   "cell_type": "code",
   "execution_count": null,
   "metadata": {},
   "outputs": [],
   "source": [
    "import matplotlib.pyplot as plt\n",
    "n = -3000\n",
    "\n",
    "plt.figure(figsize=(15, 7))\n",
    "\n",
    "#plt.plot(ma1[n:], color='red')\n",
    "#plt.plot(ma2.shift(-15)[n:], color='blue')\n",
    "#plt.plot(ma2[n:], color='red')\n",
    "#plt.plot(ma3.shift(-30)[n:], color='blue')\n",
    "plt.plot(ma3[n:], color='red')\n",
    "plt.plot(ma4.shift(-60)[n:], color='blue')\n",
    "plt.show()"
   ]
  },
  {
   "cell_type": "code",
   "execution_count": null,
   "metadata": {},
   "outputs": [],
   "source": [
    "# calculate difference between 10MA and 20MA\n",
    "x = (ma1 - ma2_shifted).fillna(0)\n",
    "y = (ma2 - ma3_shifted).fillna(0)\n",
    "z = (ma3_shifted - ma4_shifted).fillna(0)\n",
    "plt.plot(x[n:], y[n:])"
   ]
  },
  {
   "cell_type": "code",
   "execution_count": null,
   "metadata": {},
   "outputs": [],
   "source": [
    "for i in range(0, 20):\n",
    "    w=i*1\n",
    "    print(w)\n",
    "    plt.figure(figsize=(12, 6))\n",
    "    plt.plot((df['close'].rolling(window=30).mean().shift(-15) - df['close'].rolling(window=30+2*w).mean().shift(-15-w))[-3000:])\n",
    "    plt.show()"
   ]
  },
  {
   "cell_type": "code",
   "execution_count": null,
   "metadata": {},
   "outputs": [],
   "source": [
    "import sys\n",
    "import os\n",
    "\n",
    "# Get the current working directory\n",
    "current_dir = os.getcwd()\n",
    "\n",
    "# Get the parent directory\n",
    "parent_dir = os.path.abspath(os.path.join(current_dir, '..'))\n",
    "\n",
    "# Add the parent directory to sys.path\n",
    "sys.path.append(parent_dir)\n",
    "\n",
    "# # Now you can import the module\n",
    "# from parent_directory import module_to_import\n",
    "\n",
    "# # Use the imported module\n",
    "# module_to_import.some_function()\n",
    "from tsl import get_trailing_stop_loss_long_profits, get_trailing_stop_loss_short_profits\n",
    "\n",
    "(long_profits, long_stop_loss_prices, maximums) = get_trailing_stop_loss_long_profits(df, 0.9 * 0.01)\n",
    "(short_profits, short_stop_loss_prices, minimums) = get_trailing_stop_loss_short_profits(df, 0.5 * 0.01)"
   ]
  },
  {
   "cell_type": "code",
   "execution_count": null,
   "metadata": {},
   "outputs": [],
   "source": [
    "long_profits_df = pd.DataFrame(long_profits)\n",
    "long_profits_df.ffill(inplace=True)\n",
    "# long_profits_df\n",
    "short_profits_df = pd.DataFrame(short_profits)\n",
    "short_profits_df.ffill(inplace=True)"
   ]
  },
  {
   "cell_type": "code",
   "execution_count": null,
   "metadata": {},
   "outputs": [],
   "source": [
    "import plotly.graph_objs as go\n",
    "\n",
    "# Create a 3D scatter plot\n",
    "fig = go.Figure(data=[go.Scatter3d(\n",
    "    x=x,\n",
    "    y=y,\n",
    "    z=z,\n",
    "    mode='lines',\n",
    "    line=dict(\n",
    "        #color='blue',\n",
    "        color=(short_profits_df+long_profits_df).to_numpy().flatten(),\n",
    "        colorscale='Viridis',  # Choose a colorscale\n",
    "        width=2\n",
    "    ),\n",
    "    marker=dict(\n",
    "        size=2,\n",
    "        color=(short_profits_df+long_profits_df).to_numpy().flatten(),\n",
    "        colorscale='Viridis',  # Choose a colorscale\n",
    "        opacity=0.2\n",
    "    )\n",
    ")])\n",
    "\n",
    "# Update layout for better visualization\n",
    "fig.update_layout(\n",
    "    title='3D Scatter Plot',\n",
    "    scene=dict(\n",
    "        xaxis_title='X Axis',\n",
    "        yaxis_title='Y Axis',\n",
    "        zaxis_title='Z Axis'\n",
    "    ),\n",
    "    width=800,\n",
    "    height=600\n",
    ")\n",
    "\n",
    "# Show the plot\n",
    "fig.show()"
   ]
  },
  {
   "cell_type": "code",
   "execution_count": null,
   "metadata": {},
   "outputs": [],
   "source": [
    "def get_density(matrix_size = 300):\n",
    "    matrix = np.zeros((matrix_size, matrix_size), dtype=np.float32)\n",
    "    # loop over x and increment the value of the matrix\n",
    "    min_x = x.min()\n",
    "    max_x = x.max()\n",
    "    min_y = y.min()\n",
    "    max_y = y.max()\n",
    "    width = max_x - min_x\n",
    "    height = max_y - min_y\n",
    "    last_i, last_j = -1, -1\n",
    "    for k in range(len(x)):\n",
    "        i = int((x.iloc[k] - min_x) / width * (matrix_size - 1))\n",
    "        j = int((y.iloc[k] - min_y) / height * (matrix_size - 1))\n",
    "        if (i != last_i) or (j != last_j):\n",
    "            matrix[j, i] += 1\n",
    "            last_i, last_j = i, j\n",
    "    return matrix"
   ]
  },
  {
   "cell_type": "code",
   "execution_count": null,
   "metadata": {},
   "outputs": [],
   "source": [
    "matrix = get_density()"
   ]
  },
  {
   "cell_type": "code",
   "execution_count": null,
   "metadata": {},
   "outputs": [],
   "source": [
    "matrix_log = np.log(matrix + 1)"
   ]
  },
  {
   "cell_type": "code",
   "execution_count": null,
   "metadata": {},
   "outputs": [],
   "source": [
    "def rescale_matrix(matrix, new_min=0, new_max=255):\n",
    "    # Find the minimum and maximum values in the matrix\n",
    "    old_min = np.min(matrix)\n",
    "    old_max = np.max(matrix)\n",
    "    \n",
    "    # Rescale the matrix to the new range [new_min, new_max]\n",
    "    rescaled_matrix = (matrix - old_min) / (old_max - old_min) * (new_max - new_min) + new_min\n",
    "    \n",
    "    # Convert to the desired dtype (e.g., uint8)\n",
    "    rescaled_matrix = np.clip(rescaled_matrix, new_min, new_max).astype(np.uint8)\n",
    "    \n",
    "    return rescaled_matrix"
   ]
  },
  {
   "cell_type": "code",
   "execution_count": null,
   "metadata": {},
   "outputs": [],
   "source": [
    "resc = rescale_matrix(matrix_log)"
   ]
  },
  {
   "cell_type": "code",
   "execution_count": null,
   "metadata": {},
   "outputs": [],
   "source": [
    "generate_image_from_matrix(resc)"
   ]
  },
  {
   "cell_type": "code",
   "execution_count": null,
   "metadata": {},
   "outputs": [],
   "source": [
    "#!pip install seaborn"
   ]
  },
  {
   "cell_type": "code",
   "execution_count": null,
   "metadata": {},
   "outputs": [],
   "source": [
    "import seaborn as sns\n",
    "\n",
    "plt.figure(figsize=(10, 10))\n",
    "# sns.heatmap(matrix_log[130:260,130:260], cmap='viridis')\n",
    "sns.heatmap(matrix_log, cmap='viridis')\n",
    "plt.show()"
   ]
  },
  {
   "cell_type": "code",
   "execution_count": null,
   "metadata": {},
   "outputs": [],
   "source": [
    "row = matrix[198]\n",
    "row[180:220]"
   ]
  },
  {
   "cell_type": "code",
   "execution_count": null,
   "metadata": {},
   "outputs": [],
   "source": [
    "# plot row\n",
    "plt.plot(row)"
   ]
  },
  {
   "cell_type": "code",
   "execution_count": null,
   "metadata": {},
   "outputs": [],
   "source": []
  }
 ],
 "metadata": {
  "kernelspec": {
   "display_name": "venv",
   "language": "python",
   "name": "python3"
  },
  "language_info": {
   "codemirror_mode": {
    "name": "ipython",
    "version": 3
   },
   "file_extension": ".py",
   "mimetype": "text/x-python",
   "name": "python",
   "nbconvert_exporter": "python",
   "pygments_lexer": "ipython3",
   "version": "3.10.12"
  }
 },
 "nbformat": 4,
 "nbformat_minor": 2
}
