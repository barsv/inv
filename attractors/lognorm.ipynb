{
 "cells": [
  {
   "cell_type": "markdown",
   "metadata": {},
   "source": [
    "в общем тут я вспоминал очевидное - если цена растет экспоненциально (как биток), то разница скользящих средних\n",
    "тоже растет со временем. однако, если к ценам применить log, то разница между скользящими становится постоянной."
   ]
  },
  {
   "cell_type": "code",
   "execution_count": null,
   "metadata": {},
   "outputs": [],
   "source": [
    "import numpy as np\n",
    "import pandas as pd\n",
    "\n",
    "days = 100\n",
    "growth_rate = 1.01  # +1% в день\n",
    "\n",
    "\n",
    "\n",
    "initial_price = 10\n",
    "\n",
    "prices1 = [initial_price * (growth_rate ** i) for i in range(days)]\n",
    "df1 = pd.DataFrame({'close': prices1})\n",
    "sma_5_1 = df1['close'].rolling(window=5).mean()\n",
    "sma_10_1 = df1['close'].rolling(window=10).mean()\n",
    "\n",
    "\n",
    "\n",
    "initial_price = 1000\n",
    "\n",
    "prices2 = [initial_price * (growth_rate ** i) for i in range(days)]\n",
    "df2 = pd.DataFrame({'close': prices2})\n",
    "sma_5_2 = df2['close'].rolling(window=5).mean()\n",
    "sma_10_2 = df2['close'].rolling(window=10).mean()\n",
    "\n"
   ]
  },
  {
   "cell_type": "code",
   "execution_count": null,
   "metadata": {},
   "outputs": [],
   "source": [
    "import matplotlib.pyplot as plt\n",
    "\n",
    "plt.plot(df1, label=\"df1\")\n",
    "plt.plot(sma_5_1, label=\"sma_5_1\")\n",
    "plt.plot(sma_10_1, label=\"sma_10_1\")\n",
    "plt.legend()\n",
    "plt.show()\n"
   ]
  },
  {
   "cell_type": "code",
   "execution_count": null,
   "metadata": {},
   "outputs": [],
   "source": [
    "plt.plot(sma_5_1 - sma_10_1, label=\"sma_5_1 - sma_10_1\")\n",
    "plt.legend()\n",
    "plt.show()\n",
    "\n",
    "plt.plot(sma_5_2 - sma_10_2, label=\"sma_5_2 - sma_10_2\")\n",
    "plt.legend()\n",
    "plt.show()\n"
   ]
  },
  {
   "cell_type": "code",
   "execution_count": null,
   "metadata": {},
   "outputs": [],
   "source": [
    "plt.plot(np.log(sma_5_1) - np.log(sma_10_1), label=\"np.log(sma_5_1) - np.log(sma_10_1)\")\n",
    "plt.legend()\n",
    "plt.show()\n",
    "\n",
    "plt.plot(np.log(sma_5_2) - np.log(sma_10_2), label=\"np.log(sma_5_2) - np.log(sma_10_2)\")\n",
    "plt.legend()\n",
    "plt.show()"
   ]
  },
  {
   "cell_type": "code",
   "execution_count": null,
   "metadata": {},
   "outputs": [],
   "source": [
    "log_sma_5_1 = np.log(df1['close']).rolling(window=5).mean()\n",
    "log_sma_10_1 = np.log(df1['close']).rolling(window=10).mean()\n",
    "\n",
    "log_sma_5_2 = np.log(df2['close']).rolling(window=5).mean()\n",
    "log_sma_10_2 = np.log(df2['close']).rolling(window=10).mean()"
   ]
  },
  {
   "cell_type": "code",
   "execution_count": null,
   "metadata": {},
   "outputs": [],
   "source": [
    "plt.plot(log_sma_5_1 - log_sma_10_1, label=\"log_sma_5_1 - log_sma_10_1\")\n",
    "plt.legend()\n",
    "plt.show()\n",
    "\n",
    "plt.plot(log_sma_5_2 - log_sma_10_2, label=\"log_sma_5_2 - log_sma_10_2\")\n",
    "plt.legend()\n",
    "plt.show()"
   ]
  }
 ],
 "metadata": {
  "kernelspec": {
   "display_name": "venv",
   "language": "python",
   "name": "python3"
  },
  "language_info": {
   "codemirror_mode": {
    "name": "ipython",
    "version": 3
   },
   "file_extension": ".py",
   "mimetype": "text/x-python",
   "name": "python",
   "nbconvert_exporter": "python",
   "pygments_lexer": "ipython3",
   "version": "3.10.12"
  }
 },
 "nbformat": 4,
 "nbformat_minor": 2
}
