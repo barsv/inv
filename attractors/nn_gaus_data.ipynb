{
 "cells": [
  {
   "cell_type": "code",
   "execution_count": null,
   "id": "0",
   "metadata": {},
   "outputs": [],
   "source": [
    "#%pip install tensorflow\n",
    "%matplotlib widget"
   ]
  },
  {
   "cell_type": "code",
   "execution_count": null,
   "id": "1",
   "metadata": {},
   "outputs": [],
   "source": [
    "# load data\n",
    "import numpy as np\n",
    "import pandas as pd\n",
    "\n",
    "file_path = \"../npz/BTCUSD_1T_close_only.npz\"\n",
    "data = np.load(file_path, allow_pickle=True)\n",
    "df = pd.DataFrame(data['data'], columns=['timestamp', 'close'])\n",
    "df['timestamp'] = pd.to_datetime(df['timestamp'])\n",
    "df['close'] = pd.to_numeric(df['close'], errors='coerce')\n",
    "df.set_index('timestamp', inplace=True)"
   ]
  },
  {
   "cell_type": "code",
   "execution_count": null,
   "id": "2",
   "metadata": {},
   "outputs": [],
   "source": [
    "from scipy.ndimage import gaussian_filter1d\n",
    "\n",
    "n = 50000\n",
    "dfc = df[:n].copy()\n",
    "y = dfc['close'].values  # Исходный ряд\n",
    "\n",
    "sma = pd.Series(y).rolling(256, min_periods=1).mean().values\n",
    "# Y = (y_smooth - sma) / sma\n",
    "y = (y - sma) / sma\n",
    "y_smooth = gaussian_filter1d(y, sigma=8.383354) # 8.383354 corresponds to window size 51 for savgol"
   ]
  },
  {
   "cell_type": "code",
   "execution_count": null,
   "id": "3",
   "metadata": {},
   "outputs": [],
   "source": [
    "import matplotlib.pyplot as plt\n",
    "\n",
    "plt.figure(figsize=(12, 6))\n",
    "plt.plot(range(len(y)), (y + 1) * sma, label=\"y\", color=\"blue\", alpha=0.6)\n",
    "plt.plot(range(len(y)), (y_smooth + 1) * sma, label=\"y_smooth\", color=\"red\", alpha=0.6)"
   ]
  },
  {
   "cell_type": "code",
   "execution_count": null,
   "id": "4",
   "metadata": {},
   "outputs": [],
   "source": [
    "import numpy as np\n",
    "import pandas as pd\n",
    "import tensorflow as tf\n",
    "from tensorflow import keras\n",
    "from tensorflow.keras import layers\n",
    "\n",
    "\n",
    "# Функция генерации признаков (разности скользящих средних)\n",
    "def generate_features(series, windows=[2, 4, 8, 16, 32, 64, 128, 256]):\n",
    "    smas = [pd.Series(series).rolling(w, min_periods=1).mean().values for w in windows]\n",
    "    diffs = [smas[i] - smas[i + 1] for i in range(len(smas) - 1)]\n",
    "    return np.stack(diffs, axis=-1)  # (количество точек, количество фич)\n",
    "\n",
    "def generate_ema_features(series, windows=[2, 4, 8, 16, 32, 64, 128, 256]):\n",
    "    smas = [pd.Series(series).rolling(w, min_periods=1).mean().values for w in windows]\n",
    "    diffs1 = [smas[i] - smas[i + 1] for i in range(len(smas) - 1)]\n",
    "    emas = [pd.Series(series).ewm(span=w, adjust=False).mean().values for w in windows]\n",
    "    diffs2 = [emas[i] - emas[i + 1] for i in range(len(emas) - 1)]\n",
    "    diffs = np.concatenate([diffs1, diffs2])\n",
    "    return np.stack(diffs, axis=-1)\n",
    "\n",
    "# Генерируем X\n",
    "X = generate_ema_features(y)\n",
    "Y = y_smooth\n",
    "\n",
    "# Разделяем на train/test\n",
    "train_size = int(len(X) * 0.8)\n",
    "X_train, X_test = X[:train_size], X[train_size:]\n",
    "Y_train, Y_test = Y[:train_size], Y[train_size:]\n",
    "\n",
    "# Проверяем размерность данных\n",
    "print(f\"X shape: {X.shape}\")\n",
    "print(f\"Y shape: {Y.shape}\")\n",
    "\n",
    "# Создаем модель нейросети - исправляем размерность Input\n",
    "model = keras.Sequential([\n",
    "    layers.Input(shape=(X.shape[1],)),  # Убираем неверное измерение\n",
    "    layers.Dense(16, activation=\"relu\"),\n",
    "    layers.Dense(8, activation=\"relu\"),\n",
    "    layers.Dense(1)\n",
    "])\n",
    "\n",
    "model.compile(optimizer=\"adam\", loss=\"mse\")\n",
    "model.summary()\n",
    "\n",
    "# Обучаем модель\n",
    "history = model.fit(X_train, Y_train, epochs=50, batch_size=16, validation_data=(X_test, Y_test), verbose=1)\n",
    "\n",
    "# Предсказание на тестовых данных\n",
    "Y_pred = model.predict(X_test)\n",
    "\n",
    "# Восстанавливаем предсказанное сглаживание\n",
    "Y_pred_restored = (Y_pred.flatten() + 1) * sma[-len(Y_pred):]"
   ]
  },
  {
   "cell_type": "code",
   "execution_count": null,
   "id": "5",
   "metadata": {},
   "outputs": [],
   "source": [
    "plt.figure(figsize=(12, 6))\n",
    "plt.plot(range(len(Y_test)), (y[-len(Y_test):] + 1) * sma[-len(Y_test):], label=\"Исходный ряд\", color=\"gray\", alpha=0.6)\n",
    "plt.plot(range(len(Y_test)), (Y_test + 1) * sma[-len(Y_test):], label=\"Настоящее сглаживание\", color=\"black\", alpha=0.6)\n",
    "plt.plot(range(len(Y_test)), Y_pred_restored, label=\"Предсказанное нейросетью сглаживание\", color=\"red\", alpha=0.8)\n",
    "\n",
    "# Добавляем скользящие средние разной длины\n",
    "# sma_windows = [8, 16, 32]\n",
    "# for w in sma_windows:\n",
    "#     ma = pd.Series(y).rolling(w, min_periods=1).mean().values[-len(Y_test):]\n",
    "#     plt.plot(range(len(Y_test)), ma, label=f\"SMA {w}\", linestyle=\"dashed\", alpha=0.7)\n",
    "\n",
    "plt.legend()\n",
    "plt.title(\"Нейросетевой аналог (без заглядывания в будущее) + скользящие средние\")\n",
    "plt.show()\n",
    "\n",
    "# Второй график - Y_test и прогноз\n",
    "plt.figure(figsize=(12, 6))\n",
    "plt.plot(range(len(Y_test)), Y_test, label=\"Y_test (целевое сглаживание)\", color=\"black\", alpha=0.6)\n",
    "plt.plot(range(len(Y_test)), Y_pred, label=\"Предсказанное нейросетью\", color=\"red\", alpha=0.8)\n",
    "plt.legend()\n",
    "plt.title(\"Сравнение Y_test и прогноза нейросети\")\n",
    "plt.show()"
   ]
  },
  {
   "cell_type": "code",
   "execution_count": null,
   "id": "6",
   "metadata": {},
   "outputs": [],
   "source": [
    "plt.figure(figsize=(12, 6))\n",
    "plt.plot(range(len(Y_test)), y[-len(Y_test):], label=\"Исходный ряд\", color=\"gray\", alpha=0.6)\n",
    "plt.plot(range(len(Y_test)), Y_test, label=\"Настоящее сглаживание\", color=\"black\", alpha=0.6)\n",
    "plt.plot(range(len(Y_test)), Y_pred, label=\"Предсказанное нейросетью сглаживание\", color=\"red\", alpha=0.8)"
   ]
  }
 ],
 "metadata": {
  "kernelspec": {
   "display_name": "venv",
   "language": "python",
   "name": "python3"
  },
  "language_info": {
   "codemirror_mode": {
    "name": "ipython",
    "version": 3
   },
   "file_extension": ".py",
   "mimetype": "text/x-python",
   "name": "python",
   "nbconvert_exporter": "python",
   "pygments_lexer": "ipython3",
   "version": "3.10.12"
  }
 },
 "nbformat": 4,
 "nbformat_minor": 5
}
