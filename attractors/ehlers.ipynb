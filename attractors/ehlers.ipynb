{
 "cells": [
  {
   "cell_type": "code",
   "execution_count": null,
   "metadata": {},
   "outputs": [],
   "source": [
    "import numpy as np\n",
    "import matplotlib.pyplot as plt\n",
    "\n",
    "# Define parameters\n",
    "theta = np.linspace(-2 * np.pi, 2 * np.pi, 5000)\n",
    "N_values = [1, 2, 3, 100]\n",
    "\n",
    "plt.figure(figsize=(11, 6))\n",
    "\n",
    "for N in N_values:\n",
    "    numerator = np.sin((2 * N + 1) * theta / 2)\n",
    "    denominator = np.sin(theta / 2)\n",
    "    \n",
    "    # Avoid division by zero\n",
    "    denominator = np.where(denominator == 0, 1e-10, denominator)\n",
    "    \n",
    "    D_N = numerator / denominator\n",
    "    D_N /= np.max(np.abs(D_N))  # Normalize for visual comparison\n",
    "\n",
    "    plt.plot(theta / np.pi, D_N, label=f'N = {N}')\n",
    "\n",
    "plt.title(\"Dirichlet Kernel for Different N\")\n",
    "plt.xlabel(r\"$\\theta / \\pi$\")\n",
    "plt.ylabel(\"Amplitude (normalized)\")\n",
    "plt.grid(True)\n",
    "plt.legend()\n",
    "plt.tight_layout()\n",
    "plt.show()\n"
   ]
  },
  {
   "cell_type": "code",
   "execution_count": null,
   "metadata": {},
   "outputs": [],
   "source": [
    "import numpy as np\n",
    "import matplotlib.pyplot as plt\n",
    "\n",
    "# Parameters\n",
    "window_size = 12\n",
    "n_points = 2048  # Increase for better frequency resolution\n",
    "\n",
    "# Build impulse response of 12-bar SMA\n",
    "impulse_response = np.ones(window_size) / window_size\n",
    "impulse_padded = np.pad(impulse_response, (0, n_points - window_size), 'constant')\n",
    "\n",
    "# Compute frequency response via FFT\n",
    "freq_response = np.fft.fft(impulse_padded)\n",
    "freq_magnitude = freq_response#np.abs(freq_response[:n_points // 2])  # Take positive frequencies\n",
    "freq_db = freq_magnitude # 20 * np.log10(freq_magnitude + 1e-10)  # Avoid log(0)\n",
    "\n",
    "# Frequency axis, normalized: Nyquist = 1\n",
    "#freq_axis = np.linspace(0, 1, n_points)# // 2)\n",
    "freq_axis = range(0, n_points)\n",
    "\n",
    "# Plot\n",
    "plt.figure(figsize=(12, 6))\n",
    "plt.plot(freq_axis, freq_db, label='12-bar SMA Transfer Response')\n",
    "plt.title(\"Transfer Response of 12-bar SMA (Normalized Frequency, Nyquist = 1)\")\n",
    "plt.xlabel(\"Normalized Frequency (Nyquist = 1)\")\n",
    "plt.ylabel(\"Magnitude Response (dB)\")\n",
    "plt.grid(True)\n",
    "\n",
    "# Annotate key periods (P=12,6,4,3,2.4,2) with vertical lines\n",
    "periods = [12, 6, 4, 3, 2.4, 2]\n",
    "for P in periods:\n",
    "    #f_norm = 2 / P\n",
    "    f_norm = 2048 /P\n",
    "    plt.axvline(f_norm, color='gray', linestyle='--', alpha=0.5)\n",
    "    plt.text(f_norm, 0.5, f'f_norm={int(f_norm)}', rotation=90, verticalalignment='bottom', horizontalalignment='center')\n",
    "\n",
    "#plt.ylim(-60, 5)\n",
    "plt.tight_layout()\n",
    "plt.legend()\n",
    "plt.show()\n"
   ]
  },
  {
   "cell_type": "code",
   "execution_count": null,
   "metadata": {},
   "outputs": [],
   "source": []
  }
 ],
 "metadata": {
  "kernelspec": {
   "display_name": "venv",
   "language": "python",
   "name": "python3"
  },
  "language_info": {
   "codemirror_mode": {
    "name": "ipython",
    "version": 3
   },
   "file_extension": ".py",
   "mimetype": "text/x-python",
   "name": "python",
   "nbconvert_exporter": "python",
   "pygments_lexer": "ipython3",
   "version": "3.10.12"
  }
 },
 "nbformat": 4,
 "nbformat_minor": 2
}
