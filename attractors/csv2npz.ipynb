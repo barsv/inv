{
 "cells": [
  {
   "cell_type": "code",
   "execution_count": null,
   "id": "0",
   "metadata": {},
   "outputs": [],
   "source": [
    "import numpy as np\n",
    "import pandas as pd\n",
    "\n",
    "# Загружаем CSV\n",
    "file_path = \"DAT_ASCII_SPXUSD_M1_2017.csv\"  # Укажи путь к файлу\n",
    "df = pd.read_csv(file_path, sep=\";\", header=None, names=[\"datetime\", \"open\", \"high\", \"low\", \"close\", \"volume\"])\n",
    "\n",
    "# Преобразуем время в datetime\n",
    "df[\"datetime\"] = pd.to_datetime(df[\"datetime\"], format=\"%Y%m%d %H%M%S\")\n",
    "\n",
    "# Оставляем только timestamp и close\n",
    "df = df[[\"datetime\", \"close\"]]\n",
    "\n",
    "# Преобразуем в numpy массив\n",
    "data = df.to_numpy()\n",
    "\n",
    "# Сохраняем в NPZ\n",
    "np.savez_compressed(\"SPXUSD_M1_2017.npz\", data=data)\n",
    "\n",
    "print(\"Файл сохранён: SPXUSD_M1_2017.npz\")\n"
   ]
  }
 ],
 "metadata": {
  "language_info": {
   "name": "python"
  }
 },
 "nbformat": 4,
 "nbformat_minor": 5
}
