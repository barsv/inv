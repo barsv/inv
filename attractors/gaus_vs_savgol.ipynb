{
 "cells": [
  {
   "cell_type": "code",
   "execution_count": null,
   "id": "0",
   "metadata": {},
   "outputs": [],
   "source": [
    "%matplotlib widget"
   ]
  },
  {
   "cell_type": "code",
   "execution_count": null,
   "id": "1",
   "metadata": {},
   "outputs": [],
   "source": [
    "import numpy as np\n",
    "import pandas as pd\n",
    "import matplotlib.pyplot as plt\n",
    "from scipy.optimize import minimize\n",
    "from scipy.ndimage import gaussian_filter1d\n",
    "\n",
    "# Генерируем искусственные данные\n",
    "np.random.seed(42)\n",
    "n = 50000\n",
    "x = np.linspace(0, 1000, n)\n",
    "trend = np.sin(x) + 0.5 * x\n",
    "noise = np.random.normal(scale=0.3, size=n)\n",
    "y = trend + noise  # Исходный ряд\n",
    "\n",
    "# Функция для оптимизации σ\n",
    "\n",
    "def optimize_sigma(y, window_size):\n",
    "    y_savgol = savgol_filter(y, window_size, polyorder=3)\n",
    "    \n",
    "    def mse_loss(sigma):\n",
    "        y_gauss = gaussian_filter1d(y, sigma)\n",
    "        return np.mean((y_savgol - y_gauss) ** 2)\n",
    "    \n",
    "    result = minimize(mse_loss, x0=window_size / 4.71, bounds=[(0.1, window_size)])\n",
    "    return result.x[0]\n",
    "\n",
    "# Тестируем гипотезу для разных окон Savitzky-Golay\n",
    "window_sizes = [11, 21, 31, 41, 51, 61, 71, 81, 91, 101, 111, 121, 131, 141, 151, 161, 171, 181, 191, 201, 211, 221, 231, 241, 251, 261, 271, 281, 291, 301]\n",
    "optimal_sigmas = [optimize_sigma(y, w) for w in window_sizes]\n",
    "\n",
    "# Визуализация зависимости σ от размера окна\n",
    "plt.figure(figsize=(8, 5))\n",
    "plt.plot(window_sizes, optimal_sigmas, marker='o', linestyle='-')\n",
    "plt.xlabel('Размер окна Savitzky-Golay')\n",
    "plt.ylabel('Оптимальная σ для Гаусса')\n",
    "plt.title('Подбор σ для эквивалентного сглаживания Гауссом')\n",
    "plt.grid()\n",
    "plt.show()\n",
    "\n",
    "# Выводим таблицу соответствия\n",
    "sigma_table = pd.DataFrame({'Savitzky-Golay Window': window_sizes, 'Optimal Gaussian Sigma': optimal_sigmas})\n",
    "print(sigma_table)\n"
   ]
  },
  {
   "cell_type": "code",
   "execution_count": null,
   "id": "2",
   "metadata": {},
   "outputs": [],
   "source": [
    "plt.figure(figsize=(12, 6))\n",
    "yc = y[:500].copy()\n",
    "plt.plot(yc, label='y')\n",
    "plt.plot(savgol_filter(yc, 121, polyorder=3), label='savgol_filter')\n",
    "plt.plot(gaussian_filter1d(yc, 12.756800), label='gaussian_filter1d')\n",
    "plt.legend()"
   ]
  }
 ],
 "metadata": {
  "kernelspec": {
   "display_name": "venv",
   "language": "python",
   "name": "python3"
  },
  "language_info": {
   "codemirror_mode": {
    "name": "ipython",
    "version": 3
   },
   "file_extension": ".py",
   "mimetype": "text/x-python",
   "name": "python",
   "nbconvert_exporter": "python",
   "pygments_lexer": "ipython3",
   "version": "3.10.12"
  }
 },
 "nbformat": 4,
 "nbformat_minor": 5
}
