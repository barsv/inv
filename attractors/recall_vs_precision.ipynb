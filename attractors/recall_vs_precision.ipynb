{
 "cells": [
  {
   "cell_type": "code",
   "execution_count": null,
   "metadata": {},
   "outputs": [],
   "source": [
    "import numpy as np\n",
    "import matplotlib.pyplot as plt\n",
    "\n",
    "# Создаём сетку значений x и y от 0.01 до 1 (избегаем деления на 0)\n",
    "x = np.linspace(0.01, 1, 200)\n",
    "y = np.linspace(0.01, 1, 200)\n",
    "X, Y = np.meshgrid(x, y)\n",
    "\n",
    "# Вычисляем гармоническое среднее\n",
    "#H = 1 / (1/X + 1/(400*Y))\n",
    "b = 1/20\n",
    "H = (1+b*b) *X*Y / (X * b * b + Y)\n",
    "\n",
    "# Строим heatmap\n",
    "plt.figure(figsize=(6, 5))\n",
    "plt.title(\"Гармоническое среднее H(x, y) = 2xy / (x + y)\")\n",
    "heatmap = plt.imshow(H, extent=[0, 1, 0, 1], origin='lower', cmap='viridis')\n",
    "plt.xlabel(\"x\")\n",
    "plt.ylabel(\"y\")\n",
    "plt.colorbar(heatmap, label='H(x, y)')\n",
    "plt.grid(False)\n",
    "plt.tight_layout()\n",
    "plt.show()"
   ]
  }
 ],
 "metadata": {
  "kernelspec": {
   "display_name": "venv",
   "language": "python",
   "name": "python3"
  },
  "language_info": {
   "codemirror_mode": {
    "name": "ipython",
    "version": 3
   },
   "file_extension": ".py",
   "mimetype": "text/x-python",
   "name": "python",
   "nbconvert_exporter": "python",
   "pygments_lexer": "ipython3",
   "version": "3.10.12"
  }
 },
 "nbformat": 4,
 "nbformat_minor": 2
}
