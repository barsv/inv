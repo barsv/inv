{
 "cells": [
  {
   "cell_type": "code",
   "execution_count": null,
   "id": "0",
   "metadata": {},
   "outputs": [],
   "source": [
    "%matplotlib widget\n",
    "\n",
    "# загрузим данные\n",
    "import numpy as np\n",
    "import pandas as pd\n",
    "\n",
    "file_path = \"../npz/BTCUSD_1T_close_only.npz\"\n",
    "data = np.load(file_path, allow_pickle=True)\n",
    "df = pd.DataFrame(data['data'], columns=['timestamp', 'close'])\n",
    "df['timestamp'] = pd.to_datetime(df['timestamp'])\n",
    "df.set_index('timestamp', inplace=True)"
   ]
  },
  {
   "cell_type": "code",
   "execution_count": null,
   "id": "1",
   "metadata": {},
   "outputs": [],
   "source": [
    "dfc = df[:10000].copy()"
   ]
  },
  {
   "cell_type": "code",
   "execution_count": null,
   "id": "2",
   "metadata": {},
   "outputs": [],
   "source": [
    "lim = 1000\n",
    "def get_transitions_map(df, windows, tau, grid_sizes, transitions_grid_size):\n",
    "    \"\"\"\n",
    "    creates a map of price shifts\n",
    "    \"\"\"\n",
    "    max_window = max(windows)\n",
    "    mas = {}\n",
    "    diffs = {}\n",
    "    closes = df['close']\n",
    "    transition_values = closes.shift(-tau) - closes\n",
    "    transitions_min = transition_values.min()\n",
    "    transitions_max = transition_values.max()\n",
    "    for wi, w in enumerate(windows):\n",
    "        mas[wi] = closes.rolling(w).mean()\n",
    "        diffs[wi] = mas[wi] - mas[wi - 1] if wi > 0 else mas[0] - df['close']\n",
    "    diff_mins = []\n",
    "    diff_maxs = []\n",
    "    for wi, w in enumerate(windows):\n",
    "        diff_mins.append(diffs[wi].min())\n",
    "        diff_maxs.append(diffs[wi].max())\n",
    "    transitions = {}\n",
    "    transitions_map = {}\n",
    "    for i in range(max_window, max_window + lim):\n",
    "        positions = []\n",
    "        for wi, w in enumerate(windows):\n",
    "            diff = diffs[wi].iloc[i]\n",
    "            diff_min = diff_mins[wi]\n",
    "            diff_max = diff_maxs[wi]\n",
    "            grid_size = grid_sizes[wi]\n",
    "            pos = round((grid_size - 1) * (diff - diff_min) / (diff_max - diff_min))\n",
    "            pos_fixed = max(0, min(pos, grid_size - 1))\n",
    "            positions.append(pos_fixed)\n",
    "        transitions[tuple(positions)] = transition_values.iloc[i]\n",
    "        transitions_pos = round((transitions_grid_size - 1) * (transition_values.iloc[i] - transitions_min) / (transitions_max - transitions_min))\n",
    "        transitions_pos_fixed = max(0, min(transitions_pos, transitions_grid_size - 1))\n",
    "        if (transitions_map.get(tuple(positions), None) is None):\n",
    "            transitions_map[tuple(positions)] = {}\n",
    "        if (transitions_map[tuple(positions)].get(transitions_pos_fixed, None) is None):\n",
    "            transitions_map[tuple(positions)][transitions_pos_fixed] = 1\n",
    "        else:\n",
    "            transitions_map[tuple(positions)][transitions_pos_fixed] += 1\n",
    "    return transitions, diff_mins, diff_maxs, transitions_map, transitions_min, transitions_max\n",
    "\n",
    "transitions, _, _, transitions_map, _, _ = get_transitions_map(dfc, [5, 10, 20], 1, [10, 10, 10], 10)\n",
    "transitions"
   ]
  },
  {
   "cell_type": "code",
   "execution_count": null,
   "id": "3",
   "metadata": {},
   "outputs": [],
   "source": [
    "transitions_map"
   ]
  },
  {
   "cell_type": "code",
   "execution_count": null,
   "id": "4",
   "metadata": {},
   "outputs": [],
   "source": []
  }
 ],
 "metadata": {
  "kernelspec": {
   "display_name": "venv",
   "language": "python",
   "name": "python3"
  },
  "language_info": {
   "codemirror_mode": {
    "name": "ipython",
    "version": 3
   },
   "file_extension": ".py",
   "mimetype": "text/x-python",
   "name": "python",
   "nbconvert_exporter": "python",
   "pygments_lexer": "ipython3",
   "version": "3.10.12"
  }
 },
 "nbformat": 4,
 "nbformat_minor": 5
}
