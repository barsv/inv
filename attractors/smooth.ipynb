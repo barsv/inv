{
 "cells": [
  {
   "cell_type": "code",
   "execution_count": null,
   "metadata": {},
   "outputs": [],
   "source": [
    "import numpy as np\n",
    "import pandas as pd\n",
    "import matplotlib.pyplot as plt\n",
    "import ipywidgets as widgets\n",
    "from ipywidgets import interact\n",
    "from scipy.signal import savgol_filter\n",
    "\n",
    "# Load data\n",
    "filename = '../npz/BTCUSD_1T.npz'\n",
    "data = np.load(filename, allow_pickle=True)['data']\n",
    "loaded_df = pd.DataFrame(data, columns=['timestamp', 'open', 'high', 'low', 'close', 'volume'])\n",
    "\n",
    "# Convert 'timestamp' to datetime and set it as the index\n",
    "loaded_df['timestamp'] = pd.to_datetime(loaded_df['timestamp'])\n",
    "loaded_df.set_index('timestamp', inplace=True)\n",
    "\n",
    "# Convert all price and volume columns to numeric format\n",
    "for column in ['open', 'high', 'low', 'close', 'volume']:\n",
    "    loaded_df[column] = pd.to_numeric(loaded_df[column], errors='coerce')"
   ]
  },
  {
   "cell_type": "code",
   "execution_count": null,
   "metadata": {},
   "outputs": [],
   "source": [
    "df = loaded_df[3000:3200]"
   ]
  },
  {
   "cell_type": "code",
   "execution_count": null,
   "metadata": {},
   "outputs": [],
   "source": [
    "# Simple Moving Average (SMA)\n",
    "window_size = 10  # размер окна для усреднения\n",
    "sma10 = df['close'].rolling(window=window_size).mean()\n",
    "\n",
    "# Визуализация\n",
    "plt.figure(figsize=(12, 6))\n",
    "plt.plot(df.index, df['close'], label=\"Original\", alpha=0.5)\n",
    "plt.plot(df.index, sma10, label=f\"SMA ({window_size})\", linewidth=2)\n",
    "plt.legend()\n",
    "plt.title(\"Simple Moving Average (SMA)\")\n",
    "plt.show()\n"
   ]
  },
  {
   "cell_type": "code",
   "execution_count": null,
   "metadata": {},
   "outputs": [],
   "source": [
    "# Exponential Moving Average (EMA)\n",
    "span = 10  # Период для усреднения\n",
    "ema10 = df['close'].ewm(span=span, adjust=False).mean()\n",
    "\n",
    "# Визуализация\n",
    "plt.figure(figsize=(12, 6))\n",
    "plt.plot(df.index, df['close'], label=\"Original\", alpha=0.5)\n",
    "plt.plot(df.index, ema10, label=f\"EMA ({span})\", linewidth=2)\n",
    "plt.legend()\n",
    "plt.title(\"Exponential Moving Average (EMA)\")\n",
    "plt.show()\n"
   ]
  },
  {
   "cell_type": "code",
   "execution_count": null,
   "metadata": {},
   "outputs": [],
   "source": [
    "from scipy.signal import medfilt\n",
    "\n",
    "# Median Filter\n",
    "kernel_size = 5  # Размер ядра должен быть нечётным\n",
    "med_filtered = medfilt(df['close'], kernel_size=kernel_size)\n",
    "\n",
    "# Визуализация\n",
    "plt.figure(figsize=(12, 6))\n",
    "plt.plot(df.index, df['close'], label=\"Original\", alpha=0.5)\n",
    "plt.plot(df.index, med_filtered, label=f\"Median Filter (k={kernel_size})\", linewidth=2)\n",
    "plt.legend()\n",
    "plt.title(\"Median Filter\")\n",
    "plt.show()\n"
   ]
  },
  {
   "cell_type": "code",
   "execution_count": null,
   "metadata": {},
   "outputs": [],
   "source": [
    "# Savitzky-Golay Filter\n",
    "window_length = 15  # Должен быть нечётным\n",
    "polyorder = 3  # Степень полинома\n",
    "savgol_filtered = savgol_filter(df['close'], window_length=window_length, polyorder=polyorder)\n",
    "\n",
    "# Визуализация\n",
    "plt.figure(figsize=(12, 6))\n",
    "plt.plot(df.index, df['close'], label=\"Original\", alpha=0.5)\n",
    "plt.plot(df.index, savgol_filtered, label=f\"Savitzky-Golay (w={window_length}, p={polyorder})\", linewidth=2)\n",
    "plt.legend()\n",
    "plt.title(\"Savitzky-Golay Filter\")\n",
    "plt.show()\n"
   ]
  },
  {
   "cell_type": "code",
   "execution_count": null,
   "metadata": {},
   "outputs": [],
   "source": [
    "from scipy.signal import savgol_filter\n",
    "import numpy as np\n",
    "\n",
    "# Параметры Savitzky-Golay\n",
    "window_length = 15  # Должен быть нечётным\n",
    "polyorder = 3\n",
    "\n",
    "# Количество точек, которые он не сможет обработать на конце\n",
    "missing_points = window_length // 2\n",
    "\n",
    "# Экстраполяция полиномом для заполнения краёв\n",
    "def extend_series(series, extend_by):\n",
    "    x = np.arange(len(series))\n",
    "    y = series.values\n",
    "    coeffs = np.polyfit(x[-window_length:], y[-window_length:], polyorder)  # Подгоняем полином\n",
    "    poly = np.poly1d(coeffs)\n",
    "    \n",
    "    # Генерируем дополнительные точки\n",
    "    extra_x = np.arange(len(series), len(series) + extend_by)\n",
    "    extra_y = poly(extra_x)\n",
    "    \n",
    "    # Соединяем старые и новые данные\n",
    "    extended_series = np.concatenate([y, extra_y])\n",
    "    return extended_series\n",
    "\n",
    "# Дополним данные перед фильтрацией\n",
    "extended_close = extend_series(df['close'], missing_points)\n",
    "\n",
    "# Применяем Savitzky-Golay\n",
    "savgol_smoothed = savgol_filter(extended_close, window_length=window_length, polyorder=polyorder)\n",
    "\n",
    "# Обрезаем дополненные точки\n",
    "savgol_smoothed = savgol_smoothed[:len(df)]\n",
    "\n",
    "# Визуализация\n",
    "plt.figure(figsize=(12, 6))\n",
    "plt.plot(df.index, df['close'], label=\"Original\", alpha=0.5)\n",
    "plt.plot(df.index, savgol_smoothed, label=\"Savitzky-Golay (Extended)\", linewidth=2)\n",
    "plt.plot(df.index, savgol_filtered, label=f\"Savitzky-Golay (w={window_length}, p={polyorder})\", linewidth=2)\n",
    "plt.legend()\n",
    "plt.title(\"Savitzky-Golay with Polynomial Extrapolation\")\n",
    "plt.show()\n"
   ]
  },
  {
   "cell_type": "code",
   "execution_count": null,
   "metadata": {},
   "outputs": [],
   "source": [
    "import pywt\n",
    "\n",
    "# Wavelet Denoising\n",
    "def wavelet_denoise(data, wavelet='db4', level=2):\n",
    "    coeffs = pywt.wavedec(data, wavelet, level=level)\n",
    "    coeffs[1:] = [pywt.threshold(c, value=np.std(c), mode=\"soft\") for c in coeffs[1:]]\n",
    "    return pywt.waverec(coeffs, wavelet)[:len(data)]  # Ограничиваем длину\n",
    "\n",
    "wavelet_smoothed = wavelet_denoise(df['close'])\n",
    "\n",
    "# Визуализация\n",
    "plt.figure(figsize=(12, 6))\n",
    "plt.plot(df.index, df['close'], label=\"Original\", alpha=0.5)\n",
    "plt.plot(df.index, wavelet_smoothed, label=\"Wavelet Smoothed\", linewidth=2)\n",
    "plt.legend()\n",
    "plt.title(\"Wavelet Denoising\")\n",
    "plt.show()\n"
   ]
  },
  {
   "cell_type": "code",
   "execution_count": null,
   "metadata": {},
   "outputs": [],
   "source": [
    "from statsmodels.tsa.holtwinters import ExponentialSmoothing\n",
    "\n",
    "# Holt-Winters Exponential Smoothing\n",
    "hw_model = ExponentialSmoothing(df['close'], trend='add', seasonal=None)\n",
    "hw_fitted = hw_model.fit().fittedvalues\n",
    "\n",
    "# Визуализация\n",
    "plt.figure(figsize=(12, 6))\n",
    "plt.plot(df.index, df['close'], label=\"Original\", alpha=0.5)\n",
    "plt.plot(df.index, hw_fitted, label=\"Holt-Winters\", linewidth=2)\n",
    "plt.legend()\n",
    "plt.title(\"Holt-Winters Exponential Smoothing\")\n",
    "plt.show()\n"
   ]
  }
 ],
 "metadata": {
  "kernelspec": {
   "display_name": "venv",
   "language": "python",
   "name": "python3"
  },
  "language_info": {
   "codemirror_mode": {
    "name": "ipython",
    "version": 3
   },
   "file_extension": ".py",
   "mimetype": "text/x-python",
   "name": "python",
   "nbconvert_exporter": "python",
   "pygments_lexer": "ipython3",
   "version": "3.10.12"
  }
 },
 "nbformat": 4,
 "nbformat_minor": 2
}
