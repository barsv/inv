{
 "cells": [
  {
   "cell_type": "code",
   "execution_count": null,
   "id": "0",
   "metadata": {},
   "outputs": [],
   "source": []
  },
  {
   "cell_type": "code",
   "execution_count": null,
   "id": "1",
   "metadata": {},
   "outputs": [],
   "source": [
    "# загрузим данные\n",
    "import numpy as np\n",
    "import pandas as pd\n",
    "\n",
    "file_path = \"../npz/BTCUSD_1T_close_only.npz\"\n",
    "data = np.load(file_path, allow_pickle=True)\n",
    "df = pd.DataFrame(data['data'], columns=['timestamp', 'close'])\n",
    "df['timestamp'] = pd.to_datetime(df['timestamp'])\n",
    "df.set_index('timestamp', inplace=True)\n",
    "\n",
    "# При необходимости можно ограничить число точек:\n",
    "#df = df.iloc[:50* 1000]\n"
   ]
  },
  {
   "cell_type": "code",
   "execution_count": null,
   "id": "2",
   "metadata": {},
   "outputs": [],
   "source": [
    "from scipy.signal import savgol_filter\n",
    "import matplotlib.pyplot as plt\n",
    "\n",
    "dfc = df[:1000].copy()\n",
    "\n",
    "start = 200\n",
    "end = 300\n",
    "\n",
    "full = savgol_filter(dfc['close'], 51, 3, mode='nearest')\n",
    "cut = savgol_filter(dfc['close'][start:end], 51, 3, mode='nearest')\n",
    "min = np.min(full)\n",
    "#fixed = np.concatenate([np.ones(start, dtype=np.float64) * min, cut, np.ones(len(dfc) - end, dtype=np.float64) * min])\n",
    "fixed = np.concatenate([np.full(start, np.nan), cut, np.full(len(dfc) - end, np.nan)])\n",
    "\n",
    "plt.figure(figsize=(12, 6))\n",
    "#plt.plot(dfc['close'], label='original')\n",
    "plt.plot(full, label='full')\n",
    "plt.plot(fixed, label='fixed')"
   ]
  },
  {
   "cell_type": "code",
   "execution_count": null,
   "id": "3",
   "metadata": {},
   "outputs": [],
   "source": [
    "plt.figure(figsize=(12, 6))\n",
    "plt.plot(fixed[start:end], label='fixed')\n",
    "plt.plot(full[start:end], label='full')\n",
    "win = savgol_filter(dfc['close'][start:end][-51:], 51, 3, mode='nearest')\n",
    "plt.plot(np.concatenate([np.full(end - start - 51, np.nan), win]), label='window', linestyle='dotted', color='red')"
   ]
  },
  {
   "cell_type": "code",
   "execution_count": null,
   "id": "4",
   "metadata": {},
   "outputs": [],
   "source": [
    "plt.figure(figsize=(12, 6))\n",
    "plt.plot(fixed[start:end]-full[start:end], label='fixed-full', marker='o')\n"
   ]
  }
 ],
 "metadata": {
  "kernelspec": {
   "display_name": "venv",
   "language": "python",
   "name": "python3"
  },
  "language_info": {
   "codemirror_mode": {
    "name": "ipython",
    "version": 3
   },
   "file_extension": ".py",
   "mimetype": "text/x-python",
   "name": "python",
   "nbconvert_exporter": "python",
   "pygments_lexer": "ipython3",
   "version": "3.10.12"
  }
 },
 "nbformat": 4,
 "nbformat_minor": 5
}
