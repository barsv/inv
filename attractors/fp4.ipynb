{
 "cells": [
  {
   "cell_type": "code",
   "execution_count": null,
   "id": "0",
   "metadata": {},
   "outputs": [],
   "source": [
    "%matplotlib widget\n",
    "\n",
    "# загрузим данные\n",
    "import numpy as np\n",
    "import pandas as pd\n",
    "\n",
    "file_path = \"../npz/BTCUSD_1T_close_only.npz\"\n",
    "data = np.load(file_path, allow_pickle=True)\n",
    "df = pd.DataFrame(data['data'], columns=['timestamp', 'close'])\n",
    "df['timestamp'] = pd.to_datetime(df['timestamp'])\n",
    "df.set_index('timestamp', inplace=True)\n",
    "\n"
   ]
  },
  {
   "cell_type": "code",
   "execution_count": null,
   "id": "1",
   "metadata": {},
   "outputs": [],
   "source": [
    "dfc = df[:1000].copy()"
   ]
  },
  {
   "cell_type": "code",
   "execution_count": null,
   "id": "2",
   "metadata": {},
   "outputs": [],
   "source": [
    "lim = 100\n",
    "def get_transitions_map(df, windows, tau, grid_size):\n",
    "    \"\"\"\n",
    "    creates a map of price shifts for each grid point\n",
    "    \"\"\"\n",
    "    max_window = max(windows)\n",
    "    for i in range(lim):\n",
    "        dfc = df[i:max_window+i].copy()\n"
   ]
  },
  {
   "cell_type": "code",
   "execution_count": null,
   "id": "3",
   "metadata": {},
   "outputs": [],
   "source": [
    "from scipy.signal import savgol_coeffs\n",
    "import numpy as np\n",
    "\n",
    "def savgol_last_only(data, window_size=51, polyorder=3):\n",
    "    \"\"\"\n",
    "    Рассчитывает Savitzky-Golay фильтр без заглядывания в будущее,\n",
    "    но использует только последнюю точку в окне, оптимизируя вычисления.\n",
    "    \n",
    "    :param data: массив входных данных\n",
    "    :param window_size: размер окна фильтра\n",
    "    :param polyorder: порядок полинома\n",
    "    :return: массив сглаженных значений (только последняя точка окна)\n",
    "    \"\"\"\n",
    "    # Получаем коэффициенты свёртки для последней точки в окне\n",
    "    coeffs = savgol_coeffs(window_size, polyorder, deriv=0, use=\"conv\")[-1::-1]  # Разворачиваем, чтобы применять к последним точкам\n",
    "\n",
    "    # Применяем только к последним `window_size` точкам в каждом окне\n",
    "    result = np.array([\n",
    "        np.dot(data[i - window_size + 1:i + 1], coeffs)\n",
    "        for i in range(window_size - 1, len(data))\n",
    "    ])\n",
    "\n",
    "    # Дополним начало массива NaN, так как первые `window_size - 1` значений нельзя посчитать\n",
    "    result = np.concatenate([np.full(window_size - 1, np.nan), result])\n",
    "\n",
    "    return result\n"
   ]
  },
  {
   "cell_type": "code",
   "execution_count": null,
   "id": "4",
   "metadata": {},
   "outputs": [],
   "source": [
    "filtered = savgol_last_only(dfc['close'].values, window_size=51, polyorder=3)"
   ]
  },
  {
   "cell_type": "code",
   "execution_count": null,
   "id": "5",
   "metadata": {},
   "outputs": [],
   "source": [
    "import matplotlib.pyplot as plt\n",
    "\n",
    "plt.figure(figsize=(12, 6))\n",
    "#plt.plot(dfc['close'], label='original')\n",
    "plt.plot(dfc['close'], label='dfc')\n",
    "plt.plot(dfc.index, filtered, label='fixed')"
   ]
  },
  {
   "cell_type": "code",
   "execution_count": null,
   "id": "6",
   "metadata": {},
   "outputs": [],
   "source": [
    "from scipy.signal import savgol_filter\n",
    "\n",
    "# Функция в лоб: без оптимизации, но без заглядывания в будущее\n",
    "def savgol_last_naive(data, window_size=51, polyorder=3):\n",
    "    \"\"\"\n",
    "    Рассчитывает Savitzky-Golay фильтр без заглядывания в будущее,\n",
    "    проходя окном по данным и беря последнюю точку фильтрации.\n",
    "    \n",
    "    :param data: массив входных данных\n",
    "    :param window_size: размер окна фильтра\n",
    "    :param polyorder: порядок полинома\n",
    "    :return: массив сглаженных значений (только последняя точка окна)\n",
    "    \"\"\"\n",
    "    result = []\n",
    "    for i in range(len(data) - window_size + 1):\n",
    "        # Применяем Savitzky-Golay к текущему окну\n",
    "        smoothed_window = savgol_filter(data[i:i + window_size], window_size, polyorder, mode='nearest')\n",
    "        result.append(smoothed_window[-1])  # Берем последнюю точку\n",
    "\n",
    "    # Дополним начало массива NaN, так как первые `window_size - 1` значений нельзя посчитать\n",
    "    result = np.concatenate([np.full(window_size - 1, np.nan), result])\n",
    "\n",
    "    return np.array(result)\n"
   ]
  },
  {
   "cell_type": "code",
   "execution_count": null,
   "id": "7",
   "metadata": {},
   "outputs": [],
   "source": [
    "filtered2 = savgol_last_naive(dfc['close'].values, window_size=51, polyorder=3)"
   ]
  },
  {
   "cell_type": "code",
   "execution_count": null,
   "id": "8",
   "metadata": {},
   "outputs": [],
   "source": [
    "#%pip install pykalman\n",
    "#%pip install ta-lib\n",
    "#%pip install pandas-ta"
   ]
  },
  {
   "cell_type": "code",
   "execution_count": null,
   "id": "9",
   "metadata": {},
   "outputs": [],
   "source": [
    "import scipy.signal\n",
    "def causal_gaussian_filter(series, sigma):\n",
    "    \"\"\" Применяет каузальный Гауссов фильтр (без заглядывания в будущее) \"\"\"\n",
    "    # Генерируем Гауссовое ядро, но берём только левую половину\n",
    "    window_size = int(4 * sigma)  # Длина окна\n",
    "    kernel = np.exp(-np.linspace(0, window_size, window_size)**2 / (2 * sigma**2))\n",
    "    kernel /= np.sum(kernel)  # Нормируем, чтобы сумма весов = 1\n",
    "\n",
    "    # Свёртка с учетом только прошлых значений (mode='valid' обрезает будущее)\n",
    "    filtered = scipy.signal.convolve(series, kernel, mode='full')[:len(series)]\n",
    "    return filtered"
   ]
  },
  {
   "cell_type": "code",
   "execution_count": null,
   "id": "10",
   "metadata": {},
   "outputs": [],
   "source": [
    "import statsmodels.api as sm\n",
    "\n",
    "def causal_hp(data, window_size=51, lamb=80):\n",
    "    result = []\n",
    "    for i in range(len(data) - window_size + 1):\n",
    "        smoothed_window = sm.tsa.filters.hpfilter(data[i:i + window_size], lamb=lamb)[1]\n",
    "        result.append(smoothed_window.iloc[-1])\n",
    "\n",
    "    # Дополним начало массива NaN, так как первые `window_size - 1` значений нельзя посчитать\n",
    "    result = np.concatenate([np.full(window_size - 1, np.nan), result])\n",
    "\n",
    "    return np.array(result)\n"
   ]
  },
  {
   "cell_type": "code",
   "execution_count": null,
   "id": "11",
   "metadata": {},
   "outputs": [],
   "source": [
    "\n",
    "import matplotlib.pyplot as plt\n",
    "from scipy.ndimage import gaussian_filter1d\n",
    "import statsmodels.api as sm\n",
    "from pykalman import KalmanFilter\n",
    "import pandas_ta as ta\n",
    "\n",
    "\n",
    "def ppp(i=0):\n",
    "    start = 100 + i\n",
    "    end = start + 800\n",
    "    dfc = df[start:end].copy()\n",
    "    plt.figure(figsize=(12, 6))\n",
    "    #plt.plot(dfc['close'], label='original')\n",
    "    plt.plot(dfc['close'], label='dfc', color='gray')\n",
    "    #plt.plot(dfc.index, savgol_last_naive(dfc['close'].values, window_size=51, polyorder=3), label='savgol_last_naive', color='red')\n",
    "    \n",
    "    #plt.plot(dfc.index, filtered, label='fixed', color='red')\n",
    "    #plt.plot(dfc.index, filtered2, label='fixed', color='blue')\n",
    "    plt.plot(dfc.index,   savgol_filter(dfc['close'], 51, 3, mode='nearest')     , label='savgol_filter', color='red')\n",
    "    sig = 51/4.71/2\n",
    "    plt.plot(dfc.index, gaussian_filter1d(dfc['close'].astype(float).values, sigma=sig), label=f'gaussian_filter1d sig={sig}', color='blue')\n",
    "    #plt.plot(dfc.index, sm.tsa.filters.hpfilter(dfc, lamb=80)[1], label='hpfilter', color='blue')\n",
    "    #plt.plot(dfc.index, causal_hp(dfc, window_size=500, lamb=1080), label='causal_hp', color='red') \n",
    "    # kf = KalmanFilter(initial_state_mean=dfc['close'].iloc[0], n_dim_obs=1)\n",
    "    # kf_result, _ = kf.smooth(dfc['close'].values)\n",
    "    # plt.plot(dfc.index, kf_result, label='kf_result', color='blue') \n",
    "    # fft = np.fft.rfft(dfc['close'].values)\n",
    "    # fft[25:] = 0  # Оставляем только первые 10 частот\n",
    "    # plt.plot(dfc.index, np.fft.irfft(fft, n=len(dfc)), label='fft', color='blue')\n",
    "    #plt.plot(dfc.index, talib.WMA(dfc['close'], timeperiod=50), label='fft', color='blue')\n",
    "    #plt.plot(dfc.index, ta.wma(dfc['close'], length=30).shift(0), label='wma', color='blue')\n",
    "    #plt.plot(dfc.index, ta.wma(dfc['close'], length=30).shift(-10), label='wma', color='red')\n",
    "    #plt.plot(dfc.index, dfc['close'].ewm(span=30, adjust=False).mean(), label='ema30', color='red', linestyle='--')\n",
    "    # plt.plot(dfc.index, dfc['close'].ewm(span=30, adjust=False).mean().shift(-10), label='ema30', color='blue')\n",
    "    #plt.plot(dfc.index, dfc['close'].ewm(span=60, adjust=False).mean().shift(-15), label='ema60', color='red')\n",
    "    # plt.plot(dfc.index, dfc['close'].ewm(span=120, adjust=False).mean().shift(-20), label='ema60', color='green')\n",
    "    # sig = 6\n",
    "    # plt.plot(dfc.index, causal_gaussian_filter(dfc['close'], sigma=sig), label=f'causal_gaussian_filter sig={sig}', color='blue')\n",
    "    plt.legend()\n",
    "    \n",
    "\n",
    "i=0\n",
    "ppp()"
   ]
  },
  {
   "cell_type": "code",
   "execution_count": null,
   "id": "12",
   "metadata": {},
   "outputs": [],
   "source": [
    "i+=10\n",
    "ppp(i)"
   ]
  },
  {
   "cell_type": "code",
   "execution_count": null,
   "id": "13",
   "metadata": {},
   "outputs": [],
   "source": []
  }
 ],
 "metadata": {
  "kernelspec": {
   "display_name": "venv",
   "language": "python",
   "name": "python3"
  },
  "language_info": {
   "codemirror_mode": {
    "name": "ipython",
    "version": 3
   },
   "file_extension": ".py",
   "mimetype": "text/x-python",
   "name": "python",
   "nbconvert_exporter": "python",
   "pygments_lexer": "ipython3",
   "version": "3.10.12"
  }
 },
 "nbformat": 4,
 "nbformat_minor": 5
}
