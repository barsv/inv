{
 "cells": [
  {
   "cell_type": "code",
   "execution_count": null,
   "metadata": {},
   "outputs": [],
   "source": [
    "import numpy as np\n",
    "import pandas as pd\n",
    "\n",
    "filename = f'../npz/BTCUSD_1T.npz'\n",
    "data = np.load(filename, allow_pickle=True)['data']\n",
    "# преобразование в формат pandas\n",
    "loaded_df = pd.DataFrame(data, columns=['timestamp', 'open', 'high', 'low', 'close', 'volume'])"
   ]
  },
  {
   "cell_type": "code",
   "execution_count": null,
   "metadata": {},
   "outputs": [],
   "source": [
    "# Преобразование 'timestamp' в datetime и установка его как индекс DataFrame\n",
    "loaded_df['timestamp'] = pd.to_datetime(loaded_df['timestamp'])\n",
    "loaded_df.set_index('timestamp', inplace=True)\n",
    "\n",
    "# Преобразование всех столбцов с ценами и объемом в числовой формат\n",
    "for column in ['open', 'high', 'low', 'close', 'volume']:\n",
    "    loaded_df[column] = pd.to_numeric(loaded_df[column], errors='coerce')"
   ]
  },
  {
   "cell_type": "code",
   "execution_count": null,
   "metadata": {},
   "outputs": [],
   "source": [
    "# select last 10000 rows\n",
    "df = loaded_df.tail(3000)\n",
    "# df = loaded_df\n",
    "df.shape"
   ]
  },
  {
   "cell_type": "code",
   "execution_count": null,
   "metadata": {},
   "outputs": [],
   "source": [
    "#!pip install ipywidgets"
   ]
  },
  {
   "cell_type": "code",
   "execution_count": null,
   "metadata": {},
   "outputs": [],
   "source": [
    "import matplotlib.pyplot as plt\n",
    "plt.figure(figsize=(15, 7))\n",
    "w1 = 30\n",
    "df['close'].rolling(window=2*w1).mean().shift(-w1).plot()\n",
    "w2 = 60\n",
    "df['close'].rolling(window=2*w2).mean().shift(-w2).plot()\n",
    "plt.show()"
   ]
  },
  {
   "cell_type": "code",
   "execution_count": null,
   "metadata": {},
   "outputs": [],
   "source": [
    "import numpy as np\n",
    "import pandas as pd\n",
    "import matplotlib.pyplot as plt\n",
    "import ipywidgets as widgets\n",
    "from ipywidgets import interact\n",
    "\n",
    "# Load data\n",
    "filename = '../npz/BTCUSD_1T.npz'\n",
    "data = np.load(filename, allow_pickle=True)['data']\n",
    "loaded_df = pd.DataFrame(data, columns=['timestamp', 'open', 'high', 'low', 'close', 'volume'])\n",
    "\n",
    "# Convert 'timestamp' to datetime and set it as the index\n",
    "loaded_df['timestamp'] = pd.to_datetime(loaded_df['timestamp'])\n",
    "loaded_df.set_index('timestamp', inplace=True)\n",
    "\n",
    "# Convert all price and volume columns to numeric format\n",
    "for column in ['open', 'high', 'low', 'close', 'volume']:\n",
    "    loaded_df[column] = pd.to_numeric(loaded_df[column], errors='coerce')\n",
    "\n",
    "from scipy.signal import butter, filtfilt\n",
    "def lowpass_filter(data, cutoff=0.1, fs=1.0, order=2):\n",
    "    nyquist = 0.5 * fs\n",
    "    normal_cutoff = cutoff / nyquist\n",
    "    b, a = butter(order, normal_cutoff, btype='low', analog=False)\n",
    "    y = filtfilt(b, a, data)\n",
    "    return y\n",
    "\n",
    "# Create interactive widgets\n",
    "n_slider = widgets.IntSlider(min=1000, max=30 * 1000, step=1000, value=5000, description='n')\n",
    "w1_slider = widgets.IntSlider(min=1, max=1500, step=1, value=30, description='w1')\n",
    "w2_slider = widgets.IntSlider(min=1, max=3000, step=1, value=60, description='w2')\n",
    "cutoff_slider = widgets.FloatSlider(min=0.001, max=0.3, step=0.0005, value=0.02, description='cutoff', readout_format='.3f')\n"
   ]
  },
  {
   "cell_type": "code",
   "execution_count": null,
   "metadata": {},
   "outputs": [],
   "source": [
    "# Function to update the plot\n",
    "def update_plot(n, w1, w2, cutoff):\n",
    "    # Select the last n rows\n",
    "    df = loaded_df.tail(n)\n",
    "    w1_rolling = df['close'].rolling(window=2*w1).mean()\n",
    "    w1_shifted = w1_rolling.shift(-w1)\n",
    "    w2_rolling = df['close'].rolling(window=2*w2).mean()\n",
    "    w2_shifted = w2_rolling.shift(-w2)\n",
    "    # diff = (w2_shifted - w1_shifted).dropna()\n",
    "    # smoothed = lowpass_filter(diff.values, cutoff=cutoff)\n",
    "    plt.figure(figsize=(15, 5))\n",
    "    df['close'].plot(label='Close price', c='gray')\n",
    "    w1_rolling.plot(label=f'w1_rolling', c='red')\n",
    "    w2_rolling.plot(label=f'w2_rolling', c='blue')\n",
    "    plt.legend()\n",
    "    plt.figure(figsize=(15, 5))\n",
    "    w1_shifted.plot(label=f'w1_shifted', c='red')\n",
    "    w2_shifted.plot(label=f'w2_shifted', c='blue')\n",
    "    plt.legend()\n",
    "    # plt.figure(figsize=(15, 5))\n",
    "    # diff.plot(label=f'diff')\n",
    "    # plt.legend()\n",
    "    # plt.figure(figsize=(15, 5))\n",
    "    # plt.plot(smoothed, label='smoothed')\n",
    "    # plt.figure(figsize=(15, 5))\n",
    "    # plt.plot(diff.values - smoothed, label='diff - smoothed')\n",
    "    # plt.legend()\n",
    "    plt.show()\n",
    "\n",
    "\n",
    "# Use interact to create the interactive plot\n",
    "interact(update_plot, n=n_slider, w1=w1_slider, w2=w2_slider, cutoff=cutoff_slider)"
   ]
  },
  {
   "cell_type": "code",
   "execution_count": null,
   "metadata": {},
   "outputs": [],
   "source": [
    "# Function to update the plot\n",
    "def update_plot2(n, w1, w2, cutoff):\n",
    "    # Select the last n rows\n",
    "    df = loaded_df.tail(n)\n",
    "    w1_rolling = df['close'].rolling(window=2*w1).mean()\n",
    "    w1_shifted = w1_rolling.shift(-w1)\n",
    "    w2_rolling = df['close'].rolling(window=2*w2).mean()\n",
    "    w2_shifted = w2_rolling.shift(-w2)\n",
    "    diff = (w2_shifted - w1_shifted).dropna()\n",
    "    smoothed = lowpass_filter(diff.values, cutoff=cutoff)\n",
    "    # plt.figure(figsize=(15, 5))\n",
    "    # df['close'].plot(label='Close price')\n",
    "    # w1_rolling.plot(label=f'w1_rolling')\n",
    "    # w2_rolling.plot(label=f'w2_rolling')\n",
    "    # plt.legend()\n",
    "    # plt.figure(figsize=(15, 5))\n",
    "    # w1_shifted.plot(label=f'w1_shifted')\n",
    "    # w2_shifted.plot(label=f'w2_shifted')\n",
    "    # plt.legend()\n",
    "    plt.figure(figsize=(15, 5))\n",
    "    diff.plot(label=f'diff')\n",
    "    smoothed_series = pd.Series(smoothed, index=diff.index)\n",
    "    print(smoothed_series)\n",
    "    plt.plot(smoothed_series, label='smoothed')\n",
    "    plt.legend()\n",
    "    plt.figure(figsize=(15, 5))\n",
    "    # plot the same but without dates on X axis\n",
    "    plt.plot(diff.values, label='diff')\n",
    "    plt.plot(smoothed, label='smoothed')\n",
    "    plt.legend()\n",
    "    plt.figure(figsize=(15, 5))\n",
    "    plt.plot(smoothed, label='smoothed')\n",
    "    plt.legend()\n",
    "    plt.figure(figsize=(15, 5))\n",
    "    plt.plot(diff.values - smoothed, label='diff - smoothed')\n",
    "    plt.legend()\n",
    "    plt.show()\n",
    "\n",
    "# Use interact to create the interactive plot\n",
    "interact(update_plot2, n=n_slider, w1=w1_slider, w2=w2_slider, cutoff=cutoff_slider)"
   ]
  },
  {
   "cell_type": "code",
   "execution_count": null,
   "metadata": {},
   "outputs": [],
   "source": []
  }
 ],
 "metadata": {
  "kernelspec": {
   "display_name": "venv",
   "language": "python",
   "name": "python3"
  },
  "language_info": {
   "codemirror_mode": {
    "name": "ipython",
    "version": 3
   },
   "file_extension": ".py",
   "mimetype": "text/x-python",
   "name": "python",
   "nbconvert_exporter": "python",
   "pygments_lexer": "ipython3",
   "version": "3.10.12"
  }
 },
 "nbformat": 4,
 "nbformat_minor": 2
}
