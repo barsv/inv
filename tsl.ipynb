{
 "cells": [
  {
   "cell_type": "code",
   "execution_count": null,
   "metadata": {},
   "outputs": [],
   "source": [
    "# этот скрипт недоделан.\n",
    "\n",
    "# этот скрипт подбирает оптимальный стоплосс для рандомного трейда."
   ]
  },
  {
   "cell_type": "code",
   "execution_count": 145,
   "metadata": {},
   "outputs": [],
   "source": [
    "#%pip install numpy\n",
    "#%pip install pandas\n",
    "#%pip install mplfinance\n",
    "#%pip install matplotlib\n",
    "#%pip install ta\n",
    "#%pip install pandas_ta"
   ]
  },
  {
   "cell_type": "code",
   "execution_count": 146,
   "metadata": {},
   "outputs": [],
   "source": [
    "import numpy as np\n",
    "import pandas as pd\n",
    "import mplfinance as mpf\n",
    "import matplotlib.pyplot as plt\n",
    "#import ta # https://github.com/bukosabino/ta\n",
    "import pandas_ta as ta"
   ]
  },
  {
   "cell_type": "code",
   "execution_count": 147,
   "metadata": {},
   "outputs": [],
   "source": [
    "# параметры:\n",
    "symbol = 'BTCUSD'\n",
    "charts_at = '2024-05-29 08:10' # время окончания графика"
   ]
  },
  {
   "cell_type": "code",
   "execution_count": 149,
   "metadata": {},
   "outputs": [],
   "source": [
    "def get_df(date_time, period, length = 1000):\n",
    "    \"\"\"\n",
    "    Загрузить датафрейм с диска и взять с него слайс.\n",
    "    \n",
    "    Параметры:\n",
    "    date_time : string\n",
    "        Например, 2024-05-29 08:10. Время не обязательно должно попадать в точку графика (будет взята ближайшая точка).\n",
    "    period : string\n",
    "        Допустимые значения: '5S' - 5 секунд, '1T' - 1 minute, '5T' - 5 minutes, '1H' - 1 hour, 'D' - 1 day.\n",
    "    length : number\n",
    "        Сколько точек надо в датафрейме.\n",
    "    \"\"\"\n",
    "    if period == '5S': # пятисекундные свечи\n",
    "        # '2024-05-29 08:10' -> '2024-05-29'\n",
    "        date = date_time[:10]\n",
    "        filename = f'npz/{symbol}/{symbol}{date}.npz'\n",
    "    else:\n",
    "        filename = f'npz/{symbol}_{period}.npz'\n",
    "\n",
    "    # зачитывание в формате numpy\n",
    "    data = np.load(filename, allow_pickle=True)['data']\n",
    "    # преобразование в формат pandas\n",
    "    df = pd.DataFrame(data, columns=['timestamp', 'open', 'high', 'low', 'close', 'volume'])\n",
    "\n",
    "    # Преобразование 'timestamp' в datetime и установка его как индекс DataFrame\n",
    "    df['timestamp'] = pd.to_datetime(df['timestamp'])\n",
    "    df.set_index('timestamp', inplace=True)\n",
    "\n",
    "    # Преобразование всех столбцов с ценами и объемом в числовой формат\n",
    "    for column in ['open', 'high', 'low', 'close', 'volume']:\n",
    "        df[column] = pd.to_numeric(df[column], errors='coerce')\n",
    "\n",
    "    # поиск интересной точки.\n",
    "    date_to_find = date_to_find = pd.Timestamp(date_time)\n",
    "    index_position = df.index.get_indexer([date_to_find], method='nearest')[0]\n",
    "    # беру часть точек, чтобы не напрягать либу технического анализа большим количеством точек.\n",
    "    df = df[index_position-length:index_position]\n",
    "    return df"
   ]
  },
  {
   "cell_type": "code",
   "execution_count": 150,
   "metadata": {},
   "outputs": [],
   "source": [
    "df = get_df(charts_at, '1T')"
   ]
  },
  {
   "cell_type": "code",
   "execution_count": null,
   "metadata": {},
   "outputs": [],
   "source": []
  }
 ],
 "metadata": {
  "kernelspec": {
   "display_name": "venv",
   "language": "python",
   "name": "python3"
  },
  "language_info": {
   "codemirror_mode": {
    "name": "ipython",
    "version": 3
   },
   "file_extension": ".py",
   "mimetype": "text/x-python",
   "name": "python",
   "nbconvert_exporter": "python",
   "pygments_lexer": "ipython3",
   "version": "3.10.12"
  }
 },
 "nbformat": 4,
 "nbformat_minor": 2
}
